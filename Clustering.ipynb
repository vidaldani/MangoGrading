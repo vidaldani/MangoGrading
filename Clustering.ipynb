{
 "cells": [
  {
   "cell_type": "markdown",
   "metadata": {},
   "source": [
    "<img src=https://api-manager.universia.net/coreplatform-document-management/api/document-management/public/6ra7ymjkfi64845 width=\"300\" align=\"left\">\n",
    "<br />\n",
    "\n",
    "# Aprendizaje automático I\n",
    "#### <font color=green>*Máster en Informática Industrial y Robótica*</font>"
   ]
  },
  {
   "cell_type": "markdown",
   "metadata": {},
   "source": [
    "Daniel Vidal Soroa  \n",
    "Juan Diego Peña "
   ]
  },
  {
   "cell_type": "markdown",
   "metadata": {},
   "source": [
    "## Clasificación de mangos en tres clases según su presencia para la exportación, comercio local o procesamiento industrial"
   ]
  },
  {
   "cell_type": "markdown",
   "metadata": {},
   "source": [
    "#### Importación de las librerías:"
   ]
  },
  {
   "cell_type": "code",
   "execution_count": 12,
   "metadata": {},
   "outputs": [],
   "source": [
    "import os\n",
    "import time\n",
    "import numpy as np\n",
    "import pandas as pd\n",
    "import tensorflow as tf\n",
    "import multiprocessing as mp\n",
    "import matplotlib.pyplot as plt\n",
    "from datetime import datetime\n",
    "from keras.applications import vgg16, resnet, xception, inception_v3\n",
    "from sklearn.decomposition import PCA\n",
    "from sklearn.metrics import ConfusionMatrixDisplay,confusion_matrix, accuracy_score\n",
    "from tensorflow.keras.preprocessing import image\n",
    "from tensorflow.keras.preprocessing.image import img_to_array\n",
    "from skimage.feature import hog\n",
    "from sklearn.cluster import KMeans, SpectralClustering\n",
    "from scipy.cluster.hierarchy import ward, fcluster, dendrogram, linkage\n",
    "from tqdm import tqdm\n",
    "import shutil\n",
    "\n",
    "IMG_SIZE = 120\n",
    "\n",
    "# Función para añadir datos a una tebla de excel\n",
    "def append_data_to_excel(excel_name, df):\n",
    "    with pd.ExcelWriter(excel_name,\n",
    "        mode=\"a\",\n",
    "        engine=\"openpyxl\",\n",
    "        if_sheet_exists=\"overlay\") as writer:\n",
    "        start_row = 0\n",
    "        header = True\n",
    "        if os.path.exists(excel_name):\n",
    "            df_source = pd.read_excel(excel_name, engine=\"openpyxl\").iloc[:,1:]\n",
    "        if df_source is not None:\n",
    "            n, m = df_source.shape\n",
    "            header = False if n > 0 else True\n",
    "            start_row = n + 1 if n > 0 else n\n",
    "        \n",
    "        df.to_excel(writer, sheet_name=\"Sheet1\",startcol=0, startrow = start_row, header=header)\n",
    "\n",
    "def get_base_model(name):\n",
    "    if name == 'vgg':\n",
    "        return vgg16.VGG16(include_top=False, weights='imagenet', input_shape=(IMG_SIZE,IMG_SIZE,3))\n",
    "    elif name == 'inception':\n",
    "        return inception_v3.InceptionV3(include_top=False, weights='imagenet', input_shape=(IMG_SIZE,IMG_SIZE,3))\n",
    "    elif name == 'xception':\n",
    "        return xception.Xception(include_top=False, weights='imagenet', input_shape=(IMG_SIZE,IMG_SIZE,3))\n",
    "    else: return resnet.ResNet50(include_top=False, weights='imagenet', input_shape=(IMG_SIZE,IMG_SIZE,3))\n",
    "\n",
    "def preprocess_data(name, x):\n",
    "    if name == 'vgg':\n",
    "        return vgg16.preprocess_input(x)\n",
    "    elif name == 'inception':\n",
    "        return inception_v3.preprocess_input(x)\n",
    "    elif name == 'xception':\n",
    "        return xception.preprocess_input(x)\n",
    "    else: return resnet.preprocess_input(x)\n"
   ]
  },
  {
   "cell_type": "code",
   "execution_count": null,
   "metadata": {},
   "outputs": [],
   "source": [
    "def image_feature(names, path):\n",
    "    model = get_base_model(model_name)\n",
    "    features = []\n",
    "    img_name = []\n",
    "    for name in tqdm(names):\n",
    "        fname = path +'/'+ name\n",
    "        img = image.load_img(fname,target_size=(IMG_SIZE, IMG_SIZE))\n",
    "        x = img_to_array(img)\n",
    "        x = np.expand_dims(x,axis=0)\n",
    "        feat = model.predict(x)\n",
    "        feat = feat.flatten()\n",
    "        features.append(feat)\n",
    "        img_name.append(name)\n",
    "    return features,img_name\n",
    "\n",
    "def hog_feature(names, path):\n",
    "    orient = 8\n",
    "    ppc = 8\n",
    "    cpb = 3\n",
    "    features = []\n",
    "    img_name = []\n",
    "    for name in tqdm(names):\n",
    "        fname = path +'/'+ name\n",
    "        img = image.load_img(fname,target_size=(IMG_SIZE, IMG_SIZE))\n",
    "        x = img_to_array(img)\n",
    "        fd = hog(x, orientations=orient, pixels_per_cell=(ppc, ppc),\n",
    "                    cells_per_block=(cpb, cpb), channel_axis=2)\n",
    "        feat = fd.flatten()\n",
    "        features.append(feat)\n",
    "        img_name.append(name)\n",
    "    return features,img_name\n",
    "\n",
    "def rgb_feature(names, path):\n",
    "    features = []\n",
    "    img_name = []\n",
    "    for name in tqdm(names):\n",
    "        fname=path +'/'+ name\n",
    "        img=image.load_img(fname,target_size=(IMG_SIZE, IMG_SIZE))\n",
    "        x = img_to_array(img)\n",
    "        x = np.expand_dims(x,axis=0)\n",
    "        feat = x.flatten()\n",
    "        features.append(feat)\n",
    "        img_name.append(name)\n",
    "    return features,img_name\n",
    "\n",
    "def pca_feature(names, path):\n",
    "    img_name = []\n",
    "    X = []\n",
    "    for name in tqdm(names):\n",
    "        fname = path +'/'+ name\n",
    "        img = image.load_img(fname,target_size=(IMG_SIZE, IMG_SIZE))\n",
    "        x = img_to_array(img)\n",
    "        X.append(x.flatten())\n",
    "        img_name.append(name)\n",
    "    \n",
    "    pca = PCA(n_components = min(len(X), len(X[0]))-1)\n",
    "    pca_features = pca.fit_transform(X)\n",
    "    return pca_features,img_name\n",
    "\n",
    "def save_to_folder():\n",
    "    # Made folder to seperate images\n",
    "    clusterI_path = \"./Dataset/Grading_dataset/cluster I\"\n",
    "    clusterII_path = \"./Dataset/Grading_dataset/cluster II\"\n",
    "    clusterIII_path = \"./Dataset/Grading_dataset/cluster III\"\n",
    "    # Images will be seperated according to cluster they belong\n",
    "    for i in range(len(image_cluster)):\n",
    "        if image_cluster['clusterid'][i]==0:\n",
    "            shutil.copy(os.path.join(input_cluster_path, image_cluster['image'][i]), clusterI_path)\n",
    "        elif image_cluster['clusterid'][i]==1:\n",
    "            shutil.copy(os.path.join(input_cluster_path, image_cluster['image'][i]), clusterII_path)\n",
    "        else:\n",
    "            shutil.copy(os.path.join(input_cluster_path, image_cluster['image'][i]), clusterIII_path)"
   ]
  },
  {
   "cell_type": "markdown",
   "metadata": {},
   "source": [
    "#### Lectura de los datos:"
   ]
  },
  {
   "cell_type": "code",
   "execution_count": 16,
   "metadata": {},
   "outputs": [
    {
     "name": "stderr",
     "output_type": "stream",
     "text": [
      "100%|██████████| 600/600 [00:05<00:00, 114.59it/s]\n"
     ]
    },
    {
     "data": {
      "image/png": "[encoded data removed]",
      "text/plain": [
       "<Figure size 864x576 with 1 Axes>"
      ]
     },
     "metadata": {
      "needs_background": "light"
     },
     "output_type": "display_data"
    },
    {
     "name": "stdout",
     "output_type": "stream",
     "text": [
      "0.41\n"
     ]
    },
    {
     "data": {
      "text/plain": [
       "<sklearn.metrics._plot.confusion_matrix.ConfusionMatrixDisplay at 0x1cb4e84b940>"
      ]
     },
     "execution_count": 16,
     "metadata": {},
     "output_type": "execute_result"
    },
    {
     "data": {
      "image/png": "[encoded data removed]",
      "text/plain": [
       "<Figure size 432x288 with 2 Axes>"
      ]
     },
     "metadata": {
      "needs_background": "light"
     },
     "output_type": "display_data"
    }
   ],
   "source": [
    "# Function to Extract features from the images\n",
    "model_name = 'pca'\n",
    "multiprocess = False\n",
    "\n",
    "# Leer los nombres de las imágenes para importarlas\n",
    "input_cluster_path = \"./Dataset/Grading_dataset/Cluster\"\n",
    "_names = os.listdir(input_cluster_path)\n",
    "\n",
    "tic = time.perf_counter()\n",
    "if model_name == 'rgb':\n",
    "    img_features,img_name = rgb_feature(_names, input_cluster_path)\n",
    "elif model_name == 'hog':\n",
    "    img_features,img_name = hog_feature(_names, input_cluster_path)\n",
    "elif model_name == 'pca':\n",
    "    img_features,img_name = pca_feature(_names, input_cluster_path)\n",
    "else:\n",
    "    img_features,img_name = image_feature(_names, input_cluster_path)\n",
    "\n",
    "cluster_method = \"kmeans\"\n",
    "k = 3\n",
    "#Creating Clusters\n",
    "if cluster_method == \"kmeans\":\n",
    "    clusters = KMeans(k, random_state = 42)\n",
    "    clusters.fit(img_features)\n",
    "    toc = time.perf_counter()\n",
    "    eval_time = round((toc-tic), 2)\n",
    "\n",
    "    image_cluster = pd.DataFrame(img_name,columns=['image'])\n",
    "    image_cluster[\"clusterid\"] = clusters.labels_\n",
    "    image_cluster \n",
    "    y = clusters.labels_\n",
    "    t = np.concatenate((np.ones(200), 2 * np.ones(200), np.zeros(200)), axis = 0)\n",
    "elif cluster_method == \"decision_tree\":\n",
    "    Z = linkage(img_features, 'ward')\n",
    "    fig = plt.figure(figsize=(12, 8))\n",
    "    dn = dendrogram(Z)\n",
    "    plt.show()\n",
    "    labels = fcluster(Z, t = k, criterion='maxclust')\n",
    "\n",
    "    image_cluster = pd.DataFrame(img_name,columns=['image'])\n",
    "    image_cluster[\"clusterid\"] = labels\n",
    "    image_cluster \n",
    "\n",
    "    toc = time.perf_counter()\n",
    "    y = labels\n",
    "    t = np.concatenate((np.ones(200), 2 * np.ones(200), 3 * np.ones(200)), axis = 0)\n",
    "elif cluster_method == \"spectral\":\n",
    "    clusters = SpectralClustering(n_clusters = k, random_state = 40, assign_labels='discretize')\n",
    "    clusters.fit(img_features)\n",
    "    toc = time.perf_counter()\n",
    "    eval_time = round((toc-tic), 2)\n",
    "\n",
    "    image_cluster = pd.DataFrame(img_name,columns=['image'])\n",
    "    image_cluster[\"clusterid\"] = clusters.labels_\n",
    "    image_cluster \n",
    "    y = clusters.labels_\n",
    "    t = np.concatenate((np.ones(200), 2 * np.ones(200), np.zeros(200)), axis = 0)\n",
    "\n",
    "Clases=['Clase I','Clase II','Clase extra']\n",
    "accuracy = round(accuracy_score(t,y),2)\n",
    "print(round(accuracy_score(t,y),2))\n",
    "cm = confusion_matrix(t, y)\n",
    "disp = ConfusionMatrixDisplay(confusion_matrix=cm,display_labels=Clases)\n",
    "disp.plot()\n"
   ]
  },
  {
   "cell_type": "markdown",
   "metadata": {},
   "source": [
    "#### Se añaden los resulados obtenidos al documento de excel"
   ]
  },
  {
   "cell_type": "code",
   "execution_count": 17,
   "metadata": {},
   "outputs": [],
   "source": [
    "eval_time = round((toc-tic), 2)\n",
    "test_data = {'base model':model_name,\n",
    "        'algorithm': cluster_method,\n",
    "        'accuracy': accuracy,\n",
    "        'eval time': eval_time,\n",
    "        'multiprocess': multiprocess\n",
    "        }\n",
    "\n",
    "now = datetime.now() # current date and time       \n",
    "time_ = {now.strftime(\"%d/%m/%Y %H:%M:%S\")}\n",
    "df = pd.DataFrame(test_data, index = time_)\n",
    "excel_name = \"./informe/tables/Clustering.xlsx\"\n",
    "append_data_to_excel(excel_name, df)"
   ]
  }
 ],
 "metadata": {
  "interpreter": {
   "hash": "92d1c8824dd9ed58f2e2fe7d35df9188f2132fcf69312c535170a29d4fbf29a8"
  },
  "kernelspec": {
   "display_name": "Python 3.9.7 ('base')",
   "language": "python",
   "name": "python3"
  },
  "language_info": {
   "codemirror_mode": {
    "name": "ipython",
    "version": 3
   },
   "file_extension": ".py",
   "mimetype": "text/x-python",
   "name": "python",
   "nbconvert_exporter": "python",
   "pygments_lexer": "ipython3",
   "version": "3.9.7"
  }
 },
 "nbformat": 4,
 "nbformat_minor": 2
}
