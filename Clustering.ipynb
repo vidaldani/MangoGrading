{
 "cells": [
  {
   "cell_type": "markdown",
   "metadata": {},
   "source": [
    "<img src=https://api-manager.universia.net/coreplatform-document-management/api/document-management/public/6ra7ymjkfi64845 width=\"300\" align=\"left\">\n",
    "<br />\n",
    "\n",
    "# Aprendizaje automático I\n",
    "#### <font color=green>*Máster en Informática Industrial y Robótica*</font>"
   ]
  },
  {
   "cell_type": "markdown",
   "metadata": {},
   "source": [
    "Daniel Vidal Soroa  \n",
    "Juan Diego Peña "
   ]
  },
  {
   "cell_type": "markdown",
   "metadata": {},
   "source": [
    "## Clasificación de mangos en tres clases según su presencia para la exportación, comercio local o procesamiento industrial"
   ]
  },
  {
   "cell_type": "markdown",
   "metadata": {},
   "source": [
    "#### Importación de las librerías:"
   ]
  },
  {
   "cell_type": "code",
   "execution_count": 2,
   "metadata": {},
   "outputs": [],
   "source": [
    "import os\n",
    "import time\n",
    "import numpy as np\n",
    "import pandas as pd\n",
    "import tensorflow as tf\n",
    "import matplotlib.pyplot as plt\n",
    "from datetime import datetime\n",
    "from keras.models import Sequential\n",
    "from keras.applications import vgg16, mobilenet, resnet, xception, inception_v3\n",
    "from keras.layers import Flatten, Dense, BatchNormalization, Dropout\n",
    "from skimage.io import imread\n",
    "from skimage.transform import resize\n",
    "from sklearn.model_selection import train_test_split\n",
    "from sklearn.metrics import ConfusionMatrixDisplay,confusion_matrix, accuracy_score\n",
    "from tensorflow.keras.preprocessing import image\n",
    "from tensorflow.keras.preprocessing.image import img_to_array\n",
    "from sklearn.cluster import KMeans\n",
    "from random import seed\n",
    "from random import randint\n",
    "from keras import layers\n",
    "from tqdm import tqdm\n",
    "import shutil\n",
    "\n",
    "IMG_SIZE = 120\n",
    "\n",
    "# Función para añadir datos a una tebla de excel\n",
    "def append_data_to_excel(excel_name, df):\n",
    "    with pd.ExcelWriter(excel_name,\n",
    "        mode=\"a\",\n",
    "        engine=\"openpyxl\",\n",
    "        if_sheet_exists=\"overlay\") as writer:\n",
    "        start_row = 0\n",
    "        header = True\n",
    "        if os.path.exists(excel_name):\n",
    "            df_source = pd.read_excel(excel_name, engine=\"openpyxl\").iloc[:,1:]\n",
    "        if df_source is not None:\n",
    "            n, m = df_source.shape\n",
    "            header = False if n > 0 else True\n",
    "            start_row = n + 1 if n > 0 else n\n",
    "        \n",
    "        df.to_excel(writer, sheet_name=\"Sheet1\",startcol=0, startrow = start_row, header=header)\n",
    "\n",
    "def get_base_model(name):\n",
    "    if name == 'vgg':\n",
    "        return vgg16.VGG16(include_top=False, weights='imagenet', input_shape=(IMG_SIZE,IMG_SIZE,3))\n",
    "    elif name == 'inception':\n",
    "        return inception_v3.InceptionV3(include_top=False, weights='imagenet', input_shape=(IMG_SIZE,IMG_SIZE,3))\n",
    "    elif name == 'xception':\n",
    "        return xception.Xception(include_top=False, weights='imagenet', input_shape=(IMG_SIZE,IMG_SIZE,3))\n",
    "    else: return resnet.ResNet50(include_top=False, weights='imagenet', input_shape=(IMG_SIZE,IMG_SIZE,3))\n",
    "\n",
    "def preprocess_data(name, x):\n",
    "    if name == 'vgg':\n",
    "        return vgg16.preprocess_input(x)\n",
    "    elif name == 'inception':\n",
    "        return inception_v3.preprocess_input(x)\n",
    "    elif name == 'xception':\n",
    "        return xception.preprocess_input(x)\n",
    "    else: return resnet.preprocess_input(x)\n"
   ]
  },
  {
   "cell_type": "markdown",
   "metadata": {},
   "source": [
    "#### Lectura de los datos:"
   ]
  },
  {
   "cell_type": "code",
   "execution_count": 3,
   "metadata": {},
   "outputs": [
    {
     "name": "stdout",
     "output_type": "stream",
     "text": [
      "Downloading data from https://storage.googleapis.com/tensorflow/keras-applications/xception/xception_weights_tf_dim_ordering_tf_kernels_notop.h5\n",
      "83689472/83683744 [==============================] - 3s 0us/step\n",
      "83697664/83683744 [==============================] - 3s 0us/step\n"
     ]
    },
    {
     "name": "stderr",
     "output_type": "stream",
     "text": [
      "100%|██████████| 600/600 [00:57<00:00, 10.39it/s]\n"
     ]
    },
    {
     "name": "stdout",
     "output_type": "stream",
     "text": [
      "0.3\n"
     ]
    },
    {
     "data": {
      "text/plain": [
       "<sklearn.metrics._plot.confusion_matrix.ConfusionMatrixDisplay at 0x1f319a8eeb0>"
      ]
     },
     "execution_count": 3,
     "metadata": {},
     "output_type": "execute_result"
    },
    {
     "data": {
      "image/png": "[encoded data removed]",
      "text/plain": [
       "<Figure size 432x288 with 2 Axes>"
      ]
     },
     "metadata": {
      "needs_background": "light"
     },
     "output_type": "display_data"
    }
   ],
   "source": [
    "# Function to Extract features from the images\n",
    "model_name = 'xception'\n",
    "tic = time.perf_counter()\n",
    "def image_feature(names, path):\n",
    "    model = get_base_model(model_name)\n",
    "    features = [];\n",
    "    img_name = [];\n",
    "    for name in tqdm(names):\n",
    "        fname=path +'/'+ name\n",
    "        img=image.load_img(fname,target_size=(IMG_SIZE, IMG_SIZE))\n",
    "        x = img_to_array(img)\n",
    "        #x = inception_v3.preprocess_input(x)\n",
    "        x=np.expand_dims(x,axis=0)\n",
    "        feat=model.predict(x)\n",
    "        feat=feat.flatten()\n",
    "        features.append(feat)\n",
    "        img_name.append(name)\n",
    "    return features,img_name\n",
    "\n",
    "# Leer los nombres de las imágenes para importarlas\n",
    "input_cluster_path = \"./Dataset/Grading_dataset/Cluster\"\n",
    "_names = os.listdir(input_cluster_path)\n",
    "img_features,img_name=image_feature(_names, input_cluster_path)\n",
    "\n",
    "#Creating Clusters\n",
    "k = 3\n",
    "clusters = KMeans(k, random_state = 40)\n",
    "clusters.fit(img_features)\n",
    "toc = time.perf_counter()\n",
    "eval_time = round((toc-tic), 2)\n",
    "\n",
    "image_cluster = pd.DataFrame(img_name,columns=['image'])\n",
    "image_cluster[\"clusterid\"] = clusters.labels_\n",
    "image_cluster \n",
    "\n",
    "Clases=['Clase I','Clase II','Clase extra']\n",
    "y = clusters.labels_\n",
    "t = np.concatenate((np.ones(200), 2 * np.ones(200), np.zeros(200)), axis = 0)\n",
    "accuracy = round(accuracy_score(t,y),2)\n",
    "print(round(accuracy_score(t,y),2))\n",
    "cm = confusion_matrix(t, y)\n",
    "disp = ConfusionMatrixDisplay(confusion_matrix=cm,display_labels=Clases)\n",
    "disp.plot()\n"
   ]
  },
  {
   "cell_type": "markdown",
   "metadata": {},
   "source": [
    "#### Se muestra la matriz de confusión para conocer el desempeño del algoritmo"
   ]
  },
  {
   "cell_type": "code",
   "execution_count": 42,
   "metadata": {},
   "outputs": [],
   "source": [
    "test_data = {'base model':model_name,\n",
    "        'algorithm': 'KMeans',\n",
    "        'accuracy': accuracy,\n",
    "        'eval time': eval_time\n",
    "        }\n",
    "\n",
    "now = datetime.now() # current date and time       \n",
    "time_ = {now.strftime(\"%d/%m/%Y %H:%M:%S\")}\n",
    "df = pd.DataFrame(test_data, index = time_)\n",
    "excel_name = \"./informe/tables/Clustering.xlsx\"\n",
    "append_data_to_excel(excel_name, df)"
   ]
  },
  {
   "cell_type": "markdown",
   "metadata": {},
   "source": [
    "#### Se crea una carpeta para guardar cada clase"
   ]
  },
  {
   "cell_type": "code",
   "execution_count": 18,
   "metadata": {},
   "outputs": [],
   "source": [
    "# Made folder to seperate images\n",
    "clusterI_path = \"./Dataset/Grading_dataset/cluster I\"\n",
    "clusterII_path = \"./Dataset/Grading_dataset/cluster II\"\n",
    "clusterIII_path = \"./Dataset/Grading_dataset/cluster III\"\n",
    "# Images will be seperated according to cluster they belong\n",
    "for i in range(len(image_cluster)):\n",
    "    if image_cluster['clusterid'][i]==0:\n",
    "        shutil.copy(os.path.join(input_cluster_path, image_cluster['image'][i]), clusterI_path)\n",
    "    elif image_cluster['clusterid'][i]==1:\n",
    "        shutil.copy(os.path.join(input_cluster_path, image_cluster['image'][i]), clusterII_path)\n",
    "    else:\n",
    "        shutil.copy(os.path.join(input_cluster_path, image_cluster['image'][i]), clusterIII_path)"
   ]
  }
 ],
 "metadata": {
  "kernelspec": {
   "display_name": "Python 3",
   "language": "python",
   "name": "python3"
  },
  "language_info": {
   "codemirror_mode": {
    "name": "ipython",
    "version": 3
   },
   "file_extension": ".py",
   "mimetype": "text/x-python",
   "name": "python",
   "nbconvert_exporter": "python",
   "pygments_lexer": "ipython3",
   "version": "3.8.3"
  }
 },
 "nbformat": 4,
 "nbformat_minor": 2
}
