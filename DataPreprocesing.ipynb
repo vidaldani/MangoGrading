{
 "cells": [
  {
   "cell_type": "markdown",
   "metadata": {},
   "source": [
    "<img src=https://api-manager.universia.net/coreplatform-document-management/api/document-management/public/6ra7ymjkfi64845 width=\"300\" align=\"left\">\n",
    "<br />\n",
    "\n",
    "# Aprendizaje automático I\n",
    "#### <font color=green>*Máster en Informática Industrial y Robótica*</font>"
   ]
  },
  {
   "cell_type": "markdown",
   "metadata": {},
   "source": [
    "Daniel Vidal Soroa  \n",
    "Juan Diego Peña "
   ]
  },
  {
   "cell_type": "markdown",
   "metadata": {},
   "source": [
    "## Clasificación de mangos en tres clases según su presencia para la exportación, comercio local o procesamiento industrial"
   ]
  },
  {
   "cell_type": "markdown",
   "metadata": {},
   "source": [
    "#### Importación de las librerías:"
   ]
  },
  {
   "cell_type": "code",
   "execution_count": 195,
   "metadata": {},
   "outputs": [],
   "source": [
    "import os\n",
    "import numpy as np\n",
    "import pandas as pd\n",
    "import tensorflow as tf\n",
    "import matplotlib.pyplot as plt\n",
    "import scipy.stats as stats\n",
    "from statsmodels.stats.multicomp import pairwise_tukeyhsd, MultiComparison\n",
    "from sklearn.model_selection import cross_validate\n",
    "from sklearn.linear_model import LogisticRegression\n",
    "from sklearn.discriminant_analysis import LinearDiscriminantAnalysis\n",
    "from sklearn.neighbors import KNeighborsClassifier\n",
    "from sklearn.ensemble import RandomForestClassifier\n",
    "from sklearn.tree import DecisionTreeClassifier, plot_tree\n",
    "from sklearn.utils import shuffle\n",
    "from skimage.io import imread\n",
    "from skimage.transform import resize\n",
    "from sklearn.metrics import roc_curve, auc, plot_confusion_matrix, classification_report\n",
    "from sklearn.model_selection import train_test_split\n",
    "from random import seed\n",
    "from random import randint\n",
    "from tensorflow import keras\n",
    "from keras import layers, models, utils, datasets\n",
    "from keras import utils\n",
    "from keras.preprocessing.image import ImageDataGenerator"
   ]
  },
  {
   "cell_type": "markdown",
   "metadata": {},
   "source": [
    "#### Función para mostrar lista de imágenes en escala de grises"
   ]
  },
  {
   "cell_type": "code",
   "execution_count": 2,
   "metadata": {},
   "outputs": [],
   "source": [
    "def show_row_of_gray_images(fig_width, *images):\n",
    "    plt.figure(figsize=(fig_width, fig_width))\n",
    "    images_count = len(images)\n",
    "    index = 1  \n",
    "    for image in images:\n",
    "        plt.subplot(1, images_count, index)\n",
    "        plt.imshow(image, cmap='gray')\n",
    "        plt.axis('off')\n",
    "        index+=1"
   ]
  },
  {
   "cell_type": "code",
   "execution_count": 111,
   "metadata": {},
   "outputs": [],
   "source": [
    "IMG_SIZE = 32\n",
    "\n",
    "data_augmentation = tf.keras.Sequential([\n",
    "  layers.RandomFlip(\"horizontal_and_vertical\")\n",
    "])\n"
   ]
  },
  {
   "cell_type": "markdown",
   "metadata": {},
   "source": [
    "#### Lectura de los datos:"
   ]
  },
  {
   "cell_type": "code",
   "execution_count": 95,
   "metadata": {},
   "outputs": [],
   "source": [
    "# seed random number generator\n",
    "seed(1)\n",
    "\n",
    "# Dimensión de entrada de las imágenes \n",
    "h = IMG_SIZE\n",
    "w = IMG_SIZE\n",
    "\n",
    "\n",
    "# Leer los nombres de las imágenes para importarlas\n",
    "input_class1_path = \"./Dataset/Grading_dataset/Class_I\"\n",
    "class1_names = os.listdir(input_class1_path)\n",
    "input_class2_path = \"./Dataset/Grading_dataset/Class_II\"\n",
    "class2_names = os.listdir(input_class2_path)\n",
    "input_classex_path = \"./Dataset/Grading_dataset/Extra_Class\"\n",
    "class3_names = os.listdir(input_classex_path)\n",
    "\n",
    "# Número de elementos en cada clase\n",
    "n = len(class1_names)\n",
    "\n",
    "# Definir listas para cargar imágenes\n",
    "class1 = np.ones([n, h, w, 3])\n",
    "class2 = np.ones([n, h, w, 3])\n",
    "class3 = np.ones([n, h, w, 3])\n",
    "\n",
    "\n",
    "\n",
    "for i in range(0, n, 1):\n",
    "    # Para cada clase, se lee una imágen, se importa\n",
    "    img = resize(imread(\"./Dataset/Grading_dataset/Class_I/\" + class1_names[i]), (h, w))\n",
    "    class1[i] = img  \n",
    "    img = resize(imread(\"./Dataset/Grading_dataset/Class_II/\" + class2_names[i]), (h, w))\n",
    "    class2[i] = img \n",
    "    img = resize(imread(\"./Dataset/Grading_dataset/Extra_Class/\" + class3_names[i]), (h, w))\n",
    "    class3[i] = img \n",
    "\n"
   ]
  },
  {
   "cell_type": "markdown",
   "metadata": {},
   "source": [
    "#### Se muestran una imágen aleatoria de cada clase para comprobar que se leyeron correctamente"
   ]
  },
  {
   "cell_type": "code",
   "execution_count": 105,
   "metadata": {},
   "outputs": [
    {
     "name": "stdout",
     "output_type": "stream",
     "text": [
      "158\n"
     ]
    },
    {
     "data": {
      "image/png": "[encoded data removed]",
      "text/plain": [
       "<Figure size 1152x1152 with 3 Axes>"
      ]
     },
     "metadata": {
      "needs_background": "light"
     },
     "output_type": "display_data"
    }
   ],
   "source": [
    "rn = randint(0, 200)\n",
    "print (rn)\n",
    "img_1 = class1[rn]\n",
    "img_2 = class2[rn]\n",
    "img_3 = class3[rn]    \n",
    "show_row_of_gray_images(16, img_1, img_2, img_3)"
   ]
  },
  {
   "cell_type": "markdown",
   "metadata": {},
   "source": [
    "### Aumentamos por un factor f el número de datos de cada clase"
   ]
  },
  {
   "cell_type": "code",
   "execution_count": 112,
   "metadata": {},
   "outputs": [],
   "source": [
    "f = 10\n",
    "class1_augmeted = np.zeros([n * f, h, w, 3])\n",
    "class2_augmeted = np.zeros([n * f, h, w, 3])\n",
    "class3_augmeted = np.zeros([n * f, h, w, 3])\n",
    "t1 = np.zeros(n * f)\n",
    "t2 = np.zeros(n * f)\n",
    "t3 = np.zeros(n * f)\n",
    "\n",
    "for i in range(n * f):\n",
    "    rn = randint(0, n-1)\n",
    "    img = class1[rn]\n",
    "    new_img = data_augmentation(img)\n",
    "    class1_augmeted [i] = new_img\n",
    "    t1[i] = 1\n",
    "    \n",
    "    rn = randint(0, n-1)\n",
    "    img = class2[rn]\n",
    "    new_img = data_augmentation(img)\n",
    "    class2_augmeted [i] = new_img\n",
    "    t2[i] = 2\n",
    "    \n",
    "    rn = randint(0, n-1)\n",
    "    img = class3[rn]\n",
    "    new_img = data_augmentation(img)\n",
    "    class3_augmeted [i] = new_img\n",
    "    t3[i] = 3\n"
   ]
  },
  {
   "cell_type": "markdown",
   "metadata": {},
   "source": [
    "#### Se imprimen tres imágenes para comprobar que las transformaciones han salido bien"
   ]
  },
  {
   "cell_type": "code",
   "execution_count": 114,
   "metadata": {},
   "outputs": [
    {
     "name": "stdout",
     "output_type": "stream",
     "text": [
      "478\n",
      "521\n",
      "380\n"
     ]
    },
    {
     "data": {
      "image/png": "[encoded data removed]",
      "text/plain": [
       "<Figure size 1152x1152 with 3 Axes>"
      ]
     },
     "metadata": {
      "needs_background": "light"
     },
     "output_type": "display_data"
    }
   ],
   "source": [
    "# Se imprimen tres imágenes aleatorias de los datos aumentados para comprobar que funciona    \n",
    "rn = randint(0, 2000)\n",
    "img_1 = class1_augmeted[rn]\n",
    "print (rn)\n",
    "rn = randint(0, 2000)\n",
    "print (rn)\n",
    "img_2 = class2_augmeted[rn]\n",
    "rn = randint(0, 2000)\n",
    "print (rn)\n",
    "img_3 = class3_augmeted[rn]  \n",
    "show_row_of_gray_images(16, img_1, img_2, img_3)"
   ]
  },
  {
   "cell_type": "markdown",
   "metadata": {},
   "source": [
    "#### Conformación del set de datos y declaración de las métricas de análsis:"
   ]
  },
  {
   "cell_type": "code",
   "execution_count": 220,
   "metadata": {},
   "outputs": [],
   "source": [
    "CV = 20\n",
    "# Se define el conjunto de datos de entrenamiento\n",
    "X = np.zeros([(f-1)*n*3,h*w*3])\n",
    "X[0:1800] = class3_augmeted[0:1800].reshape((f-1)*n,h*w*3)\n",
    "X[1800:3600] = class1_augmeted[0:1800].reshape((f-1)*n,h*w*3)\n",
    "X[3600:5400] = class2_augmeted[0:1800].reshape((f-1)*n,h*w*3)\n",
    "\n",
    "# extract train and val features\n",
    "X_train = np.ones([(f-1)*n*3,h,w,3])\n",
    "X_train[0:1800] = class3_augmeted[0:1800]\n",
    "X_train[1800:3600] = class1_augmeted[0:1800]\n",
    "X_train[3600:5400] = class2_augmeted[0:1800]\n",
    "\n",
    "# Se define el conjunto de datos de validación\n",
    "X_val = np.zeros([n*3, h, w, 3])\n",
    "X_val[0:200] = class3_augmeted[1800:2000]\n",
    "X_val[200:400] = class1_augmeted[1800:2000]\n",
    "X_val[400:600] = class2_augmeted[1800:2000]\n",
    "# Se definen las etiquetas de las clases\n",
    "t = np.zeros((f-1)*n*3)\n",
    "t[0:1800] = t3[0:1800]\n",
    "t[1800:3600] = t1[0:1800]\n",
    "t[3600:5400] = t2[0:1800]\n",
    "# Se definen las etiquetas de las clases para la validación\n",
    "t_val = np.zeros(n*3)\n",
    "t_val[0:200] = t3[1800:2000]\n",
    "t_val[200:400] = t1[1800:2000]\n",
    "t_val[400:600] = t2[1800:2000]\n",
    "\n",
    "scoring = ['recall_macro', 'precision_micro', 'recall_micro', 'f1_macro','accuracy']"
   ]
  },
  {
   "cell_type": "markdown",
   "metadata": {},
   "source": [
    "#### Validación cruzada con Logistic Regression"
   ]
  },
  {
   "cell_type": "code",
   "execution_count": 33,
   "metadata": {},
   "outputs": [
    {
     "name": "stderr",
     "output_type": "stream",
     "text": [
      "C:\\Users\\Daniel\\anaconda3\\lib\\site-packages\\sklearn\\linear_model\\_logistic.py:763: ConvergenceWarning: lbfgs failed to converge (status=1):\n",
      "STOP: TOTAL NO. of ITERATIONS REACHED LIMIT.\n",
      "\n",
      "Increase the number of iterations (max_iter) or scale the data as shown in:\n",
      "    https://scikit-learn.org/stable/modules/preprocessing.html\n",
      "Please also refer to the documentation for alternative solver options:\n",
      "    https://scikit-learn.org/stable/modules/linear_model.html#logistic-regression\n",
      "  n_iter_i = _check_optimize_result(\n",
      "C:\\Users\\Daniel\\anaconda3\\lib\\site-packages\\sklearn\\linear_model\\_logistic.py:763: ConvergenceWarning: lbfgs failed to converge (status=1):\n",
      "STOP: TOTAL NO. of ITERATIONS REACHED LIMIT.\n",
      "\n",
      "Increase the number of iterations (max_iter) or scale the data as shown in:\n",
      "    https://scikit-learn.org/stable/modules/preprocessing.html\n",
      "Please also refer to the documentation for alternative solver options:\n",
      "    https://scikit-learn.org/stable/modules/linear_model.html#logistic-regression\n",
      "  n_iter_i = _check_optimize_result(\n",
      "C:\\Users\\Daniel\\anaconda3\\lib\\site-packages\\sklearn\\linear_model\\_logistic.py:763: ConvergenceWarning: lbfgs failed to converge (status=1):\n",
      "STOP: TOTAL NO. of ITERATIONS REACHED LIMIT.\n",
      "\n",
      "Increase the number of iterations (max_iter) or scale the data as shown in:\n",
      "    https://scikit-learn.org/stable/modules/preprocessing.html\n",
      "Please also refer to the documentation for alternative solver options:\n",
      "    https://scikit-learn.org/stable/modules/linear_model.html#logistic-regression\n",
      "  n_iter_i = _check_optimize_result(\n",
      "C:\\Users\\Daniel\\anaconda3\\lib\\site-packages\\sklearn\\linear_model\\_logistic.py:763: ConvergenceWarning: lbfgs failed to converge (status=1):\n",
      "STOP: TOTAL NO. of ITERATIONS REACHED LIMIT.\n",
      "\n",
      "Increase the number of iterations (max_iter) or scale the data as shown in:\n",
      "    https://scikit-learn.org/stable/modules/preprocessing.html\n",
      "Please also refer to the documentation for alternative solver options:\n",
      "    https://scikit-learn.org/stable/modules/linear_model.html#logistic-regression\n",
      "  n_iter_i = _check_optimize_result(\n",
      "C:\\Users\\Daniel\\anaconda3\\lib\\site-packages\\sklearn\\linear_model\\_logistic.py:763: ConvergenceWarning: lbfgs failed to converge (status=1):\n",
      "STOP: TOTAL NO. of ITERATIONS REACHED LIMIT.\n",
      "\n",
      "Increase the number of iterations (max_iter) or scale the data as shown in:\n",
      "    https://scikit-learn.org/stable/modules/preprocessing.html\n",
      "Please also refer to the documentation for alternative solver options:\n",
      "    https://scikit-learn.org/stable/modules/linear_model.html#logistic-regression\n",
      "  n_iter_i = _check_optimize_result(\n",
      "C:\\Users\\Daniel\\anaconda3\\lib\\site-packages\\sklearn\\linear_model\\_logistic.py:763: ConvergenceWarning: lbfgs failed to converge (status=1):\n",
      "STOP: TOTAL NO. of ITERATIONS REACHED LIMIT.\n",
      "\n",
      "Increase the number of iterations (max_iter) or scale the data as shown in:\n",
      "    https://scikit-learn.org/stable/modules/preprocessing.html\n",
      "Please also refer to the documentation for alternative solver options:\n",
      "    https://scikit-learn.org/stable/modules/linear_model.html#logistic-regression\n",
      "  n_iter_i = _check_optimize_result(\n",
      "C:\\Users\\Daniel\\anaconda3\\lib\\site-packages\\sklearn\\linear_model\\_logistic.py:763: ConvergenceWarning: lbfgs failed to converge (status=1):\n",
      "STOP: TOTAL NO. of ITERATIONS REACHED LIMIT.\n",
      "\n",
      "Increase the number of iterations (max_iter) or scale the data as shown in:\n",
      "    https://scikit-learn.org/stable/modules/preprocessing.html\n",
      "Please also refer to the documentation for alternative solver options:\n",
      "    https://scikit-learn.org/stable/modules/linear_model.html#logistic-regression\n",
      "  n_iter_i = _check_optimize_result(\n",
      "C:\\Users\\Daniel\\anaconda3\\lib\\site-packages\\sklearn\\linear_model\\_logistic.py:763: ConvergenceWarning: lbfgs failed to converge (status=1):\n",
      "STOP: TOTAL NO. of ITERATIONS REACHED LIMIT.\n",
      "\n",
      "Increase the number of iterations (max_iter) or scale the data as shown in:\n",
      "    https://scikit-learn.org/stable/modules/preprocessing.html\n",
      "Please also refer to the documentation for alternative solver options:\n",
      "    https://scikit-learn.org/stable/modules/linear_model.html#logistic-regression\n",
      "  n_iter_i = _check_optimize_result(\n",
      "C:\\Users\\Daniel\\anaconda3\\lib\\site-packages\\sklearn\\linear_model\\_logistic.py:763: ConvergenceWarning: lbfgs failed to converge (status=1):\n",
      "STOP: TOTAL NO. of ITERATIONS REACHED LIMIT.\n",
      "\n",
      "Increase the number of iterations (max_iter) or scale the data as shown in:\n",
      "    https://scikit-learn.org/stable/modules/preprocessing.html\n",
      "Please also refer to the documentation for alternative solver options:\n",
      "    https://scikit-learn.org/stable/modules/linear_model.html#logistic-regression\n",
      "  n_iter_i = _check_optimize_result(\n",
      "C:\\Users\\Daniel\\anaconda3\\lib\\site-packages\\sklearn\\linear_model\\_logistic.py:763: ConvergenceWarning: lbfgs failed to converge (status=1):\n",
      "STOP: TOTAL NO. of ITERATIONS REACHED LIMIT.\n",
      "\n",
      "Increase the number of iterations (max_iter) or scale the data as shown in:\n",
      "    https://scikit-learn.org/stable/modules/preprocessing.html\n",
      "Please also refer to the documentation for alternative solver options:\n",
      "    https://scikit-learn.org/stable/modules/linear_model.html#logistic-regression\n",
      "  n_iter_i = _check_optimize_result(\n",
      "C:\\Users\\Daniel\\anaconda3\\lib\\site-packages\\sklearn\\linear_model\\_logistic.py:763: ConvergenceWarning: lbfgs failed to converge (status=1):\n",
      "STOP: TOTAL NO. of ITERATIONS REACHED LIMIT.\n",
      "\n",
      "Increase the number of iterations (max_iter) or scale the data as shown in:\n",
      "    https://scikit-learn.org/stable/modules/preprocessing.html\n",
      "Please also refer to the documentation for alternative solver options:\n",
      "    https://scikit-learn.org/stable/modules/linear_model.html#logistic-regression\n",
      "  n_iter_i = _check_optimize_result(\n",
      "C:\\Users\\Daniel\\anaconda3\\lib\\site-packages\\sklearn\\linear_model\\_logistic.py:763: ConvergenceWarning: lbfgs failed to converge (status=1):\n",
      "STOP: TOTAL NO. of ITERATIONS REACHED LIMIT.\n",
      "\n",
      "Increase the number of iterations (max_iter) or scale the data as shown in:\n",
      "    https://scikit-learn.org/stable/modules/preprocessing.html\n",
      "Please also refer to the documentation for alternative solver options:\n",
      "    https://scikit-learn.org/stable/modules/linear_model.html#logistic-regression\n",
      "  n_iter_i = _check_optimize_result(\n",
      "C:\\Users\\Daniel\\anaconda3\\lib\\site-packages\\sklearn\\linear_model\\_logistic.py:763: ConvergenceWarning: lbfgs failed to converge (status=1):\n",
      "STOP: TOTAL NO. of ITERATIONS REACHED LIMIT.\n",
      "\n",
      "Increase the number of iterations (max_iter) or scale the data as shown in:\n",
      "    https://scikit-learn.org/stable/modules/preprocessing.html\n",
      "Please also refer to the documentation for alternative solver options:\n",
      "    https://scikit-learn.org/stable/modules/linear_model.html#logistic-regression\n",
      "  n_iter_i = _check_optimize_result(\n",
      "C:\\Users\\Daniel\\anaconda3\\lib\\site-packages\\sklearn\\linear_model\\_logistic.py:763: ConvergenceWarning: lbfgs failed to converge (status=1):\n",
      "STOP: TOTAL NO. of ITERATIONS REACHED LIMIT.\n",
      "\n",
      "Increase the number of iterations (max_iter) or scale the data as shown in:\n",
      "    https://scikit-learn.org/stable/modules/preprocessing.html\n",
      "Please also refer to the documentation for alternative solver options:\n",
      "    https://scikit-learn.org/stable/modules/linear_model.html#logistic-regression\n",
      "  n_iter_i = _check_optimize_result(\n",
      "C:\\Users\\Daniel\\anaconda3\\lib\\site-packages\\sklearn\\linear_model\\_logistic.py:763: ConvergenceWarning: lbfgs failed to converge (status=1):\n",
      "STOP: TOTAL NO. of ITERATIONS REACHED LIMIT.\n",
      "\n",
      "Increase the number of iterations (max_iter) or scale the data as shown in:\n",
      "    https://scikit-learn.org/stable/modules/preprocessing.html\n",
      "Please also refer to the documentation for alternative solver options:\n",
      "    https://scikit-learn.org/stable/modules/linear_model.html#logistic-regression\n",
      "  n_iter_i = _check_optimize_result(\n",
      "C:\\Users\\Daniel\\anaconda3\\lib\\site-packages\\sklearn\\linear_model\\_logistic.py:763: ConvergenceWarning: lbfgs failed to converge (status=1):\n",
      "STOP: TOTAL NO. of ITERATIONS REACHED LIMIT.\n",
      "\n",
      "Increase the number of iterations (max_iter) or scale the data as shown in:\n",
      "    https://scikit-learn.org/stable/modules/preprocessing.html\n",
      "Please also refer to the documentation for alternative solver options:\n",
      "    https://scikit-learn.org/stable/modules/linear_model.html#logistic-regression\n",
      "  n_iter_i = _check_optimize_result(\n",
      "C:\\Users\\Daniel\\anaconda3\\lib\\site-packages\\sklearn\\linear_model\\_logistic.py:763: ConvergenceWarning: lbfgs failed to converge (status=1):\n",
      "STOP: TOTAL NO. of ITERATIONS REACHED LIMIT.\n",
      "\n",
      "Increase the number of iterations (max_iter) or scale the data as shown in:\n",
      "    https://scikit-learn.org/stable/modules/preprocessing.html\n",
      "Please also refer to the documentation for alternative solver options:\n",
      "    https://scikit-learn.org/stable/modules/linear_model.html#logistic-regression\n",
      "  n_iter_i = _check_optimize_result(\n",
      "C:\\Users\\Daniel\\anaconda3\\lib\\site-packages\\sklearn\\linear_model\\_logistic.py:763: ConvergenceWarning: lbfgs failed to converge (status=1):\n",
      "STOP: TOTAL NO. of ITERATIONS REACHED LIMIT.\n",
      "\n",
      "Increase the number of iterations (max_iter) or scale the data as shown in:\n",
      "    https://scikit-learn.org/stable/modules/preprocessing.html\n",
      "Please also refer to the documentation for alternative solver options:\n",
      "    https://scikit-learn.org/stable/modules/linear_model.html#logistic-regression\n",
      "  n_iter_i = _check_optimize_result(\n",
      "C:\\Users\\Daniel\\anaconda3\\lib\\site-packages\\sklearn\\linear_model\\_logistic.py:763: ConvergenceWarning: lbfgs failed to converge (status=1):\n",
      "STOP: TOTAL NO. of ITERATIONS REACHED LIMIT.\n",
      "\n",
      "Increase the number of iterations (max_iter) or scale the data as shown in:\n",
      "    https://scikit-learn.org/stable/modules/preprocessing.html\n",
      "Please also refer to the documentation for alternative solver options:\n",
      "    https://scikit-learn.org/stable/modules/linear_model.html#logistic-regression\n",
      "  n_iter_i = _check_optimize_result(\n"
     ]
    },
    {
     "name": "stdout",
     "output_type": "stream",
     "text": [
      "Media del LR  :  0.8648148148148147\n"
     ]
    },
    {
     "name": "stderr",
     "output_type": "stream",
     "text": [
      "C:\\Users\\Daniel\\anaconda3\\lib\\site-packages\\sklearn\\linear_model\\_logistic.py:763: ConvergenceWarning: lbfgs failed to converge (status=1):\n",
      "STOP: TOTAL NO. of ITERATIONS REACHED LIMIT.\n",
      "\n",
      "Increase the number of iterations (max_iter) or scale the data as shown in:\n",
      "    https://scikit-learn.org/stable/modules/preprocessing.html\n",
      "Please also refer to the documentation for alternative solver options:\n",
      "    https://scikit-learn.org/stable/modules/linear_model.html#logistic-regression\n",
      "  n_iter_i = _check_optimize_result(\n"
     ]
    }
   ],
   "source": [
    "modelLR = LogisticRegression(penalty='none', solver = 'lbfgs', max_iter=10000, multi_class='multinomial')\n",
    "scoresLR = cross_validate(modelLR, X, t, cv=CV, scoring=scoring)\n",
    "print('Media del LR  : ', np.mean(scoresLR['test_accuracy']))"
   ]
  },
  {
   "cell_type": "markdown",
   "metadata": {},
   "source": [
    "#### Validación cruzada con LDA"
   ]
  },
  {
   "cell_type": "code",
   "execution_count": 75,
   "metadata": {},
   "outputs": [
    {
     "name": "stdout",
     "output_type": "stream",
     "text": [
      "Media del LDA :  0.8544444444444442\n"
     ]
    }
   ],
   "source": [
    "modelLDA = LinearDiscriminantAnalysis()\n",
    "scoresLDA = cross_validate(modelLDA, X, t, cv=CV, scoring=scoring)\n",
    "print('Media del LDA : ', np.mean(scoresLDA['test_accuracy']))"
   ]
  },
  {
   "cell_type": "markdown",
   "metadata": {},
   "source": [
    "#### Validación cruzada con KNN"
   ]
  },
  {
   "cell_type": "code",
   "execution_count": 116,
   "metadata": {},
   "outputs": [
    {
     "name": "stdout",
     "output_type": "stream",
     "text": [
      "Media del KNN :  0.6916666666666667\n"
     ]
    }
   ],
   "source": [
    "modelKNN = KNeighborsClassifier(round(np.sqrt((f-1)*n)))\n",
    "scoresKNN = cross_validate(modelKNN, X, t, cv=CV, scoring=scoring)\n",
    "print('Media del KNN : ', np.mean(scoresKNN['test_accuracy']))"
   ]
  },
  {
   "cell_type": "markdown",
   "metadata": {},
   "source": [
    "#### Validación cruzada con Random Forest"
   ]
  },
  {
   "cell_type": "code",
   "execution_count": 117,
   "metadata": {},
   "outputs": [
    {
     "name": "stdout",
     "output_type": "stream",
     "text": [
      "Media del KNN :  0.9774074074074072\n"
     ]
    }
   ],
   "source": [
    "modelRF = RandomForestClassifier(n_estimators=20, criterion='gini')\n",
    "scoresRF = cross_validate(modelRF, X, t, cv=CV, scoring=scoring)\n",
    "print('Media del KNN : ', np.mean(scoresRF['test_accuracy']))"
   ]
  },
  {
   "cell_type": "markdown",
   "metadata": {},
   "source": [
    "#### Se importa la red CNN VGG16 para utilizar su arquitectura y conocimento para resolver nuestro problema "
   ]
  },
  {
   "cell_type": "code",
   "execution_count": 118,
   "metadata": {},
   "outputs": [
    {
     "name": "stdout",
     "output_type": "stream",
     "text": [
      "Model: \"vgg16\"\n",
      "_________________________________________________________________\n",
      " Layer (type)                Output Shape              Param #   \n",
      "=================================================================\n",
      " input_4 (InputLayer)        [(None, 32, 32, 3)]       0         \n",
      "                                                                 \n",
      " block1_conv1 (Conv2D)       (None, 32, 32, 64)        1792      \n",
      "                                                                 \n",
      " block1_conv2 (Conv2D)       (None, 32, 32, 64)        36928     \n",
      "                                                                 \n",
      " block1_pool (MaxPooling2D)  (None, 16, 16, 64)        0         \n",
      "                                                                 \n",
      " block2_conv1 (Conv2D)       (None, 16, 16, 128)       73856     \n",
      "                                                                 \n",
      " block2_conv2 (Conv2D)       (None, 16, 16, 128)       147584    \n",
      "                                                                 \n",
      " block2_pool (MaxPooling2D)  (None, 8, 8, 128)         0         \n",
      "                                                                 \n",
      " block3_conv1 (Conv2D)       (None, 8, 8, 256)         295168    \n",
      "                                                                 \n",
      " block3_conv2 (Conv2D)       (None, 8, 8, 256)         590080    \n",
      "                                                                 \n",
      " block3_conv3 (Conv2D)       (None, 8, 8, 256)         590080    \n",
      "                                                                 \n",
      " block3_pool (MaxPooling2D)  (None, 4, 4, 256)         0         \n",
      "                                                                 \n",
      " block4_conv1 (Conv2D)       (None, 4, 4, 512)         1180160   \n",
      "                                                                 \n",
      " block4_conv2 (Conv2D)       (None, 4, 4, 512)         2359808   \n",
      "                                                                 \n",
      " block4_conv3 (Conv2D)       (None, 4, 4, 512)         2359808   \n",
      "                                                                 \n",
      " block4_pool (MaxPooling2D)  (None, 2, 2, 512)         0         \n",
      "                                                                 \n",
      " block5_conv1 (Conv2D)       (None, 2, 2, 512)         2359808   \n",
      "                                                                 \n",
      " block5_conv2 (Conv2D)       (None, 2, 2, 512)         2359808   \n",
      "                                                                 \n",
      " block5_conv3 (Conv2D)       (None, 2, 2, 512)         2359808   \n",
      "                                                                 \n",
      " block5_pool (MaxPooling2D)  (None, 1, 1, 512)         0         \n",
      "                                                                 \n",
      "=================================================================\n",
      "Total params: 14,714,688\n",
      "Trainable params: 14,714,688\n",
      "Non-trainable params: 0\n",
      "_________________________________________________________________\n"
     ]
    }
   ],
   "source": [
    "from keras import applications\n",
    "from keras.models import Sequential\n",
    "from keras.applications import vgg16\n",
    "from keras.layers import Conv2D, MaxPool2D, Flatten, Dense, InputLayer, BatchNormalization, Dropout\n",
    "# include top should be False to remove the softmax layer\n",
    "pretrained_model = vgg16.VGG16(include_top=False, weights='imagenet', input_shape=(32,32,3))\n",
    "pretrained_model.summary()"
   ]
  },
  {
   "cell_type": "code",
   "execution_count": 245,
   "metadata": {},
   "outputs": [],
   "source": [
    "X_train, train_target = shuffle(X_train, t, random_state=0)\n",
    "X_val, val_target = shuffle(X_val, t_val, random_state=0)\n",
    "# extract train and val features\n",
    "vgg_features_train = pretrained_model.predict(X_train)\n",
    "vgg_features_val = pretrained_model.predict(X_val)"
   ]
  },
  {
   "cell_type": "code",
   "execution_count": 234,
   "metadata": {},
   "outputs": [],
   "source": [
    "# OHE target column)\n",
    "train_target = tf.keras.utils.to_categorical(train_target)[:,1:4]\n",
    "val_target = tf.keras.utils.to_categorical(val_target)[:,1:4]"
   ]
  },
  {
   "cell_type": "code",
   "execution_count": 235,
   "metadata": {},
   "outputs": [
    {
     "name": "stdout",
     "output_type": "stream",
     "text": [
      "Model: \"sequential_12\"\n",
      "_________________________________________________________________\n",
      " Layer (type)                Output Shape              Param #   \n",
      "=================================================================\n",
      " flatten_7 (Flatten)         (None, 512)               0         \n",
      "                                                                 \n",
      " dense_14 (Dense)            (None, 100)               51300     \n",
      "                                                                 \n",
      " dropout_13 (Dropout)        (None, 100)               0         \n",
      "                                                                 \n",
      " batch_normalization_5 (Batc  (None, 100)              400       \n",
      " hNormalization)                                                 \n",
      "                                                                 \n",
      " dense_15 (Dense)            (None, 3)                 303       \n",
      "                                                                 \n",
      "=================================================================\n",
      "Total params: 52,003\n",
      "Trainable params: 51,803\n",
      "Non-trainable params: 200\n",
      "_________________________________________________________________\n"
     ]
    }
   ],
   "source": [
    "modelCNN = Sequential()\n",
    "modelCNN.add(Flatten(input_shape=(1,1,512)))\n",
    "modelCNN.add(Dense(100, activation='relu'))\n",
    "modelCNN.add(Dropout(0.5))\n",
    "modelCNN.add(BatchNormalization())\n",
    "modelCNN.add(Dense(3, activation='softmax'))\n",
    "# compile the model\n",
    "modelCNN.compile(optimizer='adam', metrics=['accuracy'], loss='categorical_crossentropy')\n",
    "modelCNN.summary()"
   ]
  },
  {
   "cell_type": "code",
   "execution_count": 237,
   "metadata": {},
   "outputs": [
    {
     "name": "stdout",
     "output_type": "stream",
     "text": [
      "Epoch 1/100\n",
      "108/108 [==============================] - 0s 4ms/step - loss: 1.1379 - accuracy: 0.3428 - val_loss: 1.1003 - val_accuracy: 0.3383\n",
      "Epoch 2/100\n",
      "108/108 [==============================] - 0s 4ms/step - loss: 1.1158 - accuracy: 0.3293 - val_loss: 1.0985 - val_accuracy: 0.3417\n",
      "Epoch 3/100\n",
      "108/108 [==============================] - 0s 4ms/step - loss: 1.1076 - accuracy: 0.3328 - val_loss: 1.0979 - val_accuracy: 0.3833\n",
      "Epoch 4/100\n",
      "108/108 [==============================] - 0s 3ms/step - loss: 1.1009 - accuracy: 0.3485 - val_loss: 1.0982 - val_accuracy: 0.3783\n",
      "Epoch 5/100\n",
      "108/108 [==============================] - 0s 4ms/step - loss: 1.1012 - accuracy: 0.3319 - val_loss: 1.0980 - val_accuracy: 0.3550\n",
      "Epoch 6/100\n",
      "108/108 [==============================] - 0s 4ms/step - loss: 1.1012 - accuracy: 0.3393 - val_loss: 1.0979 - val_accuracy: 0.3450\n",
      "Epoch 7/100\n",
      "108/108 [==============================] - 0s 4ms/step - loss: 1.1017 - accuracy: 0.3267 - val_loss: 1.0977 - val_accuracy: 0.3750\n",
      "Epoch 8/100\n",
      "108/108 [==============================] - 0s 4ms/step - loss: 1.1007 - accuracy: 0.3219 - val_loss: 1.0974 - val_accuracy: 0.3600\n",
      "Epoch 9/100\n",
      "108/108 [==============================] - 0s 4ms/step - loss: 1.1004 - accuracy: 0.3252 - val_loss: 1.0976 - val_accuracy: 0.3783\n",
      "Epoch 10/100\n",
      "108/108 [==============================] - 0s 4ms/step - loss: 1.0994 - accuracy: 0.3352 - val_loss: 1.0986 - val_accuracy: 0.3333\n",
      "Epoch 11/100\n",
      "108/108 [==============================] - 0s 4ms/step - loss: 1.1003 - accuracy: 0.3313 - val_loss: 1.0981 - val_accuracy: 0.3517\n",
      "Epoch 12/100\n",
      "108/108 [==============================] - 0s 4ms/step - loss: 1.0991 - accuracy: 0.3457 - val_loss: 1.0985 - val_accuracy: 0.3367\n",
      "Epoch 13/100\n",
      "108/108 [==============================] - 0s 4ms/step - loss: 1.0985 - accuracy: 0.3450 - val_loss: 1.0983 - val_accuracy: 0.3317\n",
      "Epoch 14/100\n",
      "108/108 [==============================] - 0s 4ms/step - loss: 1.1007 - accuracy: 0.3370 - val_loss: 1.0985 - val_accuracy: 0.3300\n",
      "Epoch 15/100\n",
      "108/108 [==============================] - 0s 4ms/step - loss: 1.0996 - accuracy: 0.3389 - val_loss: 1.0984 - val_accuracy: 0.3250\n",
      "Epoch 16/100\n",
      "108/108 [==============================] - 0s 4ms/step - loss: 1.0997 - accuracy: 0.3385 - val_loss: 1.0981 - val_accuracy: 0.3517\n",
      "Epoch 17/100\n",
      "108/108 [==============================] - 0s 4ms/step - loss: 1.0981 - accuracy: 0.3370 - val_loss: 1.0983 - val_accuracy: 0.3317\n",
      "Epoch 18/100\n",
      "108/108 [==============================] - 0s 4ms/step - loss: 1.0997 - accuracy: 0.3391 - val_loss: 1.0977 - val_accuracy: 0.3733\n",
      "Epoch 19/100\n",
      "108/108 [==============================] - 0s 4ms/step - loss: 1.0987 - accuracy: 0.3409 - val_loss: 1.0982 - val_accuracy: 0.3483\n",
      "Epoch 20/100\n",
      "108/108 [==============================] - 0s 4ms/step - loss: 1.0999 - accuracy: 0.3328 - val_loss: 1.0982 - val_accuracy: 0.3400\n",
      "Epoch 21/100\n",
      "108/108 [==============================] - 0s 4ms/step - loss: 1.0986 - accuracy: 0.3441 - val_loss: 1.0986 - val_accuracy: 0.3583\n",
      "Epoch 22/100\n",
      "108/108 [==============================] - 0s 4ms/step - loss: 1.0997 - accuracy: 0.3337 - val_loss: 1.0988 - val_accuracy: 0.3333\n",
      "Epoch 23/100\n",
      "108/108 [==============================] - 0s 4ms/step - loss: 1.0996 - accuracy: 0.3320 - val_loss: 1.0986 - val_accuracy: 0.3400\n",
      "Epoch 24/100\n",
      "108/108 [==============================] - 0s 4ms/step - loss: 1.1002 - accuracy: 0.3222 - val_loss: 1.0985 - val_accuracy: 0.3383\n",
      "Epoch 25/100\n",
      "108/108 [==============================] - 0s 3ms/step - loss: 1.0979 - accuracy: 0.3469 - val_loss: 1.0983 - val_accuracy: 0.3517\n",
      "Epoch 26/100\n",
      "108/108 [==============================] - 0s 4ms/step - loss: 1.0991 - accuracy: 0.3296 - val_loss: 1.0983 - val_accuracy: 0.3533\n",
      "Epoch 27/100\n",
      "108/108 [==============================] - 1s 6ms/step - loss: 1.0996 - accuracy: 0.3352 - val_loss: 1.0984 - val_accuracy: 0.3383\n",
      "Epoch 28/100\n",
      "108/108 [==============================] - 0s 3ms/step - loss: 1.0994 - accuracy: 0.3280 - val_loss: 1.0986 - val_accuracy: 0.3317\n",
      "Epoch 29/100\n",
      "108/108 [==============================] - 0s 4ms/step - loss: 1.0991 - accuracy: 0.3383 - val_loss: 1.0986 - val_accuracy: 0.3400\n",
      "Epoch 30/100\n",
      "108/108 [==============================] - 0s 4ms/step - loss: 1.0988 - accuracy: 0.3354 - val_loss: 1.0988 - val_accuracy: 0.3333\n",
      "Epoch 31/100\n",
      "108/108 [==============================] - 0s 3ms/step - loss: 1.0985 - accuracy: 0.3311 - val_loss: 1.0993 - val_accuracy: 0.3333\n",
      "Epoch 32/100\n",
      "108/108 [==============================] - 0s 4ms/step - loss: 1.0991 - accuracy: 0.3281 - val_loss: 1.0979 - val_accuracy: 0.3550\n",
      "Epoch 33/100\n",
      "108/108 [==============================] - 0s 4ms/step - loss: 1.0987 - accuracy: 0.3341 - val_loss: 1.0981 - val_accuracy: 0.3350\n",
      "Epoch 34/100\n",
      "108/108 [==============================] - 0s 4ms/step - loss: 1.0990 - accuracy: 0.3331 - val_loss: 1.0983 - val_accuracy: 0.3300\n",
      "Epoch 35/100\n",
      "108/108 [==============================] - 0s 3ms/step - loss: 1.0989 - accuracy: 0.3343 - val_loss: 1.0984 - val_accuracy: 0.3300\n",
      "Epoch 36/100\n",
      "108/108 [==============================] - 0s 4ms/step - loss: 1.0989 - accuracy: 0.3369 - val_loss: 1.0984 - val_accuracy: 0.3517\n",
      "Epoch 37/100\n",
      "108/108 [==============================] - 0s 4ms/step - loss: 1.0982 - accuracy: 0.3422 - val_loss: 1.0976 - val_accuracy: 0.3700\n",
      "Epoch 38/100\n",
      "108/108 [==============================] - 0s 4ms/step - loss: 1.0984 - accuracy: 0.3415 - val_loss: 1.0983 - val_accuracy: 0.3417\n",
      "Epoch 39/100\n",
      "108/108 [==============================] - 0s 4ms/step - loss: 1.0984 - accuracy: 0.3431 - val_loss: 1.0986 - val_accuracy: 0.3533\n",
      "Epoch 40/100\n",
      "108/108 [==============================] - 0s 4ms/step - loss: 1.0988 - accuracy: 0.3354 - val_loss: 1.0985 - val_accuracy: 0.3333\n",
      "Epoch 41/100\n",
      "108/108 [==============================] - 0s 4ms/step - loss: 1.0989 - accuracy: 0.3343 - val_loss: 1.0986 - val_accuracy: 0.3333\n",
      "Epoch 42/100\n",
      "108/108 [==============================] - 0s 4ms/step - loss: 1.0989 - accuracy: 0.3267 - val_loss: 1.0985 - val_accuracy: 0.3333\n",
      "Epoch 43/100\n",
      "108/108 [==============================] - 0s 4ms/step - loss: 1.0989 - accuracy: 0.3254 - val_loss: 1.0986 - val_accuracy: 0.3583\n",
      "Epoch 44/100\n",
      "108/108 [==============================] - 0s 4ms/step - loss: 1.0989 - accuracy: 0.3270 - val_loss: 1.0986 - val_accuracy: 0.3317\n",
      "Epoch 45/100\n",
      "108/108 [==============================] - 0s 4ms/step - loss: 1.0989 - accuracy: 0.3281 - val_loss: 1.0986 - val_accuracy: 0.3467\n",
      "Epoch 46/100\n",
      "108/108 [==============================] - 0s 4ms/step - loss: 1.0989 - accuracy: 0.3265 - val_loss: 1.0987 - val_accuracy: 0.3333\n",
      "Epoch 47/100\n",
      "108/108 [==============================] - 0s 4ms/step - loss: 1.0988 - accuracy: 0.3300 - val_loss: 1.0987 - val_accuracy: 0.3183\n",
      "Epoch 48/100\n",
      "108/108 [==============================] - 0s 4ms/step - loss: 1.0993 - accuracy: 0.3228 - val_loss: 1.0982 - val_accuracy: 0.3417\n",
      "Epoch 49/100\n",
      "108/108 [==============================] - 0s 4ms/step - loss: 1.0985 - accuracy: 0.3417 - val_loss: 1.0979 - val_accuracy: 0.3633\n",
      "Epoch 50/100\n",
      "108/108 [==============================] - 0s 4ms/step - loss: 1.0978 - accuracy: 0.3517 - val_loss: 1.0982 - val_accuracy: 0.3283\n",
      "Epoch 51/100\n",
      "108/108 [==============================] - 0s 4ms/step - loss: 1.0978 - accuracy: 0.3481 - val_loss: 1.0979 - val_accuracy: 0.3333\n",
      "Epoch 52/100\n",
      "108/108 [==============================] - 0s 4ms/step - loss: 1.0988 - accuracy: 0.3354 - val_loss: 1.0985 - val_accuracy: 0.3333\n",
      "Epoch 53/100\n",
      "108/108 [==============================] - 0s 4ms/step - loss: 1.0989 - accuracy: 0.3350 - val_loss: 1.0986 - val_accuracy: 0.3333\n",
      "Epoch 54/100\n",
      "108/108 [==============================] - 0s 4ms/step - loss: 1.0989 - accuracy: 0.3272 - val_loss: 1.0985 - val_accuracy: 0.3350\n",
      "Epoch 55/100\n",
      "108/108 [==============================] - 0s 4ms/step - loss: 1.0986 - accuracy: 0.3374 - val_loss: 1.0986 - val_accuracy: 0.3367\n",
      "Epoch 56/100\n",
      "108/108 [==============================] - 0s 4ms/step - loss: 1.0988 - accuracy: 0.3304 - val_loss: 1.0987 - val_accuracy: 0.3333\n",
      "Epoch 57/100\n",
      "108/108 [==============================] - 0s 4ms/step - loss: 1.0988 - accuracy: 0.3304 - val_loss: 1.0986 - val_accuracy: 0.3333\n",
      "Epoch 58/100\n",
      "108/108 [==============================] - 1s 6ms/step - loss: 1.0988 - accuracy: 0.3270 - val_loss: 1.0986 - val_accuracy: 0.3333\n",
      "Epoch 59/100\n",
      "108/108 [==============================] - 0s 4ms/step - loss: 1.0988 - accuracy: 0.3246 - val_loss: 1.0986 - val_accuracy: 0.3333\n",
      "Epoch 60/100\n",
      "108/108 [==============================] - 0s 4ms/step - loss: 1.0987 - accuracy: 0.3250 - val_loss: 1.0986 - val_accuracy: 0.3333\n",
      "Epoch 61/100\n",
      "108/108 [==============================] - 0s 4ms/step - loss: 1.0987 - accuracy: 0.3300 - val_loss: 1.0986 - val_accuracy: 0.3333\n",
      "Epoch 62/100\n",
      "108/108 [==============================] - 0s 3ms/step - loss: 1.0987 - accuracy: 0.3348 - val_loss: 1.0986 - val_accuracy: 0.3333\n",
      "Epoch 63/100\n",
      "108/108 [==============================] - 0s 4ms/step - loss: 1.0987 - accuracy: 0.3333 - val_loss: 1.0986 - val_accuracy: 0.3333\n",
      "Epoch 64/100\n",
      "108/108 [==============================] - 0s 3ms/step - loss: 1.0988 - accuracy: 0.3252 - val_loss: 1.0987 - val_accuracy: 0.3333\n",
      "Epoch 65/100\n",
      "108/108 [==============================] - 0s 4ms/step - loss: 1.0987 - accuracy: 0.3248 - val_loss: 1.0986 - val_accuracy: 0.3333\n",
      "Epoch 66/100\n",
      "108/108 [==============================] - 0s 4ms/step - loss: 1.0987 - accuracy: 0.3276 - val_loss: 1.0986 - val_accuracy: 0.3333\n",
      "Epoch 67/100\n",
      "108/108 [==============================] - 0s 4ms/step - loss: 1.0987 - accuracy: 0.3235 - val_loss: 1.0986 - val_accuracy: 0.3333\n",
      "Epoch 68/100\n",
      "108/108 [==============================] - 0s 4ms/step - loss: 1.0987 - accuracy: 0.3324 - val_loss: 1.0986 - val_accuracy: 0.3333\n",
      "Epoch 69/100\n",
      "108/108 [==============================] - 0s 4ms/step - loss: 1.0987 - accuracy: 0.3289 - val_loss: 1.0986 - val_accuracy: 0.3333\n",
      "Epoch 70/100\n",
      "108/108 [==============================] - 0s 4ms/step - loss: 1.0987 - accuracy: 0.3219 - val_loss: 1.0986 - val_accuracy: 0.3333\n",
      "Epoch 71/100\n",
      "108/108 [==============================] - 0s 4ms/step - loss: 1.0988 - accuracy: 0.3287 - val_loss: 1.0986 - val_accuracy: 0.3333\n",
      "Epoch 72/100\n",
      "108/108 [==============================] - 0s 4ms/step - loss: 1.0987 - accuracy: 0.3250 - val_loss: 1.0986 - val_accuracy: 0.3333\n",
      "Epoch 73/100\n",
      "108/108 [==============================] - 0s 4ms/step - loss: 1.0987 - accuracy: 0.3294 - val_loss: 1.0986 - val_accuracy: 0.3333\n",
      "Epoch 74/100\n",
      "108/108 [==============================] - 0s 4ms/step - loss: 1.0987 - accuracy: 0.3315 - val_loss: 1.0986 - val_accuracy: 0.3333\n",
      "Epoch 75/100\n",
      "108/108 [==============================] - 0s 4ms/step - loss: 1.0987 - accuracy: 0.3287 - val_loss: 1.0986 - val_accuracy: 0.3333\n",
      "Epoch 76/100\n",
      "108/108 [==============================] - 0s 4ms/step - loss: 1.0987 - accuracy: 0.3356 - val_loss: 1.0986 - val_accuracy: 0.3333\n",
      "Epoch 77/100\n",
      "108/108 [==============================] - 0s 4ms/step - loss: 1.0987 - accuracy: 0.3333 - val_loss: 1.0986 - val_accuracy: 0.3333\n",
      "Epoch 78/100\n",
      "108/108 [==============================] - 1s 5ms/step - loss: 1.0987 - accuracy: 0.3276 - val_loss: 1.0986 - val_accuracy: 0.3333\n",
      "Epoch 79/100\n",
      "108/108 [==============================] - 0s 4ms/step - loss: 1.0987 - accuracy: 0.3267 - val_loss: 1.0986 - val_accuracy: 0.3333\n",
      "Epoch 80/100\n",
      "108/108 [==============================] - 0s 4ms/step - loss: 1.0988 - accuracy: 0.3189 - val_loss: 1.0986 - val_accuracy: 0.3333\n",
      "Epoch 81/100\n",
      "108/108 [==============================] - 0s 4ms/step - loss: 1.0987 - accuracy: 0.3287 - val_loss: 1.0986 - val_accuracy: 0.3333\n",
      "Epoch 82/100\n",
      "108/108 [==============================] - 0s 4ms/step - loss: 1.0987 - accuracy: 0.3344 - val_loss: 1.0986 - val_accuracy: 0.3333\n",
      "Epoch 83/100\n",
      "108/108 [==============================] - 0s 4ms/step - loss: 1.0987 - accuracy: 0.3285 - val_loss: 1.0986 - val_accuracy: 0.3333\n",
      "Epoch 84/100\n",
      "108/108 [==============================] - 0s 4ms/step - loss: 1.0987 - accuracy: 0.3278 - val_loss: 1.0986 - val_accuracy: 0.3333\n",
      "Epoch 85/100\n",
      "108/108 [==============================] - 0s 4ms/step - loss: 1.0987 - accuracy: 0.3281 - val_loss: 1.0986 - val_accuracy: 0.3333\n",
      "Epoch 86/100\n",
      "108/108 [==============================] - 0s 4ms/step - loss: 1.0987 - accuracy: 0.3259 - val_loss: 1.0986 - val_accuracy: 0.3333\n",
      "Epoch 87/100\n",
      "108/108 [==============================] - 0s 4ms/step - loss: 1.0987 - accuracy: 0.3272 - val_loss: 1.0986 - val_accuracy: 0.3333\n",
      "Epoch 88/100\n",
      "108/108 [==============================] - 0s 4ms/step - loss: 1.0987 - accuracy: 0.3246 - val_loss: 1.0986 - val_accuracy: 0.3333\n",
      "Epoch 89/100\n",
      "108/108 [==============================] - 0s 4ms/step - loss: 1.0987 - accuracy: 0.3296 - val_loss: 1.0986 - val_accuracy: 0.3333\n",
      "Epoch 90/100\n",
      "108/108 [==============================] - 0s 4ms/step - loss: 1.0988 - accuracy: 0.3209 - val_loss: 1.0986 - val_accuracy: 0.3333\n",
      "Epoch 91/100\n",
      "108/108 [==============================] - 0s 4ms/step - loss: 1.0987 - accuracy: 0.3235 - val_loss: 1.0986 - val_accuracy: 0.3333\n",
      "Epoch 92/100\n",
      "108/108 [==============================] - 0s 4ms/step - loss: 1.0988 - accuracy: 0.3237 - val_loss: 1.0986 - val_accuracy: 0.3333\n",
      "Epoch 93/100\n",
      "108/108 [==============================] - 0s 4ms/step - loss: 1.0988 - accuracy: 0.3237 - val_loss: 1.0986 - val_accuracy: 0.3333\n",
      "Epoch 94/100\n",
      "108/108 [==============================] - 0s 4ms/step - loss: 1.0987 - accuracy: 0.3333 - val_loss: 1.0986 - val_accuracy: 0.3333\n",
      "Epoch 95/100\n",
      "108/108 [==============================] - 0s 4ms/step - loss: 1.0987 - accuracy: 0.3289 - val_loss: 1.0986 - val_accuracy: 0.3333\n",
      "Epoch 96/100\n",
      "108/108 [==============================] - 0s 4ms/step - loss: 1.0987 - accuracy: 0.3237 - val_loss: 1.0986 - val_accuracy: 0.3333\n",
      "Epoch 97/100\n",
      "108/108 [==============================] - 0s 4ms/step - loss: 1.0987 - accuracy: 0.3296 - val_loss: 1.0986 - val_accuracy: 0.3333\n",
      "Epoch 98/100\n",
      "108/108 [==============================] - 1s 6ms/step - loss: 1.0988 - accuracy: 0.3283 - val_loss: 1.0986 - val_accuracy: 0.3333\n",
      "Epoch 99/100\n",
      "108/108 [==============================] - 0s 4ms/step - loss: 1.0987 - accuracy: 0.3191 - val_loss: 1.0986 - val_accuracy: 0.3333\n",
      "Epoch 100/100\n",
      "108/108 [==============================] - 0s 4ms/step - loss: 1.0987 - accuracy: 0.3278 - val_loss: 1.0986 - val_accuracy: 0.3333\n"
     ]
    }
   ],
   "source": [
    "# train model using features generated from VGG16 model\n",
    "history = (modelCNN.fit(vgg_features_train, train_target, epochs=100, batch_size=50, validation_data=(vgg_features_val, val_target)))"
   ]
  },
  {
   "cell_type": "code",
   "execution_count": 238,
   "metadata": {},
   "outputs": [
    {
     "name": "stdout",
     "output_type": "stream",
     "text": [
      "Model: \"sequential_13\"\n",
      "_________________________________________________________________\n",
      " Layer (type)                Output Shape              Param #   \n",
      "=================================================================\n",
      " conv2d_12 (Conv2D)          (None, 32, 32, 32)        896       \n",
      "                                                                 \n",
      " conv2d_13 (Conv2D)          (None, 32, 32, 32)        9248      \n",
      "                                                                 \n",
      " max_pooling2d_6 (MaxPooling  (None, 16, 16, 32)       0         \n",
      " 2D)                                                             \n",
      "                                                                 \n",
      " dropout_14 (Dropout)        (None, 16, 16, 32)        0         \n",
      "                                                                 \n",
      " conv2d_14 (Conv2D)          (None, 16, 16, 64)        18496     \n",
      "                                                                 \n",
      " conv2d_15 (Conv2D)          (None, 16, 16, 64)        36928     \n",
      "                                                                 \n",
      " max_pooling2d_7 (MaxPooling  (None, 8, 8, 64)         0         \n",
      " 2D)                                                             \n",
      "                                                                 \n",
      " dropout_15 (Dropout)        (None, 8, 8, 64)          0         \n",
      "                                                                 \n",
      " conv2d_16 (Conv2D)          (None, 8, 8, 128)         73856     \n",
      "                                                                 \n",
      " conv2d_17 (Conv2D)          (None, 8, 8, 128)         147584    \n",
      "                                                                 \n",
      " max_pooling2d_8 (MaxPooling  (None, 4, 4, 128)        0         \n",
      " 2D)                                                             \n",
      "                                                                 \n",
      " dropout_16 (Dropout)        (None, 4, 4, 128)         0         \n",
      "                                                                 \n",
      " flatten_8 (Flatten)         (None, 2048)              0         \n",
      "                                                                 \n",
      " dense_16 (Dense)            (None, 128)               262272    \n",
      "                                                                 \n",
      " dropout_17 (Dropout)        (None, 128)               0         \n",
      "                                                                 \n",
      " dense_17 (Dense)            (None, 3)                 387       \n",
      "                                                                 \n",
      "=================================================================\n",
      "Total params: 549,667\n",
      "Trainable params: 549,667\n",
      "Non-trainable params: 0\n",
      "_________________________________________________________________\n"
     ]
    }
   ],
   "source": [
    "\n",
    "modelCNN2 = models.Sequential()\n",
    "modelCNN2.add(layers.Conv2D(32, (3, 3), activation='relu', kernel_initializer='he_uniform', padding='same', input_shape=(32, 32, 3)))\n",
    "modelCNN2.add(layers.Conv2D(32, (3, 3), activation='relu', kernel_initializer='he_uniform', padding='same'))\n",
    "modelCNN2.add(layers.MaxPooling2D((2, 2)))\n",
    "modelCNN2.add(layers.Dropout(0.2))\n",
    "modelCNN2.add(layers.Conv2D(64, (3, 3), activation='relu', kernel_initializer='he_uniform', padding='same'))\n",
    "modelCNN2.add(layers.Conv2D(64, (3, 3), activation='relu', kernel_initializer='he_uniform', padding='same'))\n",
    "modelCNN2.add(layers.MaxPooling2D((2, 2)))\n",
    "modelCNN2.add(layers.Dropout(0.2))\n",
    "modelCNN2.add(layers.Conv2D(128, (3, 3), activation='relu', kernel_initializer='he_uniform', padding='same'))\n",
    "modelCNN2.add(layers.Conv2D(128, (3, 3), activation='relu', kernel_initializer='he_uniform', padding='same'))\n",
    "modelCNN2.add(layers.MaxPooling2D((2, 2)))\n",
    "modelCNN2.add(layers.Dropout(0.2))\n",
    "modelCNN2.add(layers.Flatten())\n",
    "modelCNN2.add(layers.Dense(128, activation='relu', kernel_initializer='he_uniform'))\n",
    "modelCNN2.add(layers.Dropout(0.2))\n",
    "modelCNN2.add(layers.Dense(3))\n",
    "opt = keras.optimizers.Adam(learning_rate=0.001) \n",
    "modelCNN2.compile(optimizer=opt, loss=tf.keras.losses.SparseCategoricalCrossentropy(from_logits=True), metrics=['accuracy'])\n",
    "modelCNN2.summary()"
   ]
  },
  {
   "cell_type": "code",
   "execution_count": 252,
   "metadata": {},
   "outputs": [
    {
     "name": "stdout",
     "output_type": "stream",
     "text": [
      "(5400, 32, 32, 3)\n",
      "Epoch 1/100\n"
     ]
    },
    {
     "ename": "TypeError",
     "evalue": "'NoneType' object is not callable",
     "output_type": "error",
     "traceback": [
      "\u001b[1;31m---------------------------------------------------------------------------\u001b[0m",
      "\u001b[1;31mTypeError\u001b[0m                                 Traceback (most recent call last)",
      "\u001b[1;32m~\\AppData\\Local\\Temp/ipykernel_1884/3710527906.py\u001b[0m in \u001b[0;36m<module>\u001b[1;34m\u001b[0m\n\u001b[0;32m      4\u001b[0m \u001b[0mtt\u001b[0m \u001b[1;33m=\u001b[0m \u001b[0mtf\u001b[0m\u001b[1;33m.\u001b[0m\u001b[0mkeras\u001b[0m\u001b[1;33m.\u001b[0m\u001b[0mutils\u001b[0m\u001b[1;33m.\u001b[0m\u001b[0mto_categorical\u001b[0m\u001b[1;33m(\u001b[0m\u001b[0mtrain_target\u001b[0m\u001b[1;33m)\u001b[0m\u001b[1;33m\u001b[0m\u001b[1;33m\u001b[0m\u001b[0m\n\u001b[0;32m      5\u001b[0m \u001b[0mvt\u001b[0m \u001b[1;33m=\u001b[0m \u001b[0mtf\u001b[0m\u001b[1;33m.\u001b[0m\u001b[0mkeras\u001b[0m\u001b[1;33m.\u001b[0m\u001b[0mutils\u001b[0m\u001b[1;33m.\u001b[0m\u001b[0mto_categorical\u001b[0m\u001b[1;33m(\u001b[0m\u001b[0mt_val\u001b[0m\u001b[1;33m)\u001b[0m\u001b[1;33m\u001b[0m\u001b[1;33m\u001b[0m\u001b[0m\n\u001b[1;32m----> 6\u001b[1;33m \u001b[0mmodelCNN2\u001b[0m\u001b[1;33m.\u001b[0m\u001b[0mfit\u001b[0m\u001b[1;33m(\u001b[0m\u001b[0mX_train\u001b[0m\u001b[1;33m,\u001b[0m \u001b[0mtt\u001b[0m\u001b[1;33m,\u001b[0m \u001b[0mepochs\u001b[0m\u001b[1;33m=\u001b[0m\u001b[1;36m100\u001b[0m\u001b[1;33m,\u001b[0m \u001b[0mbatch_size\u001b[0m\u001b[1;33m=\u001b[0m\u001b[1;36m50\u001b[0m\u001b[1;33m,\u001b[0m \u001b[0mvalidation_data\u001b[0m\u001b[1;33m=\u001b[0m\u001b[1;33m(\u001b[0m\u001b[0mX_val\u001b[0m\u001b[1;33m,\u001b[0m \u001b[0mvt\u001b[0m\u001b[1;33m)\u001b[0m\u001b[1;33m)\u001b[0m\u001b[1;33m\u001b[0m\u001b[1;33m\u001b[0m\u001b[0m\n\u001b[0m",
      "\u001b[1;32m~\\anaconda3\\lib\\site-packages\\keras\\utils\\traceback_utils.py\u001b[0m in \u001b[0;36merror_handler\u001b[1;34m(*args, **kwargs)\u001b[0m\n\u001b[0;32m     65\u001b[0m     \u001b[1;32mexcept\u001b[0m \u001b[0mException\u001b[0m \u001b[1;32mas\u001b[0m \u001b[0me\u001b[0m\u001b[1;33m:\u001b[0m  \u001b[1;31m# pylint: disable=broad-except\u001b[0m\u001b[1;33m\u001b[0m\u001b[1;33m\u001b[0m\u001b[0m\n\u001b[0;32m     66\u001b[0m       \u001b[0mfiltered_tb\u001b[0m \u001b[1;33m=\u001b[0m \u001b[0m_process_traceback_frames\u001b[0m\u001b[1;33m(\u001b[0m\u001b[0me\u001b[0m\u001b[1;33m.\u001b[0m\u001b[0m__traceback__\u001b[0m\u001b[1;33m)\u001b[0m\u001b[1;33m\u001b[0m\u001b[1;33m\u001b[0m\u001b[0m\n\u001b[1;32m---> 67\u001b[1;33m       \u001b[1;32mraise\u001b[0m \u001b[0me\u001b[0m\u001b[1;33m.\u001b[0m\u001b[0mwith_traceback\u001b[0m\u001b[1;33m(\u001b[0m\u001b[0mfiltered_tb\u001b[0m\u001b[1;33m)\u001b[0m \u001b[1;32mfrom\u001b[0m \u001b[1;32mNone\u001b[0m\u001b[1;33m\u001b[0m\u001b[1;33m\u001b[0m\u001b[0m\n\u001b[0m\u001b[0;32m     68\u001b[0m     \u001b[1;32mfinally\u001b[0m\u001b[1;33m:\u001b[0m\u001b[1;33m\u001b[0m\u001b[1;33m\u001b[0m\u001b[0m\n\u001b[0;32m     69\u001b[0m       \u001b[1;32mdel\u001b[0m \u001b[0mfiltered_tb\u001b[0m\u001b[1;33m\u001b[0m\u001b[1;33m\u001b[0m\u001b[0m\n",
      "\u001b[1;32m~\\anaconda3\\lib\\site-packages\\tensorflow\\python\\eager\\def_function.py\u001b[0m in \u001b[0;36m_call\u001b[1;34m(self, *args, **kwds)\u001b[0m\n\u001b[0;32m    945\u001b[0m       \u001b[1;31m# In this case we have created variables on the first call, so we run the\u001b[0m\u001b[1;33m\u001b[0m\u001b[1;33m\u001b[0m\u001b[0m\n\u001b[0;32m    946\u001b[0m       \u001b[1;31m# defunned version which is guaranteed to never create variables.\u001b[0m\u001b[1;33m\u001b[0m\u001b[1;33m\u001b[0m\u001b[0m\n\u001b[1;32m--> 947\u001b[1;33m       \u001b[1;32mreturn\u001b[0m \u001b[0mself\u001b[0m\u001b[1;33m.\u001b[0m\u001b[0m_stateless_fn\u001b[0m\u001b[1;33m(\u001b[0m\u001b[1;33m*\u001b[0m\u001b[0margs\u001b[0m\u001b[1;33m,\u001b[0m \u001b[1;33m**\u001b[0m\u001b[0mkwds\u001b[0m\u001b[1;33m)\u001b[0m  \u001b[1;31m# pylint: disable=not-callable\u001b[0m\u001b[1;33m\u001b[0m\u001b[1;33m\u001b[0m\u001b[0m\n\u001b[0m\u001b[0;32m    948\u001b[0m     \u001b[1;32melif\u001b[0m \u001b[0mself\u001b[0m\u001b[1;33m.\u001b[0m\u001b[0m_stateful_fn\u001b[0m \u001b[1;32mis\u001b[0m \u001b[1;32mnot\u001b[0m \u001b[1;32mNone\u001b[0m\u001b[1;33m:\u001b[0m\u001b[1;33m\u001b[0m\u001b[1;33m\u001b[0m\u001b[0m\n\u001b[0;32m    949\u001b[0m       \u001b[1;31m# Release the lock early so that multiple threads can perform the call\u001b[0m\u001b[1;33m\u001b[0m\u001b[1;33m\u001b[0m\u001b[0m\n",
      "\u001b[1;31mTypeError\u001b[0m: 'NoneType' object is not callable"
     ]
    }
   ],
   "source": [
    "print (X_train.shape)\n",
    "t_traint = train_target - 1\n",
    "t_val = val_target - 1\n",
    "tt = tf.keras.utils.to_categorical(train_target)\n",
    "vt = tf.keras.utils.to_categorical(t_val)\n",
    "modelCNN2.fit(X_train, tt, epochs=100, batch_size=50, validation_data=(X_val, vt))"
   ]
  },
  {
   "cell_type": "code",
   "execution_count": 227,
   "metadata": {},
   "outputs": [
    {
     "data": {
      "text/plain": [
       "<matplotlib.legend.Legend at 0x1fd1c66bb50>"
      ]
     },
     "execution_count": 227,
     "metadata": {},
     "output_type": "execute_result"
    },
    {
     "data": {
      "image/png": "[encoded data removed]",
      "text/plain": [
       "<Figure size 864x360 with 1 Axes>"
      ]
     },
     "metadata": {
      "needs_background": "light"
     },
     "output_type": "display_data"
    }
   ],
   "source": [
    "plt.figure(figsize=(12,5))\n",
    "plt.plot(history.history['accuracy'], label='Entrenamiento')\n",
    "plt.plot(history.history['val_accuracy'], label = 'Validación')\n",
    "plt.xlabel('Iteración (epoch)')\n",
    "plt.ylabel('Exactitud (accuracy)')\n",
    "plt.ylim([0, 1])\n",
    "plt.grid()\n",
    "plt.title('Modelo '+str(i+1))\n",
    "plt.legend(loc='lower right')"
   ]
  },
  {
   "cell_type": "code",
   "execution_count": 192,
   "metadata": {},
   "outputs": [
    {
     "name": "stdout",
     "output_type": "stream",
     "text": [
      "Accuray (test) 0.8550000190734863\n"
     ]
    }
   ],
   "source": [
    "vgg_features_test = pretrained_model.predict(X_val)\n",
    "test_loss, test_acc = modelCNN.evaluate(vgg_features_test,  val_target, verbose=0)\n",
    "print('Accuray (test)', test_acc)"
   ]
  },
  {
   "cell_type": "code",
   "execution_count": 185,
   "metadata": {},
   "outputs": [
    {
     "name": "stdout",
     "output_type": "stream",
     "text": [
      "El conjunto de entrenamiento contiene 3779 datos\n",
      "El conjunto de test contiene 1621 datos\n"
     ]
    },
    {
     "data": {
      "text/plain": [
       "Text(0, 0.5, 'Clase real')"
      ]
     },
     "execution_count": 185,
     "metadata": {},
     "output_type": "execute_result"
    },
    {
     "data": {
      "image/png": "[encoded data removed]",
      "text/plain": [
       "<Figure size 600x400 with 2 Axes>"
      ]
     },
     "metadata": {
      "needs_background": "light"
     },
     "output_type": "display_data"
    },
    {
     "data": {
      "image/png": "[encoded data removed]",
      "text/plain": [
       "<Figure size 600x400 with 2 Axes>"
      ]
     },
     "metadata": {
      "needs_background": "light"
     },
     "output_type": "display_data"
    },
    {
     "data": {
      "image/png": "[encoded data removed]",
      "text/plain": [
       "<Figure size 600x400 with 2 Axes>"
      ]
     },
     "metadata": {
      "needs_background": "light"
     },
     "output_type": "display_data"
    }
   ],
   "source": [
    "Clases=['Clase extra','Clase I','Clase II']\n",
    "X_train, X_test, t_train, t_test = train_test_split(X, t, train_size=0.7)  \n",
    "print(\"El conjunto de entrenamiento contiene\", len(t_train), \"datos\")\n",
    "print(\"El conjunto de test contiene\", len(t_test), \"datos\")\n",
    "\n",
    "modelLDA.fit(X_train, t_train)\n",
    "disp = plot_confusion_matrix(modelLDA, X_test, t_test, display_labels = Clases, xticks_rotation = 'vertical') # Muestra gráficamente la matriz de confusión\n",
    "disp.figure_.suptitle(\"Matriz de confusión LDA\");         # Añade un título a la figura de la matriz de confusión\n",
    "disp.figure_.set_dpi(100)                             # Establece el tamaño de la figura\n",
    "plt.xlabel(\"Clase predicha\")\n",
    "plt.ylabel(\"Clase real\")\n",
    "\n",
    "modelKNN.fit(X_train, t_train)\n",
    "disp = plot_confusion_matrix(modelKNN, X_test, t_test, display_labels = Clases, xticks_rotation = 'vertical') # Muestra gráficamente la matriz de confusión\n",
    "disp.figure_.suptitle(\"Matriz de confusión KNN\");         # Añade un título a la figura de la matriz de confusión\n",
    "disp.figure_.set_dpi(100)                             # Establece el tamaño de la figura\n",
    "plt.xlabel(\"Clase predicha\")\n",
    "plt.ylabel(\"Clase real\")\n",
    "\n",
    "modelRF.fit(X_train, t_train)\n",
    "disp = plot_confusion_matrix(modelRF, X_test, t_test, display_labels = Clases, xticks_rotation = 'vertical') # Muestra gráficamente la matriz de confusión\n",
    "disp.figure_.suptitle(\"Matriz de confusión LR\");         # Añade un título a la figura de la matriz de confusión\n",
    "disp.figure_.set_dpi(100)                             # Establece el tamaño de la figura\n",
    "plt.xlabel(\"Clase predicha\")\n",
    "plt.ylabel(\"Clase real\")"
   ]
  },
  {
   "cell_type": "code",
   "execution_count": 204,
   "metadata": {},
   "outputs": [],
   "source": [
    "X_test, t_test = shuffle(X_val, t_val, random_state=0)\n",
    "vgg_features_test = pretrained_model.predict(X_test)"
   ]
  },
  {
   "cell_type": "code",
   "execution_count": 210,
   "metadata": {},
   "outputs": [],
   "source": [
    "t_pred = []\n",
    "for i in range(0,len(vgg_features_test)):\n",
    "    t_pred.append(np.argmax(modelCNN.predict(vgg_features_test[i:i+1])))"
   ]
  },
  {
   "cell_type": "code",
   "execution_count": 214,
   "metadata": {},
   "outputs": [
    {
     "data": {
      "text/plain": [
       "<tf.Tensor: shape=(4, 4), dtype=int32, numpy=\n",
       "array([[  0,   0,   0,   0],\n",
       "       [132,  29,  39,   0],\n",
       "       [ 11, 186,   3,   0],\n",
       "       [  5,   0, 195,   0]])>"
      ]
     },
     "execution_count": 214,
     "metadata": {},
     "output_type": "execute_result"
    }
   ],
   "source": [
    "tf.math.confusion_matrix(t_test, t_pred)"
   ]
  },
  {
   "cell_type": "markdown",
   "metadata": {},
   "source": [
    "#### Se muestra un diagrama de cajas con los resultados de la validación cruzada:"
   ]
  },
  {
   "cell_type": "code",
   "execution_count": 82,
   "metadata": {},
   "outputs": [
    {
     "data": {
      "image/png": "[encoded data removed]",
      "text/plain": [
       "<Figure size 432x288 with 1 Axes>"
      ]
     },
     "metadata": {
      "needs_background": "light"
     },
     "output_type": "display_data"
    }
   ],
   "source": [
    "data = [scoresLR['test_accuracy'], scoresLDA['test_accuracy'], scoresKNN['test_accuracy']]\n",
    "fig7, ax = plt.subplots()\n",
    "ax.set_title('Modelos')\n",
    "ax.boxplot(data,labels=['LR', 'LDA', 'KNN']);"
   ]
  },
  {
   "cell_type": "markdown",
   "metadata": {},
   "source": [
    "#### Contraste de hipótesis:\n",
    "\n",
    "Primero se muestran los resultados obtenidos aplicando el test de [Kruskall-Wallis](https://docs.scipy.org/doc/scipy/reference/generated/scipy.stats.kruskal.html#scipy.stats.kruskal) y el test de [Anova](https://docs.scipy.org/doc/scipy/reference/generated/scipy.stats.f_oneway.html). Si se rechaza la hipótesis, entonces se puede afirmar que los modelos son diferentes y, posteriormente, se aplican dos test de comparación múltiple mediante el uso de la clase [MultiComparison](https://www.statsmodels.org/stable/generated/statsmodels.sandbox.stats.multicomp.MultiComparison.html). Estos métodos comprueban si hay diferencias significativas con un p<0.05, corrigiendo el hecho de que se están haciendo múltiples comparaciones que normalmente aumentarían la probabilidad de que se identifique una diferencia significativa. Un resultado de \"reject = true\" significa que se ha observado una diferencia significativa:\n",
    "- Método de Tukey. Se emplea para ello la función [tukeyhsd](https://www.statsmodels.org/stable/generated/statsmodels.sandbox.stats.multicomp.MultiComparison.tukeyhsd.html#statsmodels.sandbox.stats.multicomp.MultiComparison.tukeyhsd).\n",
    "- Método de Holm-Bonferroni. Se emplea para ello la función [allpairtest](https://www.statsmodels.org/stable/generated/statsmodels.sandbox.stats.multicomp.MultiComparison.allpairtest.html#statsmodels.sandbox.stats.multicomp.MultiComparison.allpairtest)"
   ]
  },
  {
   "cell_type": "code",
   "execution_count": 83,
   "metadata": {},
   "outputs": [
    {
     "name": "stdout",
     "output_type": "stream",
     "text": [
      "p-valor KrusW: 0.00042614900422063547\n",
      "p-valor ANOVA: 0.00021999310037581105\n",
      "Rechazamos la hipótesis: los modelos son diferentes\n",
      "\n",
      "Test Multiple Comparison ttest_rel \n",
      "FWER=0.05 method=Holm\n",
      "alphacSidak=0.02, alphacBonf=0.017\n",
      "=================================================\n",
      " group1   group2    stat   pval  pval_corr reject\n",
      "-------------------------------------------------\n",
      "modelKNN modelLDA -8.7529    0.0       0.0   True\n",
      "modelKNN  modelLR -3.7438 0.0014    0.0014   True\n",
      "modelLDA  modelLR  4.2041 0.0005     0.001   True\n",
      "-------------------------------------------------\n",
      "  Multiple Comparison of Means - Tukey HSD, FWER=0.05  \n",
      "=======================================================\n",
      " group1   group2  meandiff p-adj   lower  upper  reject\n",
      "-------------------------------------------------------\n",
      "modelKNN modelLDA   0.1667  0.001  0.0755 0.2579   True\n",
      "modelKNN  modelLR      0.1 0.0285  0.0088 0.1912   True\n",
      "modelLDA  modelLR  -0.0667 0.1927 -0.1579 0.0245  False\n",
      "-------------------------------------------------------\n"
     ]
    }
   ],
   "source": [
    "alpha = 0.05\n",
    "F_statistic, pVal = stats.kruskal(scoresLR['test_accuracy'], scoresLDA['test_accuracy'], scoresKNN['test_accuracy'])\n",
    "F_statistic2, pVal2 = stats.f_oneway(scoresLR['test_accuracy'], scoresLDA['test_accuracy'], scoresKNN['test_accuracy'])\n",
    "print ('p-valor KrusW:', pVal)\n",
    "print ('p-valor ANOVA:', pVal2)\n",
    "if pVal <= alpha:\n",
    "    print('Rechazamos la hipótesis: los modelos son diferentes\\n')\n",
    "    stacked_data = np.vstack((scoresLR['test_accuracy'],scoresLDA['test_accuracy'],scoresKNN['test_accuracy'])).ravel()\n",
    "    stacked_model = np.vstack((np.repeat('modelLR',CV),np.repeat('modelLDA',CV),np.repeat('modelKNN',CV))).ravel()    \n",
    "    MultiComp = MultiComparison(stacked_data, stacked_model)\n",
    "    comp = MultiComp.allpairtest(stats.ttest_rel, method='Holm')\n",
    "    print (comp[0])    \n",
    "    print(MultiComp.tukeyhsd(alpha=0.05))\n",
    "else:\n",
    "    print('Aceptamos la hipótesis: los modelos son iguales')"
   ]
  }
 ],
 "metadata": {
  "kernelspec": {
   "display_name": "Python 3",
   "language": "python",
   "name": "python3"
  },
  "language_info": {
   "codemirror_mode": {
    "name": "ipython",
    "version": 3
   },
   "file_extension": ".py",
   "mimetype": "text/x-python",
   "name": "python",
   "nbconvert_exporter": "python",
   "pygments_lexer": "ipython3",
   "version": "3.9.7"
  }
 },
 "nbformat": 4,
 "nbformat_minor": 2
}
