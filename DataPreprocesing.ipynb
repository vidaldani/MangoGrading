{
 "cells": [
  {
   "cell_type": "markdown",
   "metadata": {},
   "source": [
    "<img src=https://api-manager.universia.net/coreplatform-document-management/api/document-management/public/6ra7ymjkfi64845 width=\"300\" align=\"left\">\n",
    "<br />\n",
    "\n",
    "# Aprendizaje automático I\n",
    "#### <font color=green>*Máster en Informática Industrial y Robótica*</font>"
   ]
  },
  {
   "cell_type": "markdown",
   "metadata": {},
   "source": [
    "Daniel Vidal Soroa  \n",
    "Juan Diego Peña "
   ]
  },
  {
   "cell_type": "markdown",
   "metadata": {},
   "source": [
    "## Clasificación de mangos en tres clases según su presencia para la exportación, comercio local o procesamiento industrial"
   ]
  },
  {
   "cell_type": "markdown",
   "metadata": {},
   "source": [
    "#### Importación de las librerías:"
   ]
  },
  {
   "cell_type": "code",
   "execution_count": 32,
   "metadata": {},
   "outputs": [],
   "source": [
    "import os\n",
    "import numpy as np\n",
    "import pandas as pd\n",
    "import tensorflow as tf\n",
    "import matplotlib.pyplot as plt\n",
    "import scipy.stats as stats\n",
    "from statsmodels.stats.multicomp import pairwise_tukeyhsd, MultiComparison\n",
    "from sklearn.model_selection import cross_validate\n",
    "from sklearn.linear_model import LogisticRegression,LogisticRegressionCV\n",
    "from sklearn.discriminant_analysis import LinearDiscriminantAnalysis\n",
    "from sklearn.neighbors import KNeighborsClassifier\n",
    "from sklearn.ensemble import RandomForestClassifier\n",
    "from sklearn.tree import DecisionTreeClassifier, plot_tree\n",
    "from sklearn.utils import shuffle\n",
    "from skimage.io import imread\n",
    "from skimage.transform import resize\n",
    "from sklearn.metrics import roc_curve, auc, plot_confusion_matrix, classification_report, multilabel_confusion_matrix\n",
    "from sklearn.model_selection import train_test_split\n",
    "from random import seed\n",
    "from random import randint\n",
    "from tensorflow import keras\n",
    "from keras import layers, models, utils, datasets\n",
    "from keras import utils\n",
    "from keras.preprocessing.image import ImageDataGenerator\n",
    "from sklearn.model_selection import KFold, GridSearchCV\n",
    "import time \n",
    "import concurrent.futures\n",
    "import threading"
   ]
  },
  {
   "cell_type": "markdown",
   "metadata": {},
   "source": [
    "#### Función para mostrar lista de imágenes en escala de grises"
   ]
  },
  {
   "cell_type": "code",
   "execution_count": 2,
   "metadata": {},
   "outputs": [],
   "source": [
    "def show_row_of_gray_images(fig_width, *images):\n",
    "    plt.figure(figsize=(fig_width, fig_width))\n",
    "    images_count = len(images)\n",
    "    index = 1  \n",
    "    for image in images:\n",
    "        plt.subplot(1, images_count, index)\n",
    "        plt.imshow(image, cmap='gray')\n",
    "        plt.axis('off')\n",
    "        index+=1"
   ]
  },
  {
   "cell_type": "code",
   "execution_count": 3,
   "metadata": {},
   "outputs": [],
   "source": [
    "IMG_SIZE = 32\n",
    "\n",
    "data_augmentation = tf.keras.Sequential([\n",
    "  layers.RandomFlip(\"horizontal_and_vertical\")\n",
    "])\n"
   ]
  },
  {
   "cell_type": "markdown",
   "metadata": {},
   "source": [
    "#### Lectura de los datos:"
   ]
  },
  {
   "cell_type": "code",
   "execution_count": 16,
   "metadata": {},
   "outputs": [],
   "source": [
    "def lectura_datos():\n",
    "    # seed random number generator\n",
    "    seed(1)\n",
    "\n",
    "    # Dimensión de entrada de las imágenes \n",
    "    h = IMG_SIZE\n",
    "    w = IMG_SIZE\n",
    "\n",
    "\n",
    "    # Leer los nombres de las imágenes para importarlas\n",
    "    input_class1_path = \"./Dataset/Grading_dataset/Class_I\"\n",
    "    class1_names = os.listdir(input_class1_path)\n",
    "    input_class2_path = \"./Dataset/Grading_dataset/Class_II\"\n",
    "    class2_names = os.listdir(input_class2_path)\n",
    "    input_classex_path = \"./Dataset/Grading_dataset/Extra_Class\"\n",
    "    class3_names = os.listdir(input_classex_path)\n",
    "\n",
    "    # Número de elementos en cada clase\n",
    "    n = len(class1_names)\n",
    "\n",
    "\n",
    "    # Definir listas para cargar imágenes\n",
    "    class1 = np.ones([n, h, w, 3])\n",
    "    class2 = np.ones([n, h, w, 3])\n",
    "    class3 = np.ones([n, h, w, 3])\n",
    "\n",
    "\n",
    "\n",
    "    for i in range(0, n, 1):\n",
    "        # Para cada clase, se lee una imágen, se importa\n",
    "        img = resize(imread(\"./Dataset/Grading_dataset/Class_I/\" + class1_names[i]), (h, w))\n",
    "        class1[i] = img  \n",
    "        img = resize(imread(\"./Dataset/Grading_dataset/Class_II/\" + class2_names[i]), (h, w))\n",
    "        class2[i] = img \n",
    "        img = resize(imread(\"./Dataset/Grading_dataset/Extra_Class/\" + class3_names[i]), (h, w))\n",
    "        class3[i] = img\n",
    "    \n",
    "    return class1, class2, class3, n,h,w\n",
    "\n"
   ]
  },
  {
   "cell_type": "markdown",
   "metadata": {},
   "source": [
    "#### Se muestran una imágen aleatoria de cada clase para comprobar que se leyeron correctamente"
   ]
  },
  {
   "cell_type": "code",
   "execution_count": 17,
   "metadata": {},
   "outputs": [
    {
     "name": "stdout",
     "output_type": "stream",
     "text": [
      "34\n"
     ]
    },
    {
     "data": {
      "image/png": "[encoded data removed]",
      "text/plain": [
       "<Figure size 1152x1152 with 3 Axes>"
      ]
     },
     "metadata": {
      "needs_background": "light"
     },
     "output_type": "display_data"
    }
   ],
   "source": [
    "class1,class2,class3,n,h,w = lectura_datos()\n",
    "rn = randint(0, 200)\n",
    "print (rn)\n",
    "img_1 = class1[rn]\n",
    "img_2 = class2[rn]\n",
    "img_3 = class3[rn]    \n",
    "show_row_of_gray_images(16, img_1, img_2, img_3)"
   ]
  },
  {
   "cell_type": "markdown",
   "metadata": {},
   "source": [
    "### Aumentamos por un factor f el número de datos de cada clase"
   ]
  },
  {
   "cell_type": "code",
   "execution_count": 21,
   "metadata": {},
   "outputs": [],
   "source": [
    "def data_augmentations():\n",
    "    f = 10\n",
    "    class1_augmeted = np.zeros([n * f, h, w, 3])\n",
    "    class2_augmeted = np.zeros([n * f, h, w, 3])\n",
    "    class3_augmeted = np.zeros([n * f, h, w, 3])\n",
    "    t1 = np.zeros(n * f)\n",
    "    t2 = np.zeros(n * f)\n",
    "    t3 = np.zeros(n * f)\n",
    "\n",
    "    for i in range(n * f):\n",
    "        rn = randint(0, n-1)\n",
    "        img = class1[rn]\n",
    "        new_img = data_augmentation(img)\n",
    "        class1_augmeted [i] = new_img\n",
    "        t1[i] = 1\n",
    "        \n",
    "        rn = randint(0, n-1)\n",
    "        img = class2[rn]\n",
    "        new_img = data_augmentation(img)\n",
    "        class2_augmeted [i] = new_img\n",
    "        t2[i] = 2\n",
    "        \n",
    "        rn = randint(0, n-1)\n",
    "        img = class3[rn]\n",
    "        new_img = data_augmentation(img)\n",
    "        class3_augmeted [i] = new_img\n",
    "        t3[i] = 3\n",
    "    return t1,t2,t3,class1_augmeted,class2_augmeted,class3_augmeted,f"
   ]
  },
  {
   "cell_type": "markdown",
   "metadata": {},
   "source": [
    "#### Se imprimen tres imágenes para comprobar que las transformaciones han salido bien"
   ]
  },
  {
   "cell_type": "code",
   "execution_count": 22,
   "metadata": {},
   "outputs": [
    {
     "name": "stdout",
     "output_type": "stream",
     "text": [
      "1585\n",
      "540\n",
      "34\n"
     ]
    },
    {
     "data": {
      "image/png": "[encoded data removed]",
      "text/plain": [
       "<Figure size 1152x1152 with 3 Axes>"
      ]
     },
     "metadata": {
      "needs_background": "light"
     },
     "output_type": "display_data"
    }
   ],
   "source": [
    "# Se imprimen tres imágenes aleatorias de los datos aumentados para comprobar que funciona    \n",
    "t1,t2,t3,class1_augmeted,class2_augmeted,class3_augmeted,f = data_augmentations()\n",
    "rn = randint(0, 2000)\n",
    "img_1 = class1_augmeted[rn]\n",
    "print (rn)\n",
    "rn = randint(0, 2000)\n",
    "print (rn)\n",
    "img_2 = class2_augmeted[rn]\n",
    "rn = randint(0, 2000)\n",
    "print (rn)\n",
    "img_3 = class3_augmeted[rn]  \n",
    "show_row_of_gray_images(16, img_1, img_2, img_3)"
   ]
  },
  {
   "cell_type": "markdown",
   "metadata": {},
   "source": [
    "#### Conformación del set de datos y declaración de las métricas de análsis:"
   ]
  },
  {
   "cell_type": "code",
   "execution_count": 23,
   "metadata": {},
   "outputs": [
    {
     "name": "stdout",
     "output_type": "stream",
     "text": [
      "Stored 'scoring' (list)\n",
      "Stored 'X' (ndarray)\n",
      "Stored 'X_train' (ndarray)\n",
      "Stored 'X_val' (ndarray)\n",
      "Stored 'CV' (int)\n",
      "Stored 't' (ndarray)\n",
      "Stored 't_val' (ndarray)\n",
      "Stored 'f' (int)\n",
      "Stored 'n' (int)\n"
     ]
    }
   ],
   "source": [
    "\n",
    "# Se define el conjunto de datos de entrenamiento\n",
    "X = np.zeros([(f-1)*n*3,h*w*3])\n",
    "X[0:1800] = class3_augmeted[0:1800].reshape((f-1)*n,h*w*3)\n",
    "X[1800:3600] = class1_augmeted[0:1800].reshape((f-1)*n,h*w*3)\n",
    "X[3600:5400] = class2_augmeted[0:1800].reshape((f-1)*n,h*w*3)\n",
    "\n",
    "# extract train and val features\n",
    "X_train = np.ones([(f-1)*n*3,h,w,3])\n",
    "X_train[0:1800] = class3_augmeted[0:1800]\n",
    "X_train[1800:3600] = class1_augmeted[0:1800]\n",
    "X_train[3600:5400] = class2_augmeted[0:1800]\n",
    "\n",
    "# Se define el conjunto de datos de validación\n",
    "X_val = np.zeros([n*3, h, w, 3])\n",
    "X_val[0:200] = class3_augmeted[1800:2000]\n",
    "X_val[200:400] = class1_augmeted[1800:2000]\n",
    "X_val[400:600] = class2_augmeted[1800:2000]\n",
    "# Se definen las etiquetas de las clases\n",
    "t = np.zeros((f-1)*n*3)\n",
    "t[0:1800] = t3[0:1800]\n",
    "t[1800:3600] = t1[0:1800]\n",
    "t[3600:5400] = t2[0:1800]\n",
    "# Se definen las etiquetas de las clases para la validación\n",
    "t_val = np.zeros(n*3)\n",
    "t_val[0:200] = t3[1800:2000]\n",
    "t_val[200:400] = t1[1800:2000]\n",
    "t_val[400:600] = t2[1800:2000]\n",
    "\n",
    "# Se definen el numero de folds, utilizando leaving one out \n",
    "kf = KFold(n_splits=5)\n",
    "CV= kf.get_n_splits(X_train)\n",
    "\n",
    "# Se definen las metricas para evaluar los diferentes modelos\n",
    "scoring = ['recall_macro', 'precision_macro', 'f1_macro','accuracy','roc_auc_ovo']\n",
    "\n",
    "#Gurdamos las variables \n",
    "%store scoring X X_train X_val CV t t_val f n "
   ]
  },
  {
   "cell_type": "markdown",
   "metadata": {},
   "source": [
    "#### Analisis de tiempo de ejecución"
   ]
  },
  {
   "cell_type": "code",
   "execution_count": 30,
   "metadata": {},
   "outputs": [],
   "source": [
    "#MULTI HILO\n",
    "\n",
    "start = time.perf_counter()\n",
    "# with concurrent.futures.ThreadPoolExecutor() as executor:\n",
    "#     executor.map(lectura_datos(),data_augmentations())\n",
    "t1 = threading.Thread(target=lectura_datos())\n",
    "t2 = threading.Thread(target=data_augmentations())\n",
    "t1.start()\n",
    "t2.start()\n",
    "t1.join()\n",
    "t2.join()\n",
    "finish=time.perf_counter()\n",
    "\n",
    "\n",
    "time_all_cores = finish-start\n",
    "\n",
    "\n",
    "\n"
   ]
  },
  {
   "cell_type": "code",
   "execution_count": 29,
   "metadata": {},
   "outputs": [
    {
     "data": {
      "text/plain": [
       "Text(0.5, 1.0, 'Comparación de tiempo de ejecución')"
      ]
     },
     "execution_count": 29,
     "metadata": {},
     "output_type": "execute_result"
    },
    {
     "data": {
      "image/png": "[encoded data removed]",
      "text/plain": [
       "<Figure size 432x288 with 1 Axes>"
      ]
     },
     "metadata": {
      "needs_background": "light"
     },
     "output_type": "display_data"
    }
   ],
   "source": [
    "start = time.perf_counter()\n",
    "data_augmentations()\n",
    "lectura_datos()\n",
    "finish=time.perf_counter()\n",
    "\n",
    "time_one_core = finish-start\n",
    "values = [time_all_cores,time_one_core]\n",
    "labels = [\"Tiempo de ejecución con multi-hilo\",\"tiempo de ejecucion sin multi-hilo\"]\n",
    "p1 = plt.bar(labels,values)\n",
    "plt.ylabel('Segundos')\n",
    "plt.title('Comparación de tiempo de ejecución')\n"
   ]
  }
 ],
 "metadata": {
  "interpreter": {
   "hash": "9650cb4e16cdd4a8e8e2d128bf38d875813998db22a3c986335f89e0cb4d7bb2"
  },
  "kernelspec": {
   "display_name": "Python 3.8.3 64-bit",
   "language": "python",
   "name": "python3"
  },
  "language_info": {
   "codemirror_mode": {
    "name": "ipython",
    "version": 3
   },
   "file_extension": ".py",
   "mimetype": "text/x-python",
   "name": "python",
   "nbconvert_exporter": "python",
   "pygments_lexer": "ipython3",
   "version": "3.8.3"
  }
 },
 "nbformat": 4,
 "nbformat_minor": 2
}
