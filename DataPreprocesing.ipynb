{
 "cells": [
  {
   "cell_type": "markdown",
   "metadata": {},
   "source": [
    "<img src=https://api-manager.universia.net/coreplatform-document-management/api/document-management/public/6ra7ymjkfi64845 width=\"300\" align=\"left\">\n",
    "<br />\n",
    "\n",
    "# Aprendizaje automático I\n",
    "#### <font color=green>*Máster en Informática Industrial y Robótica*</font>"
   ]
  },
  {
   "cell_type": "markdown",
   "metadata": {},
   "source": [
    "Daniel Vidal Soroa  \n",
    "Juan Diego Peña "
   ]
  },
  {
   "cell_type": "markdown",
   "metadata": {},
   "source": [
    "## Clasificación de mangos en tres clases según su presencia para la exportación, comercio local o procesamiento industrial"
   ]
  },
  {
   "cell_type": "markdown",
   "metadata": {},
   "source": [
    "#### Importación de las librerías:"
   ]
  },
  {
   "cell_type": "code",
   "execution_count": 1,
   "metadata": {},
   "outputs": [],
   "source": [
    "import os\n",
    "import numpy as np\n",
    "import pandas as pd\n",
    "import tensorflow as tf\n",
    "import matplotlib.pyplot as plt\n",
    "import scipy.stats as stats\n",
    "from statsmodels.stats.multicomp import pairwise_tukeyhsd, MultiComparison\n",
    "from sklearn.model_selection import cross_validate\n",
    "from sklearn.linear_model import LogisticRegression,LogisticRegressionCV\n",
    "from sklearn.discriminant_analysis import LinearDiscriminantAnalysis\n",
    "from sklearn.neighbors import KNeighborsClassifier\n",
    "from sklearn.ensemble import RandomForestClassifier\n",
    "from sklearn.tree import DecisionTreeClassifier, plot_tree\n",
    "from sklearn.utils import shuffle\n",
    "from skimage.io import imread\n",
    "from skimage.transform import resize\n",
    "from sklearn.metrics import roc_curve, auc, plot_confusion_matrix, classification_report\n",
    "from sklearn.model_selection import train_test_split\n",
    "from random import seed\n",
    "from random import randint\n",
    "from tensorflow import keras\n",
    "from keras import layers, models, utils, datasets\n",
    "from keras import utils\n",
    "from keras.preprocessing.image import ImageDataGenerator\n",
    "from sklearn.model_selection import KFold, GridSearchCV"
   ]
  },
  {
   "cell_type": "markdown",
   "metadata": {},
   "source": [
    "#### Función para mostrar lista de imágenes en escala de grises"
   ]
  },
  {
   "cell_type": "code",
   "execution_count": 2,
   "metadata": {},
   "outputs": [],
   "source": [
    "def show_row_of_gray_images(fig_width, *images):\n",
    "    plt.figure(figsize=(fig_width, fig_width))\n",
    "    images_count = len(images)\n",
    "    index = 1  \n",
    "    for image in images:\n",
    "        plt.subplot(1, images_count, index)\n",
    "        plt.imshow(image, cmap='gray')\n",
    "        plt.axis('off')\n",
    "        index+=1"
   ]
  },
  {
   "cell_type": "code",
   "execution_count": 3,
   "metadata": {},
   "outputs": [],
   "source": [
    "IMG_SIZE = 32\n",
    "\n",
    "data_augmentation = tf.keras.Sequential([\n",
    "  layers.RandomFlip(\"horizontal_and_vertical\")\n",
    "])\n"
   ]
  },
  {
   "cell_type": "markdown",
   "metadata": {},
   "source": [
    "#### Lectura de los datos:"
   ]
  },
  {
   "cell_type": "code",
   "execution_count": 4,
   "metadata": {},
   "outputs": [],
   "source": [
    "# seed random number generator\n",
    "seed(1)\n",
    "\n",
    "# Dimensión de entrada de las imágenes \n",
    "h = IMG_SIZE\n",
    "w = IMG_SIZE\n",
    "\n",
    "\n",
    "# Leer los nombres de las imágenes para importarlas\n",
    "input_class1_path = \"./Dataset/Grading_dataset/Class_I\"\n",
    "class1_names = os.listdir(input_class1_path)\n",
    "input_class2_path = \"./Dataset/Grading_dataset/Class_II\"\n",
    "class2_names = os.listdir(input_class2_path)\n",
    "input_classex_path = \"./Dataset/Grading_dataset/Extra_Class\"\n",
    "class3_names = os.listdir(input_classex_path)\n",
    "\n",
    "# Número de elementos en cada clase\n",
    "n = len(class1_names)\n",
    "\n",
    "# Definir listas para cargar imágenes\n",
    "class1 = np.ones([n, h, w, 3])\n",
    "class2 = np.ones([n, h, w, 3])\n",
    "class3 = np.ones([n, h, w, 3])\n",
    "\n",
    "\n",
    "\n",
    "for i in range(0, n, 1):\n",
    "    # Para cada clase, se lee una imágen, se importa\n",
    "    img = resize(imread(\"./Dataset/Grading_dataset/Class_I/\" + class1_names[i]), (h, w))\n",
    "    class1[i] = img  \n",
    "    img = resize(imread(\"./Dataset/Grading_dataset/Class_II/\" + class2_names[i]), (h, w))\n",
    "    class2[i] = img \n",
    "    img = resize(imread(\"./Dataset/Grading_dataset/Extra_Class/\" + class3_names[i]), (h, w))\n",
    "    class3[i] = img \n",
    "\n"
   ]
  },
  {
   "cell_type": "markdown",
   "metadata": {},
   "source": [
    "#### Se muestran una imágen aleatoria de cada clase para comprobar que se leyeron correctamente"
   ]
  },
  {
   "cell_type": "code",
   "execution_count": 5,
   "metadata": {},
   "outputs": [
    {
     "name": "stdout",
     "output_type": "stream",
     "text": [
      "34\n"
     ]
    },
    {
     "data": {
      "image/png": "[encoded data removed]",
      "text/plain": [
       "<Figure size 1152x1152 with 3 Axes>"
      ]
     },
     "metadata": {
      "needs_background": "light"
     },
     "output_type": "display_data"
    }
   ],
   "source": [
    "rn = randint(0, 200)\n",
    "print (rn)\n",
    "img_1 = class1[rn]\n",
    "img_2 = class2[rn]\n",
    "img_3 = class3[rn]    \n",
    "show_row_of_gray_images(16, img_1, img_2, img_3)"
   ]
  },
  {
   "cell_type": "markdown",
   "metadata": {},
   "source": [
    "### Aumentamos por un factor f el número de datos de cada clase"
   ]
  },
  {
   "cell_type": "code",
   "execution_count": 6,
   "metadata": {},
   "outputs": [],
   "source": [
    "f = 10\n",
    "class1_augmeted = np.zeros([n * f, h, w, 3])\n",
    "class2_augmeted = np.zeros([n * f, h, w, 3])\n",
    "class3_augmeted = np.zeros([n * f, h, w, 3])\n",
    "t1 = np.zeros(n * f)\n",
    "t2 = np.zeros(n * f)\n",
    "t3 = np.zeros(n * f)\n",
    "\n",
    "for i in range(n * f):\n",
    "    rn = randint(0, n-1)\n",
    "    img = class1[rn]\n",
    "    new_img = data_augmentation(img)\n",
    "    class1_augmeted [i] = new_img\n",
    "    t1[i] = 1\n",
    "    \n",
    "    rn = randint(0, n-1)\n",
    "    img = class2[rn]\n",
    "    new_img = data_augmentation(img)\n",
    "    class2_augmeted [i] = new_img\n",
    "    t2[i] = 2\n",
    "    \n",
    "    rn = randint(0, n-1)\n",
    "    img = class3[rn]\n",
    "    new_img = data_augmentation(img)\n",
    "    class3_augmeted [i] = new_img\n",
    "    t3[i] = 3\n"
   ]
  },
  {
   "cell_type": "markdown",
   "metadata": {},
   "source": [
    "#### Se imprimen tres imágenes para comprobar que las transformaciones han salido bien"
   ]
  },
  {
   "cell_type": "code",
   "execution_count": 7,
   "metadata": {},
   "outputs": [
    {
     "name": "stdout",
     "output_type": "stream",
     "text": [
      "324\n",
      "1784\n",
      "328\n"
     ]
    },
    {
     "data": {
      "image/png": "[encoded data removed]",
      "text/plain": [
       "<Figure size 1152x1152 with 3 Axes>"
      ]
     },
     "metadata": {
      "needs_background": "light"
     },
     "output_type": "display_data"
    }
   ],
   "source": [
    "# Se imprimen tres imágenes aleatorias de los datos aumentados para comprobar que funciona    \n",
    "rn = randint(0, 2000)\n",
    "img_1 = class1_augmeted[rn]\n",
    "print (rn)\n",
    "rn = randint(0, 2000)\n",
    "print (rn)\n",
    "img_2 = class2_augmeted[rn]\n",
    "rn = randint(0, 2000)\n",
    "print (rn)\n",
    "img_3 = class3_augmeted[rn]  \n",
    "show_row_of_gray_images(16, img_1, img_2, img_3)"
   ]
  },
  {
   "cell_type": "markdown",
   "metadata": {},
   "source": [
    "#### Conformación del set de datos y declaración de las métricas de análsis:"
   ]
  },
  {
   "cell_type": "code",
   "execution_count": 91,
   "metadata": {},
   "outputs": [
    {
     "name": "stdout",
     "output_type": "stream",
     "text": [
      "5\n"
     ]
    }
   ],
   "source": [
    "\n",
    "# Se define el conjunto de datos de entrenamiento\n",
    "X = np.zeros([(f-1)*n*3,h*w*3])\n",
    "X[0:1800] = class3_augmeted[0:1800].reshape((f-1)*n,h*w*3)\n",
    "X[1800:3600] = class1_augmeted[0:1800].reshape((f-1)*n,h*w*3)\n",
    "X[3600:5400] = class2_augmeted[0:1800].reshape((f-1)*n,h*w*3)\n",
    "\n",
    "# extract train and val features\n",
    "X_train = np.ones([(f-1)*n*3,h,w,3])\n",
    "X_train[0:1800] = class3_augmeted[0:1800]\n",
    "X_train[1800:3600] = class1_augmeted[0:1800]\n",
    "X_train[3600:5400] = class2_augmeted[0:1800]\n",
    "\n",
    "# Se define el conjunto de datos de validación\n",
    "X_val = np.zeros([n*3, h, w, 3])\n",
    "X_val[0:200] = class3_augmeted[1800:2000]\n",
    "X_val[200:400] = class1_augmeted[1800:2000]\n",
    "X_val[400:600] = class2_augmeted[1800:2000]\n",
    "# Se definen las etiquetas de las clases\n",
    "t = np.zeros((f-1)*n*3)\n",
    "t[0:1800] = t3[0:1800]\n",
    "t[1800:3600] = t1[0:1800]\n",
    "t[3600:5400] = t2[0:1800]\n",
    "# Se definen las etiquetas de las clases para la validación\n",
    "t_val = np.zeros(n*3)\n",
    "t_val[0:200] = t3[1800:2000]\n",
    "t_val[200:400] = t1[1800:2000]\n",
    "t_val[400:600] = t2[1800:2000]\n",
    "\n",
    "# Se definen el numero de folds, utilizando leaving one out \n",
    "kf = KFold(n_splits=5)\n",
    "CV= kf.get_n_splits(X)\n",
    "\n",
    "# Se definen las metricas para evaluar los diferentes modelos\n",
    "scoring = ['recall_macro', 'precision_macro', 'f1_macro','accuracy','roc_auc_ovo']"
   ]
  },
  {
   "cell_type": "markdown",
   "metadata": {},
   "source": [
    "#### Validación cruzada con Logistic Regression"
   ]
  },
  {
   "cell_type": "code",
   "execution_count": 92,
   "metadata": {},
   "outputs": [],
   "source": [
    "modelLR = LogisticRegression(penalty='none', solver = 'lbfgs', max_iter=10000, multi_class='multinomial')\n",
    "\n",
    "scoresLR = cross_validate(modelLR, X, t, cv=CV, scoring=scoring,return_estimator=True,n_jobs=-1)\n",
    "print('Media del LR accuracy : ', np.mean(scoresLR['test_accuracy']))"
   ]
  },
  {
   "cell_type": "code",
   "execution_count": 90,
   "metadata": {},
   "outputs": [
    {
     "name": "stderr",
     "output_type": "stream",
     "text": [
      "C:\\Python38\\lib\\site-packages\\sklearn\\utils\\deprecation.py:87: FutureWarning: Function plot_confusion_matrix is deprecated; Function `plot_confusion_matrix` is deprecated in 1.0 and will be removed in 1.2. Use one of the class methods: ConfusionMatrixDisplay.from_predictions or ConfusionMatrixDisplay.from_estimator.\n",
      "  warnings.warn(msg, category=FutureWarning)\n"
     ]
    },
    {
     "ename": "NotFittedError",
     "evalue": "This LogisticRegression instance is not fitted yet. Call 'fit' with appropriate arguments before using this estimator.",
     "output_type": "error",
     "traceback": [
      "\u001b[1;31m---------------------------------------------------------------------------\u001b[0m",
      "\u001b[1;31mNotFittedError\u001b[0m                            Traceback (most recent call last)",
      "\u001b[1;32md:\\Juan Diego\\Robotic engineer\\UDC\\MachineLearning\\Trabajo Final\\MangoGrading\\DataPreprocesing.ipynb Cell 21'\u001b[0m in \u001b[0;36m<module>\u001b[1;34m\u001b[0m\n\u001b[0;32m      <a href='vscode-notebook-cell:/d%3A/Juan%20Diego/Robotic%20engineer/UDC/MachineLearning/Trabajo%20Final/MangoGrading/DataPreprocesing.ipynb#ch0000052?line=0'>1</a>\u001b[0m Clases\u001b[39m=\u001b[39m[\u001b[39m'\u001b[39m\u001b[39mClase extra\u001b[39m\u001b[39m'\u001b[39m,\u001b[39m'\u001b[39m\u001b[39mClase I\u001b[39m\u001b[39m'\u001b[39m,\u001b[39m'\u001b[39m\u001b[39mClase II\u001b[39m\u001b[39m'\u001b[39m]\n\u001b[1;32m----> <a href='vscode-notebook-cell:/d%3A/Juan%20Diego/Robotic%20engineer/UDC/MachineLearning/Trabajo%20Final/MangoGrading/DataPreprocesing.ipynb#ch0000052?line=1'>2</a>\u001b[0m disp \u001b[39m=\u001b[39m plot_confusion_matrix(modelLR, X, t, display_labels \u001b[39m=\u001b[39;49m Clases, xticks_rotation \u001b[39m=\u001b[39;49m \u001b[39m'\u001b[39;49m\u001b[39mvertical\u001b[39;49m\u001b[39m'\u001b[39;49m) \u001b[39m# Muestra gráficamente la matriz de confusión\u001b[39;00m\n\u001b[0;32m      <a href='vscode-notebook-cell:/d%3A/Juan%20Diego/Robotic%20engineer/UDC/MachineLearning/Trabajo%20Final/MangoGrading/DataPreprocesing.ipynb#ch0000052?line=2'>3</a>\u001b[0m disp\u001b[39m.\u001b[39mfigure_\u001b[39m.\u001b[39msuptitle(\u001b[39m\"\u001b[39m\u001b[39mMatriz de confusión LDA\u001b[39m\u001b[39m\"\u001b[39m);         \u001b[39m# Añade un título a la figura de la matriz de confusión\u001b[39;00m\n\u001b[0;32m      <a href='vscode-notebook-cell:/d%3A/Juan%20Diego/Robotic%20engineer/UDC/MachineLearning/Trabajo%20Final/MangoGrading/DataPreprocesing.ipynb#ch0000052?line=3'>4</a>\u001b[0m disp\u001b[39m.\u001b[39mfigure_\u001b[39m.\u001b[39mset_dpi(\u001b[39m100\u001b[39m)                             \u001b[39m# Establece el tamaño de la figura\u001b[39;00m\n",
      "File \u001b[1;32mC:\\Python38\\lib\\site-packages\\sklearn\\utils\\deprecation.py:88\u001b[0m, in \u001b[0;36mdeprecated._decorate_fun.<locals>.wrapped\u001b[1;34m(*args, **kwargs)\u001b[0m\n\u001b[0;32m     <a href='file:///c%3A/Python38/lib/site-packages/sklearn/utils/deprecation.py?line=84'>85</a>\u001b[0m \u001b[39m@functools\u001b[39m\u001b[39m.\u001b[39mwraps(fun)\n\u001b[0;32m     <a href='file:///c%3A/Python38/lib/site-packages/sklearn/utils/deprecation.py?line=85'>86</a>\u001b[0m \u001b[39mdef\u001b[39;00m \u001b[39mwrapped\u001b[39m(\u001b[39m*\u001b[39margs, \u001b[39m*\u001b[39m\u001b[39m*\u001b[39mkwargs):\n\u001b[0;32m     <a href='file:///c%3A/Python38/lib/site-packages/sklearn/utils/deprecation.py?line=86'>87</a>\u001b[0m     warnings\u001b[39m.\u001b[39mwarn(msg, category\u001b[39m=\u001b[39m\u001b[39mFutureWarning\u001b[39;00m)\n\u001b[1;32m---> <a href='file:///c%3A/Python38/lib/site-packages/sklearn/utils/deprecation.py?line=87'>88</a>\u001b[0m     \u001b[39mreturn\u001b[39;00m fun(\u001b[39m*\u001b[39;49margs, \u001b[39m*\u001b[39;49m\u001b[39m*\u001b[39;49mkwargs)\n",
      "File \u001b[1;32mC:\\Python38\\lib\\site-packages\\sklearn\\metrics\\_plot\\confusion_matrix.py:565\u001b[0m, in \u001b[0;36mplot_confusion_matrix\u001b[1;34m(estimator, X, y_true, labels, sample_weight, normalize, display_labels, include_values, xticks_rotation, values_format, cmap, ax, colorbar)\u001b[0m\n\u001b[0;32m    <a href='file:///c%3A/Python38/lib/site-packages/sklearn/metrics/_plot/confusion_matrix.py?line=561'>562</a>\u001b[0m \u001b[39mif\u001b[39;00m \u001b[39mnot\u001b[39;00m is_classifier(estimator):\n\u001b[0;32m    <a href='file:///c%3A/Python38/lib/site-packages/sklearn/metrics/_plot/confusion_matrix.py?line=562'>563</a>\u001b[0m     \u001b[39mraise\u001b[39;00m \u001b[39mValueError\u001b[39;00m(\u001b[39m\"\u001b[39m\u001b[39mplot_confusion_matrix only supports classifiers\u001b[39m\u001b[39m\"\u001b[39m)\n\u001b[1;32m--> <a href='file:///c%3A/Python38/lib/site-packages/sklearn/metrics/_plot/confusion_matrix.py?line=564'>565</a>\u001b[0m y_pred \u001b[39m=\u001b[39m estimator\u001b[39m.\u001b[39;49mpredict(X)\n\u001b[0;32m    <a href='file:///c%3A/Python38/lib/site-packages/sklearn/metrics/_plot/confusion_matrix.py?line=565'>566</a>\u001b[0m cm \u001b[39m=\u001b[39m confusion_matrix(\n\u001b[0;32m    <a href='file:///c%3A/Python38/lib/site-packages/sklearn/metrics/_plot/confusion_matrix.py?line=566'>567</a>\u001b[0m     y_true, y_pred, sample_weight\u001b[39m=\u001b[39msample_weight, labels\u001b[39m=\u001b[39mlabels, normalize\u001b[39m=\u001b[39mnormalize\n\u001b[0;32m    <a href='file:///c%3A/Python38/lib/site-packages/sklearn/metrics/_plot/confusion_matrix.py?line=567'>568</a>\u001b[0m )\n\u001b[0;32m    <a href='file:///c%3A/Python38/lib/site-packages/sklearn/metrics/_plot/confusion_matrix.py?line=569'>570</a>\u001b[0m \u001b[39mif\u001b[39;00m display_labels \u001b[39mis\u001b[39;00m \u001b[39mNone\u001b[39;00m:\n",
      "File \u001b[1;32mC:\\Python38\\lib\\site-packages\\sklearn\\linear_model\\_base.py:425\u001b[0m, in \u001b[0;36mLinearClassifierMixin.predict\u001b[1;34m(self, X)\u001b[0m\n\u001b[0;32m    <a href='file:///c%3A/Python38/lib/site-packages/sklearn/linear_model/_base.py?line=410'>411</a>\u001b[0m \u001b[39mdef\u001b[39;00m \u001b[39mpredict\u001b[39m(\u001b[39mself\u001b[39m, X):\n\u001b[0;32m    <a href='file:///c%3A/Python38/lib/site-packages/sklearn/linear_model/_base.py?line=411'>412</a>\u001b[0m     \u001b[39m\"\"\"\u001b[39;00m\n\u001b[0;32m    <a href='file:///c%3A/Python38/lib/site-packages/sklearn/linear_model/_base.py?line=412'>413</a>\u001b[0m \u001b[39m    Predict class labels for samples in X.\u001b[39;00m\n\u001b[0;32m    <a href='file:///c%3A/Python38/lib/site-packages/sklearn/linear_model/_base.py?line=413'>414</a>\u001b[0m \n\u001b[1;32m   (...)\u001b[0m\n\u001b[0;32m    <a href='file:///c%3A/Python38/lib/site-packages/sklearn/linear_model/_base.py?line=422'>423</a>\u001b[0m \u001b[39m        Vector containing the class labels for each sample.\u001b[39;00m\n\u001b[0;32m    <a href='file:///c%3A/Python38/lib/site-packages/sklearn/linear_model/_base.py?line=423'>424</a>\u001b[0m \u001b[39m    \"\"\"\u001b[39;00m\n\u001b[1;32m--> <a href='file:///c%3A/Python38/lib/site-packages/sklearn/linear_model/_base.py?line=424'>425</a>\u001b[0m     scores \u001b[39m=\u001b[39m \u001b[39mself\u001b[39;49m\u001b[39m.\u001b[39;49mdecision_function(X)\n\u001b[0;32m    <a href='file:///c%3A/Python38/lib/site-packages/sklearn/linear_model/_base.py?line=425'>426</a>\u001b[0m     \u001b[39mif\u001b[39;00m \u001b[39mlen\u001b[39m(scores\u001b[39m.\u001b[39mshape) \u001b[39m==\u001b[39m \u001b[39m1\u001b[39m:\n\u001b[0;32m    <a href='file:///c%3A/Python38/lib/site-packages/sklearn/linear_model/_base.py?line=426'>427</a>\u001b[0m         indices \u001b[39m=\u001b[39m (scores \u001b[39m>\u001b[39m \u001b[39m0\u001b[39m)\u001b[39m.\u001b[39mastype(\u001b[39mint\u001b[39m)\n",
      "File \u001b[1;32mC:\\Python38\\lib\\site-packages\\sklearn\\linear_model\\_base.py:405\u001b[0m, in \u001b[0;36mLinearClassifierMixin.decision_function\u001b[1;34m(self, X)\u001b[0m\n\u001b[0;32m    <a href='file:///c%3A/Python38/lib/site-packages/sklearn/linear_model/_base.py?line=385'>386</a>\u001b[0m \u001b[39mdef\u001b[39;00m \u001b[39mdecision_function\u001b[39m(\u001b[39mself\u001b[39m, X):\n\u001b[0;32m    <a href='file:///c%3A/Python38/lib/site-packages/sklearn/linear_model/_base.py?line=386'>387</a>\u001b[0m     \u001b[39m\"\"\"\u001b[39;00m\n\u001b[0;32m    <a href='file:///c%3A/Python38/lib/site-packages/sklearn/linear_model/_base.py?line=387'>388</a>\u001b[0m \u001b[39m    Predict confidence scores for samples.\u001b[39;00m\n\u001b[0;32m    <a href='file:///c%3A/Python38/lib/site-packages/sklearn/linear_model/_base.py?line=388'>389</a>\u001b[0m \n\u001b[1;32m   (...)\u001b[0m\n\u001b[0;32m    <a href='file:///c%3A/Python38/lib/site-packages/sklearn/linear_model/_base.py?line=402'>403</a>\u001b[0m \u001b[39m        this class would be predicted.\u001b[39;00m\n\u001b[0;32m    <a href='file:///c%3A/Python38/lib/site-packages/sklearn/linear_model/_base.py?line=403'>404</a>\u001b[0m \u001b[39m    \"\"\"\u001b[39;00m\n\u001b[1;32m--> <a href='file:///c%3A/Python38/lib/site-packages/sklearn/linear_model/_base.py?line=404'>405</a>\u001b[0m     check_is_fitted(\u001b[39mself\u001b[39;49m)\n\u001b[0;32m    <a href='file:///c%3A/Python38/lib/site-packages/sklearn/linear_model/_base.py?line=406'>407</a>\u001b[0m     X \u001b[39m=\u001b[39m \u001b[39mself\u001b[39m\u001b[39m.\u001b[39m_validate_data(X, accept_sparse\u001b[39m=\u001b[39m\u001b[39m\"\u001b[39m\u001b[39mcsr\u001b[39m\u001b[39m\"\u001b[39m, reset\u001b[39m=\u001b[39m\u001b[39mFalse\u001b[39;00m)\n\u001b[0;32m    <a href='file:///c%3A/Python38/lib/site-packages/sklearn/linear_model/_base.py?line=407'>408</a>\u001b[0m     scores \u001b[39m=\u001b[39m safe_sparse_dot(X, \u001b[39mself\u001b[39m\u001b[39m.\u001b[39mcoef_\u001b[39m.\u001b[39mT, dense_output\u001b[39m=\u001b[39m\u001b[39mTrue\u001b[39;00m) \u001b[39m+\u001b[39m \u001b[39mself\u001b[39m\u001b[39m.\u001b[39mintercept_\n",
      "File \u001b[1;32mC:\\Python38\\lib\\site-packages\\sklearn\\utils\\validation.py:1222\u001b[0m, in \u001b[0;36mcheck_is_fitted\u001b[1;34m(estimator, attributes, msg, all_or_any)\u001b[0m\n\u001b[0;32m   <a href='file:///c%3A/Python38/lib/site-packages/sklearn/utils/validation.py?line=1216'>1217</a>\u001b[0m     fitted \u001b[39m=\u001b[39m [\n\u001b[0;32m   <a href='file:///c%3A/Python38/lib/site-packages/sklearn/utils/validation.py?line=1217'>1218</a>\u001b[0m         v \u001b[39mfor\u001b[39;00m v \u001b[39min\u001b[39;00m \u001b[39mvars\u001b[39m(estimator) \u001b[39mif\u001b[39;00m v\u001b[39m.\u001b[39mendswith(\u001b[39m\"\u001b[39m\u001b[39m_\u001b[39m\u001b[39m\"\u001b[39m) \u001b[39mand\u001b[39;00m \u001b[39mnot\u001b[39;00m v\u001b[39m.\u001b[39mstartswith(\u001b[39m\"\u001b[39m\u001b[39m__\u001b[39m\u001b[39m\"\u001b[39m)\n\u001b[0;32m   <a href='file:///c%3A/Python38/lib/site-packages/sklearn/utils/validation.py?line=1218'>1219</a>\u001b[0m     ]\n\u001b[0;32m   <a href='file:///c%3A/Python38/lib/site-packages/sklearn/utils/validation.py?line=1220'>1221</a>\u001b[0m \u001b[39mif\u001b[39;00m \u001b[39mnot\u001b[39;00m fitted:\n\u001b[1;32m-> <a href='file:///c%3A/Python38/lib/site-packages/sklearn/utils/validation.py?line=1221'>1222</a>\u001b[0m     \u001b[39mraise\u001b[39;00m NotFittedError(msg \u001b[39m%\u001b[39m {\u001b[39m\"\u001b[39m\u001b[39mname\u001b[39m\u001b[39m\"\u001b[39m: \u001b[39mtype\u001b[39m(estimator)\u001b[39m.\u001b[39m\u001b[39m__name__\u001b[39m})\n",
      "\u001b[1;31mNotFittedError\u001b[0m: This LogisticRegression instance is not fitted yet. Call 'fit' with appropriate arguments before using this estimator."
     ]
    }
   ],
   "source": [
    "Clases=['Clase extra','Clase I','Clase II']\n",
    "disp = plot_confusion_matrix(modelLR, X, t, display_labels = Clases, xticks_rotation = 'vertical') # Muestra gráficamente la matriz de confusión\n",
    "disp.figure_.suptitle(\"Matriz de confusión LDA\");         # Añade un título a la figura de la matriz de confusión\n",
    "disp.figure_.set_dpi(100)                             # Establece el tamaño de la figura\n",
    "plt.xlabel(\"Clase predicha\")\n",
    "plt.ylabel(\"Clase real\")"
   ]
  },
  {
   "cell_type": "code",
   "execution_count": 89,
   "metadata": {},
   "outputs": [
    {
     "data": {
      "text/html": [
       "<div>\n",
       "<style scoped>\n",
       "    .dataframe tbody tr th:only-of-type {\n",
       "        vertical-align: middle;\n",
       "    }\n",
       "\n",
       "    .dataframe tbody tr th {\n",
       "        vertical-align: top;\n",
       "    }\n",
       "\n",
       "    .dataframe thead th {\n",
       "        text-align: right;\n",
       "    }\n",
       "</style>\n",
       "<table border=\"1\" class=\"dataframe\">\n",
       "  <thead>\n",
       "    <tr style=\"text-align: right;\">\n",
       "      <th></th>\n",
       "      <th>test_recall_macro</th>\n",
       "      <th>test_precision_macro</th>\n",
       "      <th>test_f1_macro</th>\n",
       "      <th>test_accuracy</th>\n",
       "      <th>test_roc_auc_ovo</th>\n",
       "    </tr>\n",
       "  </thead>\n",
       "  <tbody>\n",
       "    <tr>\n",
       "      <th>1.0</th>\n",
       "      <td>0.963889</td>\n",
       "      <td>0.964358</td>\n",
       "      <td>0.963972</td>\n",
       "      <td>0.963889</td>\n",
       "      <td>0.983760</td>\n",
       "    </tr>\n",
       "    <tr>\n",
       "      <th>2.0</th>\n",
       "      <td>0.973148</td>\n",
       "      <td>0.973148</td>\n",
       "      <td>0.973148</td>\n",
       "      <td>0.973148</td>\n",
       "      <td>0.986941</td>\n",
       "    </tr>\n",
       "    <tr>\n",
       "      <th>3.0</th>\n",
       "      <td>0.963889</td>\n",
       "      <td>0.963965</td>\n",
       "      <td>0.963813</td>\n",
       "      <td>0.963889</td>\n",
       "      <td>0.986599</td>\n",
       "    </tr>\n",
       "    <tr>\n",
       "      <th>4.0</th>\n",
       "      <td>0.963889</td>\n",
       "      <td>0.964220</td>\n",
       "      <td>0.963917</td>\n",
       "      <td>0.963889</td>\n",
       "      <td>0.988980</td>\n",
       "    </tr>\n",
       "    <tr>\n",
       "      <th>5.0</th>\n",
       "      <td>0.960185</td>\n",
       "      <td>0.960399</td>\n",
       "      <td>0.960254</td>\n",
       "      <td>0.960185</td>\n",
       "      <td>0.984227</td>\n",
       "    </tr>\n",
       "  </tbody>\n",
       "</table>\n",
       "</div>"
      ],
      "text/plain": [
       "     test_recall_macro  test_precision_macro  test_f1_macro  test_accuracy  \\\n",
       "1.0           0.963889              0.964358       0.963972       0.963889   \n",
       "2.0           0.973148              0.973148       0.973148       0.973148   \n",
       "3.0           0.963889              0.963965       0.963813       0.963889   \n",
       "4.0           0.963889              0.964220       0.963917       0.963889   \n",
       "5.0           0.960185              0.960399       0.960254       0.960185   \n",
       "\n",
       "     test_roc_auc_ovo  \n",
       "1.0          0.983760  \n",
       "2.0          0.986941  \n",
       "3.0          0.986599  \n",
       "4.0          0.988980  \n",
       "5.0          0.984227  "
      ]
     },
     "execution_count": 89,
     "metadata": {},
     "output_type": "execute_result"
    }
   ],
   "source": [
    "df = pd.DataFrame.from_dict(scoresLR)\n",
    "df.drop(df.iloc[:, 0:2], inplace = True, axis = 1)\n",
    "df.index = np.linspace(1,5,5)\n",
    "df.head()\n"
   ]
  },
  {
   "cell_type": "markdown",
   "metadata": {},
   "source": [
    "#### Validación cruzada con LDA (NO SE VA A USAR)"
   ]
  },
  {
   "cell_type": "code",
   "execution_count": 18,
   "metadata": {},
   "outputs": [
    {
     "name": "stdout",
     "output_type": "stream",
     "text": [
      "Media del LDA :  0.951851851851852\n"
     ]
    }
   ],
   "source": [
    "modelLDA = LinearDiscriminantAnalysis()\n",
    "scoresLDA = cross_validate(modelLDA, X, t, cv=CV, scoring=scoring)\n",
    "print('Media del LDA : ', np.mean(scoresLDA['test_accuracy']))"
   ]
  },
  {
   "cell_type": "markdown",
   "metadata": {},
   "source": [
    "#### Validación cruzada con KNN"
   ]
  },
  {
   "cell_type": "code",
   "execution_count": 19,
   "metadata": {},
   "outputs": [
    {
     "name": "stdout",
     "output_type": "stream",
     "text": [
      "Media del KNN :  0.689074074074074\n"
     ]
    }
   ],
   "source": [
    "modelKNN = KNeighborsClassifier(round(np.sqrt((f-1)*n)))\n",
    "scoresKNN = cross_validate(modelKNN, X, t, cv=CV, scoring=scoring)\n",
    "print('Media del KNN : ', np.mean(scoresKNN['test_accuracy']))"
   ]
  },
  {
   "cell_type": "markdown",
   "metadata": {},
   "source": [
    "#### Validación cruzada con Random Forest"
   ]
  },
  {
   "cell_type": "code",
   "execution_count": 20,
   "metadata": {},
   "outputs": [
    {
     "name": "stdout",
     "output_type": "stream",
     "text": [
      "Media del KNN :  0.9796296296296296\n"
     ]
    }
   ],
   "source": [
    "modelRF = RandomForestClassifier(n_estimators=20, criterion='gini')\n",
    "scoresRF = cross_validate(modelRF, X, t, cv=CV, scoring=scoring)\n",
    "print('Media del KNN : ', np.mean(scoresRF['test_accuracy']))"
   ]
  },
  {
   "cell_type": "markdown",
   "metadata": {},
   "source": [
    "#### Se importa la red CNN VGG16 para utilizar su arquitectura y conocimento para resolver nuestro problema "
   ]
  },
  {
   "cell_type": "code",
   "execution_count": 21,
   "metadata": {},
   "outputs": [
    {
     "name": "stdout",
     "output_type": "stream",
     "text": [
      "Downloading data from https://storage.googleapis.com/tensorflow/keras-applications/vgg16/vgg16_weights_tf_dim_ordering_tf_kernels_notop.h5\n",
      "58892288/58889256 [==============================] - 2s 0us/step\n",
      "58900480/58889256 [==============================] - 2s 0us/step\n",
      "Model: \"vgg16\"\n",
      "_________________________________________________________________\n",
      " Layer (type)                Output Shape              Param #   \n",
      "=================================================================\n",
      " input_1 (InputLayer)        [(None, 32, 32, 3)]       0         \n",
      "                                                                 \n",
      " block1_conv1 (Conv2D)       (None, 32, 32, 64)        1792      \n",
      "                                                                 \n",
      " block1_conv2 (Conv2D)       (None, 32, 32, 64)        36928     \n",
      "                                                                 \n",
      " block1_pool (MaxPooling2D)  (None, 16, 16, 64)        0         \n",
      "                                                                 \n",
      " block2_conv1 (Conv2D)       (None, 16, 16, 128)       73856     \n",
      "                                                                 \n",
      " block2_conv2 (Conv2D)       (None, 16, 16, 128)       147584    \n",
      "                                                                 \n",
      " block2_pool (MaxPooling2D)  (None, 8, 8, 128)         0         \n",
      "                                                                 \n",
      " block3_conv1 (Conv2D)       (None, 8, 8, 256)         295168    \n",
      "                                                                 \n",
      " block3_conv2 (Conv2D)       (None, 8, 8, 256)         590080    \n",
      "                                                                 \n",
      " block3_conv3 (Conv2D)       (None, 8, 8, 256)         590080    \n",
      "                                                                 \n",
      " block3_pool (MaxPooling2D)  (None, 4, 4, 256)         0         \n",
      "                                                                 \n",
      " block4_conv1 (Conv2D)       (None, 4, 4, 512)         1180160   \n",
      "                                                                 \n",
      " block4_conv2 (Conv2D)       (None, 4, 4, 512)         2359808   \n",
      "                                                                 \n",
      " block4_conv3 (Conv2D)       (None, 4, 4, 512)         2359808   \n",
      "                                                                 \n",
      " block4_pool (MaxPooling2D)  (None, 2, 2, 512)         0         \n",
      "                                                                 \n",
      " block5_conv1 (Conv2D)       (None, 2, 2, 512)         2359808   \n",
      "                                                                 \n",
      " block5_conv2 (Conv2D)       (None, 2, 2, 512)         2359808   \n",
      "                                                                 \n",
      " block5_conv3 (Conv2D)       (None, 2, 2, 512)         2359808   \n",
      "                                                                 \n",
      " block5_pool (MaxPooling2D)  (None, 1, 1, 512)         0         \n",
      "                                                                 \n",
      "=================================================================\n",
      "Total params: 14,714,688\n",
      "Trainable params: 14,714,688\n",
      "Non-trainable params: 0\n",
      "_________________________________________________________________\n"
     ]
    }
   ],
   "source": [
    "from keras import applications\n",
    "from keras.models import Sequential\n",
    "from keras.applications import vgg16\n",
    "from keras.layers import Conv2D, MaxPool2D, Flatten, Dense, InputLayer, BatchNormalization, Dropout\n",
    "# include top should be False to remove the softmax layer\n",
    "pretrained_model = vgg16.VGG16(include_top=False, weights='imagenet', input_shape=(32,32,3))\n",
    "pretrained_model.summary()"
   ]
  },
  {
   "cell_type": "code",
   "execution_count": 22,
   "metadata": {},
   "outputs": [],
   "source": [
    "X_train, train_target = shuffle(X_train, t, random_state=0)\n",
    "X_val, val_target = shuffle(X_val, t_val, random_state=0)\n",
    "# extract train and val features\n",
    "vgg_features_train = pretrained_model.predict(X_train)\n",
    "vgg_features_val = pretrained_model.predict(X_val)"
   ]
  },
  {
   "cell_type": "code",
   "execution_count": 23,
   "metadata": {},
   "outputs": [],
   "source": [
    "# OHE target column)\n",
    "train_target = tf.keras.utils.to_categorical(train_target)[:,1:4]\n",
    "val_target = tf.keras.utils.to_categorical(val_target)[:,1:4]"
   ]
  },
  {
   "cell_type": "code",
   "execution_count": 24,
   "metadata": {},
   "outputs": [
    {
     "name": "stdout",
     "output_type": "stream",
     "text": [
      "Model: \"sequential_2\"\n",
      "_________________________________________________________________\n",
      " Layer (type)                Output Shape              Param #   \n",
      "=================================================================\n",
      " flatten (Flatten)           (None, 512)               0         \n",
      "                                                                 \n",
      " dense (Dense)               (None, 100)               51300     \n",
      "                                                                 \n",
      " dropout (Dropout)           (None, 100)               0         \n",
      "                                                                 \n",
      " batch_normalization (BatchN  (None, 100)              400       \n",
      " ormalization)                                                   \n",
      "                                                                 \n",
      " dense_1 (Dense)             (None, 3)                 303       \n",
      "                                                                 \n",
      "=================================================================\n",
      "Total params: 52,003\n",
      "Trainable params: 51,803\n",
      "Non-trainable params: 200\n",
      "_________________________________________________________________\n"
     ]
    }
   ],
   "source": [
    "modelCNN = Sequential()\n",
    "modelCNN.add(Flatten(input_shape=(1,1,512)))\n",
    "modelCNN.add(Dense(100, activation='relu'))\n",
    "modelCNN.add(Dropout(0.5))\n",
    "modelCNN.add(BatchNormalization())\n",
    "modelCNN.add(Dense(3, activation='softmax'))\n",
    "# compile the model\n",
    "modelCNN.compile(optimizer='adam', metrics=['accuracy'], loss='categorical_crossentropy')\n",
    "modelCNN.summary()"
   ]
  },
  {
   "cell_type": "code",
   "execution_count": 25,
   "metadata": {},
   "outputs": [
    {
     "name": "stdout",
     "output_type": "stream",
     "text": [
      "Epoch 1/100\n",
      "108/108 [==============================] - 1s 3ms/step - loss: 0.8370 - accuracy: 0.6157 - val_loss: 0.9101 - val_accuracy: 0.5117\n",
      "Epoch 2/100\n",
      "108/108 [==============================] - 0s 2ms/step - loss: 0.6439 - accuracy: 0.7211 - val_loss: 0.7196 - val_accuracy: 0.7217\n",
      "Epoch 3/100\n",
      "108/108 [==============================] - 0s 2ms/step - loss: 0.5855 - accuracy: 0.7507 - val_loss: 0.6453 - val_accuracy: 0.7417\n",
      "Epoch 4/100\n",
      "108/108 [==============================] - 0s 2ms/step - loss: 0.5921 - accuracy: 0.7496 - val_loss: 0.6066 - val_accuracy: 0.7517\n",
      "Epoch 5/100\n",
      "108/108 [==============================] - 0s 2ms/step - loss: 0.5964 - accuracy: 0.7411 - val_loss: 0.5916 - val_accuracy: 0.7633\n",
      "Epoch 6/100\n",
      "108/108 [==============================] - 0s 2ms/step - loss: 0.6266 - accuracy: 0.7287 - val_loss: 0.6822 - val_accuracy: 0.6750\n",
      "Epoch 7/100\n",
      "108/108 [==============================] - 0s 2ms/step - loss: 0.5972 - accuracy: 0.7430 - val_loss: 0.5506 - val_accuracy: 0.7867\n",
      "Epoch 8/100\n",
      "108/108 [==============================] - 0s 2ms/step - loss: 0.6105 - accuracy: 0.7322 - val_loss: 0.5291 - val_accuracy: 0.7967\n",
      "Epoch 9/100\n",
      "108/108 [==============================] - 0s 2ms/step - loss: 0.5917 - accuracy: 0.7378 - val_loss: 0.5211 - val_accuracy: 0.7750\n",
      "Epoch 10/100\n",
      "108/108 [==============================] - 0s 2ms/step - loss: 0.5641 - accuracy: 0.7535 - val_loss: 0.4676 - val_accuracy: 0.7983\n",
      "Epoch 11/100\n",
      "108/108 [==============================] - 0s 2ms/step - loss: 0.5693 - accuracy: 0.7472 - val_loss: 0.4727 - val_accuracy: 0.7950\n",
      "Epoch 12/100\n",
      "108/108 [==============================] - 0s 2ms/step - loss: 0.5623 - accuracy: 0.7454 - val_loss: 0.5239 - val_accuracy: 0.7800\n",
      "Epoch 13/100\n",
      "108/108 [==============================] - 0s 2ms/step - loss: 0.5694 - accuracy: 0.7463 - val_loss: 0.4563 - val_accuracy: 0.8267\n",
      "Epoch 14/100\n",
      "108/108 [==============================] - 0s 2ms/step - loss: 0.5817 - accuracy: 0.7344 - val_loss: 0.7758 - val_accuracy: 0.6650\n",
      "Epoch 15/100\n",
      "108/108 [==============================] - 0s 2ms/step - loss: 0.5667 - accuracy: 0.7443 - val_loss: 0.4585 - val_accuracy: 0.8150\n",
      "Epoch 16/100\n",
      "108/108 [==============================] - 0s 2ms/step - loss: 0.5624 - accuracy: 0.7446 - val_loss: 0.4326 - val_accuracy: 0.8333\n",
      "Epoch 17/100\n",
      "108/108 [==============================] - 0s 2ms/step - loss: 0.5493 - accuracy: 0.7502 - val_loss: 0.4233 - val_accuracy: 0.8433\n",
      "Epoch 18/100\n",
      "108/108 [==============================] - 0s 2ms/step - loss: 0.5724 - accuracy: 0.7439 - val_loss: 0.4367 - val_accuracy: 0.8400\n",
      "Epoch 19/100\n",
      "108/108 [==============================] - 0s 2ms/step - loss: 0.5717 - accuracy: 0.7406 - val_loss: 0.4574 - val_accuracy: 0.8233\n",
      "Epoch 20/100\n",
      "108/108 [==============================] - 0s 2ms/step - loss: 0.5864 - accuracy: 0.7250 - val_loss: 0.5042 - val_accuracy: 0.7850\n",
      "Epoch 21/100\n",
      "108/108 [==============================] - 0s 2ms/step - loss: 0.5777 - accuracy: 0.7274 - val_loss: 0.4966 - val_accuracy: 0.7783\n",
      "Epoch 22/100\n",
      "108/108 [==============================] - 0s 2ms/step - loss: 0.5747 - accuracy: 0.7320 - val_loss: 0.4843 - val_accuracy: 0.7783\n",
      "Epoch 23/100\n",
      "108/108 [==============================] - 0s 2ms/step - loss: 0.5587 - accuracy: 0.7304 - val_loss: 0.4020 - val_accuracy: 0.8583\n",
      "Epoch 24/100\n",
      "108/108 [==============================] - 0s 2ms/step - loss: 0.5707 - accuracy: 0.7387 - val_loss: 0.4028 - val_accuracy: 0.8500\n",
      "Epoch 25/100\n",
      "108/108 [==============================] - 0s 2ms/step - loss: 0.5646 - accuracy: 0.7381 - val_loss: 0.4129 - val_accuracy: 0.8483\n",
      "Epoch 26/100\n",
      "108/108 [==============================] - 0s 2ms/step - loss: 0.5594 - accuracy: 0.7391 - val_loss: 0.3978 - val_accuracy: 0.8417\n",
      "Epoch 27/100\n",
      "108/108 [==============================] - 0s 2ms/step - loss: 0.5797 - accuracy: 0.7209 - val_loss: 0.4281 - val_accuracy: 0.8200\n",
      "Epoch 28/100\n",
      "108/108 [==============================] - 0s 2ms/step - loss: 0.5977 - accuracy: 0.7156 - val_loss: 0.4435 - val_accuracy: 0.8500\n",
      "Epoch 29/100\n",
      "108/108 [==============================] - 0s 2ms/step - loss: 0.5859 - accuracy: 0.7228 - val_loss: 0.4139 - val_accuracy: 0.8317\n",
      "Epoch 30/100\n",
      "108/108 [==============================] - 0s 2ms/step - loss: 0.5848 - accuracy: 0.7193 - val_loss: 0.4461 - val_accuracy: 0.8150\n",
      "Epoch 31/100\n",
      "108/108 [==============================] - 0s 2ms/step - loss: 0.6043 - accuracy: 0.7115 - val_loss: 0.4105 - val_accuracy: 0.8583\n",
      "Epoch 32/100\n",
      "108/108 [==============================] - 0s 2ms/step - loss: 0.5925 - accuracy: 0.7163 - val_loss: 0.4061 - val_accuracy: 0.8367\n",
      "Epoch 33/100\n",
      "108/108 [==============================] - 0s 2ms/step - loss: 0.5770 - accuracy: 0.7304 - val_loss: 0.4531 - val_accuracy: 0.8600\n",
      "Epoch 34/100\n",
      "108/108 [==============================] - 0s 2ms/step - loss: 0.5765 - accuracy: 0.7235 - val_loss: 0.4232 - val_accuracy: 0.8317\n",
      "Epoch 35/100\n",
      "108/108 [==============================] - 0s 2ms/step - loss: 0.5815 - accuracy: 0.7230 - val_loss: 0.4521 - val_accuracy: 0.8083\n",
      "Epoch 36/100\n",
      "108/108 [==============================] - 0s 2ms/step - loss: 0.5837 - accuracy: 0.7244 - val_loss: 0.4253 - val_accuracy: 0.8517\n",
      "Epoch 37/100\n",
      "108/108 [==============================] - 0s 2ms/step - loss: 0.6043 - accuracy: 0.7111 - val_loss: 0.5003 - val_accuracy: 0.8133\n",
      "Epoch 38/100\n",
      "108/108 [==============================] - 0s 2ms/step - loss: 0.5933 - accuracy: 0.7126 - val_loss: 0.3891 - val_accuracy: 0.8550\n",
      "Epoch 39/100\n",
      "108/108 [==============================] - 0s 2ms/step - loss: 0.5747 - accuracy: 0.7267 - val_loss: 0.4093 - val_accuracy: 0.8517\n",
      "Epoch 40/100\n",
      "108/108 [==============================] - 0s 2ms/step - loss: 0.5772 - accuracy: 0.7267 - val_loss: 0.3836 - val_accuracy: 0.8400\n",
      "Epoch 41/100\n",
      "108/108 [==============================] - 0s 2ms/step - loss: 0.5794 - accuracy: 0.7248 - val_loss: 0.3845 - val_accuracy: 0.8517\n",
      "Epoch 42/100\n",
      "108/108 [==============================] - 0s 2ms/step - loss: 0.5855 - accuracy: 0.7143 - val_loss: 0.4181 - val_accuracy: 0.8167\n",
      "Epoch 43/100\n",
      "108/108 [==============================] - 0s 2ms/step - loss: 0.5732 - accuracy: 0.7256 - val_loss: 0.4332 - val_accuracy: 0.8017\n",
      "Epoch 44/100\n",
      "108/108 [==============================] - 0s 2ms/step - loss: 0.5635 - accuracy: 0.7381 - val_loss: 0.4072 - val_accuracy: 0.8750\n",
      "Epoch 45/100\n",
      "108/108 [==============================] - 0s 2ms/step - loss: 0.5695 - accuracy: 0.7257 - val_loss: 0.3936 - val_accuracy: 0.8533\n",
      "Epoch 46/100\n",
      "108/108 [==============================] - 0s 2ms/step - loss: 0.5669 - accuracy: 0.7302 - val_loss: 0.4093 - val_accuracy: 0.8683\n",
      "Epoch 47/100\n",
      "108/108 [==============================] - 0s 2ms/step - loss: 0.5676 - accuracy: 0.7278 - val_loss: 0.4641 - val_accuracy: 0.8200\n",
      "Epoch 48/100\n",
      "108/108 [==============================] - 0s 2ms/step - loss: 0.5512 - accuracy: 0.7344 - val_loss: 0.3950 - val_accuracy: 0.8333\n",
      "Epoch 49/100\n",
      "108/108 [==============================] - 0s 2ms/step - loss: 0.5505 - accuracy: 0.7380 - val_loss: 0.3942 - val_accuracy: 0.8550\n",
      "Epoch 50/100\n",
      "108/108 [==============================] - 0s 2ms/step - loss: 0.5609 - accuracy: 0.7289 - val_loss: 0.3683 - val_accuracy: 0.8667\n",
      "Epoch 51/100\n",
      "108/108 [==============================] - 0s 2ms/step - loss: 0.5648 - accuracy: 0.7341 - val_loss: 0.4054 - val_accuracy: 0.8533\n",
      "Epoch 52/100\n",
      "108/108 [==============================] - 0s 2ms/step - loss: 0.5496 - accuracy: 0.7428 - val_loss: 0.3714 - val_accuracy: 0.8567\n",
      "Epoch 53/100\n",
      "108/108 [==============================] - 0s 2ms/step - loss: 0.5582 - accuracy: 0.7380 - val_loss: 0.4025 - val_accuracy: 0.8517\n",
      "Epoch 54/100\n",
      "108/108 [==============================] - 0s 2ms/step - loss: 0.5487 - accuracy: 0.7409 - val_loss: 0.4187 - val_accuracy: 0.8083\n",
      "Epoch 55/100\n",
      "108/108 [==============================] - 0s 2ms/step - loss: 0.5567 - accuracy: 0.7378 - val_loss: 0.3779 - val_accuracy: 0.8517\n",
      "Epoch 56/100\n",
      "108/108 [==============================] - 0s 2ms/step - loss: 0.5593 - accuracy: 0.7337 - val_loss: 0.3719 - val_accuracy: 0.8483\n",
      "Epoch 57/100\n",
      "108/108 [==============================] - 0s 2ms/step - loss: 0.5362 - accuracy: 0.7469 - val_loss: 0.3999 - val_accuracy: 0.8133\n",
      "Epoch 58/100\n",
      "108/108 [==============================] - 0s 2ms/step - loss: 0.5572 - accuracy: 0.7324 - val_loss: 0.3653 - val_accuracy: 0.8733\n",
      "Epoch 59/100\n",
      "108/108 [==============================] - 0s 2ms/step - loss: 0.5533 - accuracy: 0.7365 - val_loss: 0.4143 - val_accuracy: 0.8367\n",
      "Epoch 60/100\n",
      "108/108 [==============================] - 0s 2ms/step - loss: 0.5502 - accuracy: 0.7431 - val_loss: 0.3769 - val_accuracy: 0.8600\n",
      "Epoch 61/100\n",
      "108/108 [==============================] - 0s 2ms/step - loss: 0.5613 - accuracy: 0.7426 - val_loss: 0.3744 - val_accuracy: 0.8633\n",
      "Epoch 62/100\n",
      "108/108 [==============================] - 0s 2ms/step - loss: 0.5494 - accuracy: 0.7374 - val_loss: 0.3969 - val_accuracy: 0.8517\n",
      "Epoch 63/100\n",
      "108/108 [==============================] - 0s 2ms/step - loss: 0.5705 - accuracy: 0.7237 - val_loss: 0.4116 - val_accuracy: 0.8667\n",
      "Epoch 64/100\n",
      "108/108 [==============================] - 0s 2ms/step - loss: 0.6011 - accuracy: 0.7046 - val_loss: 0.4072 - val_accuracy: 0.8500\n",
      "Epoch 65/100\n",
      "108/108 [==============================] - 0s 2ms/step - loss: 0.6148 - accuracy: 0.6972 - val_loss: 0.4381 - val_accuracy: 0.8317\n",
      "Epoch 66/100\n",
      "108/108 [==============================] - 0s 2ms/step - loss: 0.6104 - accuracy: 0.7098 - val_loss: 0.4405 - val_accuracy: 0.8500\n",
      "Epoch 67/100\n",
      "108/108 [==============================] - 0s 2ms/step - loss: 0.5869 - accuracy: 0.7220 - val_loss: 0.4202 - val_accuracy: 0.8283\n",
      "Epoch 68/100\n",
      "108/108 [==============================] - 0s 2ms/step - loss: 0.5799 - accuracy: 0.7207 - val_loss: 0.4075 - val_accuracy: 0.8317\n",
      "Epoch 69/100\n",
      "108/108 [==============================] - 0s 2ms/step - loss: 0.5832 - accuracy: 0.7102 - val_loss: 0.3886 - val_accuracy: 0.8583\n",
      "Epoch 70/100\n",
      "108/108 [==============================] - 0s 2ms/step - loss: 0.6054 - accuracy: 0.7039 - val_loss: 0.3810 - val_accuracy: 0.8683\n",
      "Epoch 71/100\n",
      "108/108 [==============================] - 0s 2ms/step - loss: 0.5901 - accuracy: 0.7146 - val_loss: 0.3799 - val_accuracy: 0.8683\n",
      "Epoch 72/100\n",
      "108/108 [==============================] - 0s 2ms/step - loss: 0.5790 - accuracy: 0.7209 - val_loss: 0.4084 - val_accuracy: 0.8450\n",
      "Epoch 73/100\n",
      "108/108 [==============================] - 0s 2ms/step - loss: 0.5878 - accuracy: 0.7237 - val_loss: 0.3732 - val_accuracy: 0.8667\n",
      "Epoch 74/100\n",
      "108/108 [==============================] - 0s 2ms/step - loss: 0.5836 - accuracy: 0.7276 - val_loss: 0.4177 - val_accuracy: 0.8417\n",
      "Epoch 75/100\n",
      "108/108 [==============================] - 0s 2ms/step - loss: 0.5863 - accuracy: 0.7207 - val_loss: 0.4423 - val_accuracy: 0.8583\n",
      "Epoch 76/100\n",
      "108/108 [==============================] - 0s 2ms/step - loss: 0.5790 - accuracy: 0.7241 - val_loss: 0.3988 - val_accuracy: 0.8400\n",
      "Epoch 77/100\n",
      "108/108 [==============================] - 0s 2ms/step - loss: 0.5822 - accuracy: 0.7196 - val_loss: 0.4003 - val_accuracy: 0.8000\n",
      "Epoch 78/100\n",
      "108/108 [==============================] - 0s 2ms/step - loss: 0.5900 - accuracy: 0.7209 - val_loss: 0.4135 - val_accuracy: 0.8500\n",
      "Epoch 79/100\n",
      "108/108 [==============================] - 0s 2ms/step - loss: 0.5864 - accuracy: 0.7206 - val_loss: 0.3718 - val_accuracy: 0.8533\n",
      "Epoch 80/100\n",
      "108/108 [==============================] - 0s 2ms/step - loss: 0.6027 - accuracy: 0.7139 - val_loss: 0.4664 - val_accuracy: 0.7867\n",
      "Epoch 81/100\n",
      "108/108 [==============================] - 0s 2ms/step - loss: 0.5731 - accuracy: 0.7222 - val_loss: 0.3757 - val_accuracy: 0.8583\n",
      "Epoch 82/100\n",
      "108/108 [==============================] - 0s 2ms/step - loss: 0.5843 - accuracy: 0.7274 - val_loss: 0.4412 - val_accuracy: 0.8217\n",
      "Epoch 83/100\n",
      "108/108 [==============================] - 0s 2ms/step - loss: 0.5911 - accuracy: 0.7224 - val_loss: 0.3964 - val_accuracy: 0.8667\n",
      "Epoch 84/100\n",
      "108/108 [==============================] - 0s 2ms/step - loss: 0.5759 - accuracy: 0.7272 - val_loss: 0.3959 - val_accuracy: 0.8633\n",
      "Epoch 85/100\n",
      "108/108 [==============================] - 0s 2ms/step - loss: 0.5806 - accuracy: 0.7344 - val_loss: 0.3875 - val_accuracy: 0.8617\n",
      "Epoch 86/100\n",
      "108/108 [==============================] - 0s 2ms/step - loss: 0.5693 - accuracy: 0.7328 - val_loss: 0.3660 - val_accuracy: 0.8717\n",
      "Epoch 87/100\n",
      "108/108 [==============================] - 0s 2ms/step - loss: 0.5958 - accuracy: 0.7137 - val_loss: 0.4183 - val_accuracy: 0.8567\n",
      "Epoch 88/100\n",
      "108/108 [==============================] - 0s 2ms/step - loss: 0.5964 - accuracy: 0.7169 - val_loss: 0.3975 - val_accuracy: 0.8533\n",
      "Epoch 89/100\n",
      "108/108 [==============================] - 0s 2ms/step - loss: 0.5765 - accuracy: 0.7248 - val_loss: 0.3804 - val_accuracy: 0.8633\n",
      "Epoch 90/100\n",
      "108/108 [==============================] - 0s 2ms/step - loss: 0.5773 - accuracy: 0.7161 - val_loss: 0.3662 - val_accuracy: 0.8767\n",
      "Epoch 91/100\n",
      "108/108 [==============================] - 0s 2ms/step - loss: 0.5980 - accuracy: 0.7193 - val_loss: 0.3611 - val_accuracy: 0.8667\n",
      "Epoch 92/100\n",
      "108/108 [==============================] - 0s 2ms/step - loss: 0.5817 - accuracy: 0.7291 - val_loss: 0.3516 - val_accuracy: 0.8817\n",
      "Epoch 93/100\n",
      "108/108 [==============================] - 0s 2ms/step - loss: 0.5802 - accuracy: 0.7224 - val_loss: 0.3900 - val_accuracy: 0.8500\n",
      "Epoch 94/100\n",
      "108/108 [==============================] - 0s 2ms/step - loss: 0.5865 - accuracy: 0.7193 - val_loss: 0.3893 - val_accuracy: 0.8567\n",
      "Epoch 95/100\n",
      "108/108 [==============================] - 0s 2ms/step - loss: 0.5760 - accuracy: 0.7289 - val_loss: 0.3692 - val_accuracy: 0.8667\n",
      "Epoch 96/100\n",
      "108/108 [==============================] - 0s 2ms/step - loss: 0.5561 - accuracy: 0.7391 - val_loss: 0.4006 - val_accuracy: 0.8650\n",
      "Epoch 97/100\n",
      "108/108 [==============================] - 0s 2ms/step - loss: 0.5838 - accuracy: 0.7235 - val_loss: 0.3698 - val_accuracy: 0.8733\n",
      "Epoch 98/100\n",
      "108/108 [==============================] - 0s 2ms/step - loss: 0.5751 - accuracy: 0.7344 - val_loss: 0.4195 - val_accuracy: 0.8583\n",
      "Epoch 99/100\n",
      "108/108 [==============================] - 0s 2ms/step - loss: 0.5827 - accuracy: 0.7104 - val_loss: 0.4112 - val_accuracy: 0.8500\n",
      "Epoch 100/100\n",
      "108/108 [==============================] - 0s 2ms/step - loss: 0.5826 - accuracy: 0.7163 - val_loss: 0.4450 - val_accuracy: 0.8217\n"
     ]
    }
   ],
   "source": [
    "# train model using features generated from VGG16 model\n",
    "history = (modelCNN.fit(vgg_features_train, train_target, epochs=100, batch_size=50, validation_data=(vgg_features_val, val_target)))"
   ]
  },
  {
   "cell_type": "code",
   "execution_count": 26,
   "metadata": {},
   "outputs": [
    {
     "name": "stdout",
     "output_type": "stream",
     "text": [
      "Model: \"sequential_3\"\n",
      "_________________________________________________________________\n",
      " Layer (type)                Output Shape              Param #   \n",
      "=================================================================\n",
      " conv2d (Conv2D)             (None, 32, 32, 32)        896       \n",
      "                                                                 \n",
      " conv2d_1 (Conv2D)           (None, 32, 32, 32)        9248      \n",
      "                                                                 \n",
      " max_pooling2d (MaxPooling2D  (None, 16, 16, 32)       0         \n",
      " )                                                               \n",
      "                                                                 \n",
      " dropout_1 (Dropout)         (None, 16, 16, 32)        0         \n",
      "                                                                 \n",
      " conv2d_2 (Conv2D)           (None, 16, 16, 64)        18496     \n",
      "                                                                 \n",
      " conv2d_3 (Conv2D)           (None, 16, 16, 64)        36928     \n",
      "                                                                 \n",
      " max_pooling2d_1 (MaxPooling  (None, 8, 8, 64)         0         \n",
      " 2D)                                                             \n",
      "                                                                 \n",
      " dropout_2 (Dropout)         (None, 8, 8, 64)          0         \n",
      "                                                                 \n",
      " conv2d_4 (Conv2D)           (None, 8, 8, 128)         73856     \n",
      "                                                                 \n",
      " conv2d_5 (Conv2D)           (None, 8, 8, 128)         147584    \n",
      "                                                                 \n",
      " max_pooling2d_2 (MaxPooling  (None, 4, 4, 128)        0         \n",
      " 2D)                                                             \n",
      "                                                                 \n",
      " dropout_3 (Dropout)         (None, 4, 4, 128)         0         \n",
      "                                                                 \n",
      " flatten_1 (Flatten)         (None, 2048)              0         \n",
      "                                                                 \n",
      " dense_2 (Dense)             (None, 128)               262272    \n",
      "                                                                 \n",
      " dropout_4 (Dropout)         (None, 128)               0         \n",
      "                                                                 \n",
      " dense_3 (Dense)             (None, 3)                 387       \n",
      "                                                                 \n",
      "=================================================================\n",
      "Total params: 549,667\n",
      "Trainable params: 549,667\n",
      "Non-trainable params: 0\n",
      "_________________________________________________________________\n"
     ]
    }
   ],
   "source": [
    "\n",
    "modelCNN2 = models.Sequential()\n",
    "modelCNN2.add(layers.Conv2D(32, (3, 3), activation='relu', kernel_initializer='he_uniform', padding='same', input_shape=(32, 32, 3)))\n",
    "modelCNN2.add(layers.Conv2D(32, (3, 3), activation='relu', kernel_initializer='he_uniform', padding='same'))\n",
    "modelCNN2.add(layers.MaxPooling2D((2, 2)))\n",
    "modelCNN2.add(layers.Dropout(0.2))\n",
    "modelCNN2.add(layers.Conv2D(64, (3, 3), activation='relu', kernel_initializer='he_uniform', padding='same'))\n",
    "modelCNN2.add(layers.Conv2D(64, (3, 3), activation='relu', kernel_initializer='he_uniform', padding='same'))\n",
    "modelCNN2.add(layers.MaxPooling2D((2, 2)))\n",
    "modelCNN2.add(layers.Dropout(0.2))\n",
    "modelCNN2.add(layers.Conv2D(128, (3, 3), activation='relu', kernel_initializer='he_uniform', padding='same'))\n",
    "modelCNN2.add(layers.Conv2D(128, (3, 3), activation='relu', kernel_initializer='he_uniform', padding='same'))\n",
    "modelCNN2.add(layers.MaxPooling2D((2, 2)))\n",
    "modelCNN2.add(layers.Dropout(0.2))\n",
    "modelCNN2.add(layers.Flatten())\n",
    "modelCNN2.add(layers.Dense(128, activation='relu', kernel_initializer='he_uniform'))\n",
    "modelCNN2.add(layers.Dropout(0.2))\n",
    "modelCNN2.add(layers.Dense(3))\n",
    "opt = keras.optimizers.Adam(learning_rate=0.001) \n",
    "modelCNN2.compile(optimizer=opt, loss=tf.keras.losses.SparseCategoricalCrossentropy(from_logits=True), metrics=['accuracy'])\n",
    "modelCNN2.summary()"
   ]
  },
  {
   "cell_type": "code",
   "execution_count": 27,
   "metadata": {},
   "outputs": [
    {
     "name": "stdout",
     "output_type": "stream",
     "text": [
      "(5400, 32, 32, 3)\n",
      "Epoch 1/100\n"
     ]
    },
    {
     "ename": "ValueError",
     "evalue": "in user code:\n\n    File \"C:\\Python38\\lib\\site-packages\\keras\\engine\\training.py\", line 1021, in train_function  *\n        return step_function(self, iterator)\n    File \"C:\\Python38\\lib\\site-packages\\keras\\engine\\training.py\", line 1010, in step_function  **\n        outputs = model.distribute_strategy.run(run_step, args=(data,))\n    File \"C:\\Python38\\lib\\site-packages\\keras\\engine\\training.py\", line 1000, in run_step  **\n        outputs = model.train_step(data)\n    File \"C:\\Python38\\lib\\site-packages\\keras\\engine\\training.py\", line 860, in train_step\n        loss = self.compute_loss(x, y, y_pred, sample_weight)\n    File \"C:\\Python38\\lib\\site-packages\\keras\\engine\\training.py\", line 918, in compute_loss\n        return self.compiled_loss(\n    File \"C:\\Python38\\lib\\site-packages\\keras\\engine\\compile_utils.py\", line 201, in __call__\n        loss_value = loss_obj(y_t, y_p, sample_weight=sw)\n    File \"C:\\Python38\\lib\\site-packages\\keras\\losses.py\", line 141, in __call__\n        losses = call_fn(y_true, y_pred)\n    File \"C:\\Python38\\lib\\site-packages\\keras\\losses.py\", line 245, in call  **\n        return ag_fn(y_true, y_pred, **self._fn_kwargs)\n    File \"C:\\Python38\\lib\\site-packages\\keras\\losses.py\", line 1862, in sparse_categorical_crossentropy\n        return backend.sparse_categorical_crossentropy(\n    File \"C:\\Python38\\lib\\site-packages\\keras\\backend.py\", line 5202, in sparse_categorical_crossentropy\n        res = tf.nn.sparse_softmax_cross_entropy_with_logits(\n\n    ValueError: `labels.shape` must equal `logits.shape` except for the last dimension. Received: labels.shape=(300,) and logits.shape=(50, 3)\n",
     "output_type": "error",
     "traceback": [
      "\u001b[1;31m---------------------------------------------------------------------------\u001b[0m",
      "\u001b[1;31mValueError\u001b[0m                                Traceback (most recent call last)",
      "\u001b[1;32md:\\Juan Diego\\Robotic engineer\\UDC\\MachineLearning\\Trabajo Final\\MangoGrading\\DataPreprocesing.ipynb Cell 34'\u001b[0m in \u001b[0;36m<module>\u001b[1;34m\u001b[0m\n\u001b[0;32m      <a href='vscode-notebook-cell:/d%3A/Juan%20Diego/Robotic%20engineer/UDC/MachineLearning/Trabajo%20Final/MangoGrading/DataPreprocesing.ipynb#ch0000033?line=3'>4</a>\u001b[0m tt \u001b[39m=\u001b[39m tf\u001b[39m.\u001b[39mkeras\u001b[39m.\u001b[39mutils\u001b[39m.\u001b[39mto_categorical(train_target)\n\u001b[0;32m      <a href='vscode-notebook-cell:/d%3A/Juan%20Diego/Robotic%20engineer/UDC/MachineLearning/Trabajo%20Final/MangoGrading/DataPreprocesing.ipynb#ch0000033?line=4'>5</a>\u001b[0m vt \u001b[39m=\u001b[39m tf\u001b[39m.\u001b[39mkeras\u001b[39m.\u001b[39mutils\u001b[39m.\u001b[39mto_categorical(t_val)\n\u001b[1;32m----> <a href='vscode-notebook-cell:/d%3A/Juan%20Diego/Robotic%20engineer/UDC/MachineLearning/Trabajo%20Final/MangoGrading/DataPreprocesing.ipynb#ch0000033?line=5'>6</a>\u001b[0m modelCNN2\u001b[39m.\u001b[39;49mfit(X_train, tt, epochs\u001b[39m=\u001b[39;49m\u001b[39m100\u001b[39;49m, batch_size\u001b[39m=\u001b[39;49m\u001b[39m50\u001b[39;49m, validation_data\u001b[39m=\u001b[39;49m(X_val, vt))\n",
      "File \u001b[1;32mC:\\Python38\\lib\\site-packages\\keras\\utils\\traceback_utils.py:67\u001b[0m, in \u001b[0;36mfilter_traceback.<locals>.error_handler\u001b[1;34m(*args, **kwargs)\u001b[0m\n\u001b[0;32m     <a href='file:///c%3A/Python38/lib/site-packages/keras/utils/traceback_utils.py?line=64'>65</a>\u001b[0m \u001b[39mexcept\u001b[39;00m \u001b[39mException\u001b[39;00m \u001b[39mas\u001b[39;00m e:  \u001b[39m# pylint: disable=broad-except\u001b[39;00m\n\u001b[0;32m     <a href='file:///c%3A/Python38/lib/site-packages/keras/utils/traceback_utils.py?line=65'>66</a>\u001b[0m   filtered_tb \u001b[39m=\u001b[39m _process_traceback_frames(e\u001b[39m.\u001b[39m__traceback__)\n\u001b[1;32m---> <a href='file:///c%3A/Python38/lib/site-packages/keras/utils/traceback_utils.py?line=66'>67</a>\u001b[0m   \u001b[39mraise\u001b[39;00m e\u001b[39m.\u001b[39mwith_traceback(filtered_tb) \u001b[39mfrom\u001b[39;00m \u001b[39mNone\u001b[39m\n\u001b[0;32m     <a href='file:///c%3A/Python38/lib/site-packages/keras/utils/traceback_utils.py?line=67'>68</a>\u001b[0m \u001b[39mfinally\u001b[39;00m:\n\u001b[0;32m     <a href='file:///c%3A/Python38/lib/site-packages/keras/utils/traceback_utils.py?line=68'>69</a>\u001b[0m   \u001b[39mdel\u001b[39;00m filtered_tb\n",
      "File \u001b[1;32mC:\\Python38\\lib\\site-packages\\tensorflow\\python\\framework\\func_graph.py:1147\u001b[0m, in \u001b[0;36mfunc_graph_from_py_func.<locals>.autograph_handler\u001b[1;34m(*args, **kwargs)\u001b[0m\n\u001b[0;32m   <a href='file:///c%3A/Python38/lib/site-packages/tensorflow/python/framework/func_graph.py?line=1144'>1145</a>\u001b[0m \u001b[39mexcept\u001b[39;00m \u001b[39mException\u001b[39;00m \u001b[39mas\u001b[39;00m e:  \u001b[39m# pylint:disable=broad-except\u001b[39;00m\n\u001b[0;32m   <a href='file:///c%3A/Python38/lib/site-packages/tensorflow/python/framework/func_graph.py?line=1145'>1146</a>\u001b[0m   \u001b[39mif\u001b[39;00m \u001b[39mhasattr\u001b[39m(e, \u001b[39m\"\u001b[39m\u001b[39mag_error_metadata\u001b[39m\u001b[39m\"\u001b[39m):\n\u001b[1;32m-> <a href='file:///c%3A/Python38/lib/site-packages/tensorflow/python/framework/func_graph.py?line=1146'>1147</a>\u001b[0m     \u001b[39mraise\u001b[39;00m e\u001b[39m.\u001b[39mag_error_metadata\u001b[39m.\u001b[39mto_exception(e)\n\u001b[0;32m   <a href='file:///c%3A/Python38/lib/site-packages/tensorflow/python/framework/func_graph.py?line=1147'>1148</a>\u001b[0m   \u001b[39melse\u001b[39;00m:\n\u001b[0;32m   <a href='file:///c%3A/Python38/lib/site-packages/tensorflow/python/framework/func_graph.py?line=1148'>1149</a>\u001b[0m     \u001b[39mraise\u001b[39;00m\n",
      "\u001b[1;31mValueError\u001b[0m: in user code:\n\n    File \"C:\\Python38\\lib\\site-packages\\keras\\engine\\training.py\", line 1021, in train_function  *\n        return step_function(self, iterator)\n    File \"C:\\Python38\\lib\\site-packages\\keras\\engine\\training.py\", line 1010, in step_function  **\n        outputs = model.distribute_strategy.run(run_step, args=(data,))\n    File \"C:\\Python38\\lib\\site-packages\\keras\\engine\\training.py\", line 1000, in run_step  **\n        outputs = model.train_step(data)\n    File \"C:\\Python38\\lib\\site-packages\\keras\\engine\\training.py\", line 860, in train_step\n        loss = self.compute_loss(x, y, y_pred, sample_weight)\n    File \"C:\\Python38\\lib\\site-packages\\keras\\engine\\training.py\", line 918, in compute_loss\n        return self.compiled_loss(\n    File \"C:\\Python38\\lib\\site-packages\\keras\\engine\\compile_utils.py\", line 201, in __call__\n        loss_value = loss_obj(y_t, y_p, sample_weight=sw)\n    File \"C:\\Python38\\lib\\site-packages\\keras\\losses.py\", line 141, in __call__\n        losses = call_fn(y_true, y_pred)\n    File \"C:\\Python38\\lib\\site-packages\\keras\\losses.py\", line 245, in call  **\n        return ag_fn(y_true, y_pred, **self._fn_kwargs)\n    File \"C:\\Python38\\lib\\site-packages\\keras\\losses.py\", line 1862, in sparse_categorical_crossentropy\n        return backend.sparse_categorical_crossentropy(\n    File \"C:\\Python38\\lib\\site-packages\\keras\\backend.py\", line 5202, in sparse_categorical_crossentropy\n        res = tf.nn.sparse_softmax_cross_entropy_with_logits(\n\n    ValueError: `labels.shape` must equal `logits.shape` except for the last dimension. Received: labels.shape=(300,) and logits.shape=(50, 3)\n"
     ]
    }
   ],
   "source": [
    "print (X_train.shape)\n",
    "t_traint = train_target - 1\n",
    "t_val = val_target - 1\n",
    "tt = tf.keras.utils.to_categorical(train_target)\n",
    "vt = tf.keras.utils.to_categorical(t_val)\n",
    "modelCNN2.fit(X_train, tt, epochs=100, batch_size=50, validation_data=(X_val, vt))"
   ]
  },
  {
   "cell_type": "code",
   "execution_count": null,
   "metadata": {},
   "outputs": [
    {
     "data": {
      "text/plain": [
       "<matplotlib.legend.Legend at 0x1fd1c66bb50>"
      ]
     },
     "execution_count": 227,
     "metadata": {},
     "output_type": "execute_result"
    },
    {
     "data": {
      "image/png": "[encoded data removed]",
      "text/plain": [
       "<Figure size 864x360 with 1 Axes>"
      ]
     },
     "metadata": {
      "needs_background": "light"
     },
     "output_type": "display_data"
    }
   ],
   "source": [
    "plt.figure(figsize=(12,5))\n",
    "plt.plot(history.history['accuracy'], label='Entrenamiento')\n",
    "plt.plot(history.history['val_accuracy'], label = 'Validación')\n",
    "plt.xlabel('Iteración (epoch)')\n",
    "plt.ylabel('Exactitud (accuracy)')\n",
    "plt.ylim([0, 1])\n",
    "plt.grid()\n",
    "plt.title('Modelo '+str(i+1))\n",
    "plt.legend(loc='lower right')"
   ]
  },
  {
   "cell_type": "code",
   "execution_count": null,
   "metadata": {},
   "outputs": [
    {
     "name": "stdout",
     "output_type": "stream",
     "text": [
      "Accuray (test) 0.8550000190734863\n"
     ]
    }
   ],
   "source": [
    "vgg_features_test = pretrained_model.predict(X_val)\n",
    "test_loss, test_acc = modelCNN.evaluate(vgg_features_test,  val_target, verbose=0)\n",
    "print('Accuray (test)', test_acc)"
   ]
  },
  {
   "cell_type": "code",
   "execution_count": null,
   "metadata": {},
   "outputs": [
    {
     "name": "stdout",
     "output_type": "stream",
     "text": [
      "El conjunto de entrenamiento contiene 3779 datos\n",
      "El conjunto de test contiene 1621 datos\n"
     ]
    },
    {
     "data": {
      "text/plain": [
       "Text(0, 0.5, 'Clase real')"
      ]
     },
     "execution_count": 185,
     "metadata": {},
     "output_type": "execute_result"
    },
    {
     "data": {
      "image/png": "[encoded data removed]",
      "text/plain": [
       "<Figure size 600x400 with 2 Axes>"
      ]
     },
     "metadata": {
      "needs_background": "light"
     },
     "output_type": "display_data"
    },
    {
     "data": {
      "image/png": "[encoded data removed]",
      "text/plain": [
       "<Figure size 600x400 with 2 Axes>"
      ]
     },
     "metadata": {
      "needs_background": "light"
     },
     "output_type": "display_data"
    },
    {
     "data": {
      "image/png": "[encoded data removed]",
      "text/plain": [
       "<Figure size 600x400 with 2 Axes>"
      ]
     },
     "metadata": {
      "needs_background": "light"
     },
     "output_type": "display_data"
    }
   ],
   "source": [
    "Clases=['Clase extra','Clase I','Clase II']\n",
    "X_train, X_test, t_train, t_test = train_test_split(X, t, train_size=0.7)  \n",
    "print(\"El conjunto de entrenamiento contiene\", len(t_train), \"datos\")\n",
    "print(\"El conjunto de test contiene\", len(t_test), \"datos\")\n",
    "\n",
    "modelLDA.fit(X_train, t_train)\n",
    "disp = plot_confusion_matrix(modelLDA, X_test, t_test, display_labels = Clases, xticks_rotation = 'vertical') # Muestra gráficamente la matriz de confusión\n",
    "disp.figure_.suptitle(\"Matriz de confusión LDA\");         # Añade un título a la figura de la matriz de confusión\n",
    "disp.figure_.set_dpi(100)                             # Establece el tamaño de la figura\n",
    "plt.xlabel(\"Clase predicha\")\n",
    "plt.ylabel(\"Clase real\")\n",
    "\n",
    "modelKNN.fit(X_train, t_train)\n",
    "disp = plot_confusion_matrix(modelKNN, X_test, t_test, display_labels = Clases, xticks_rotation = 'vertical') # Muestra gráficamente la matriz de confusión\n",
    "disp.figure_.suptitle(\"Matriz de confusión KNN\");         # Añade un título a la figura de la matriz de confusión\n",
    "disp.figure_.set_dpi(100)                             # Establece el tamaño de la figura\n",
    "plt.xlabel(\"Clase predicha\")\n",
    "plt.ylabel(\"Clase real\")\n",
    "\n",
    "modelRF.fit(X_train, t_train)\n",
    "disp = plot_confusion_matrix(modelRF, X_test, t_test, display_labels = Clases, xticks_rotation = 'vertical') # Muestra gráficamente la matriz de confusión\n",
    "disp.figure_.suptitle(\"Matriz de confusión LR\");         # Añade un título a la figura de la matriz de confusión\n",
    "disp.figure_.set_dpi(100)                             # Establece el tamaño de la figura\n",
    "plt.xlabel(\"Clase predicha\")\n",
    "plt.ylabel(\"Clase real\")"
   ]
  },
  {
   "cell_type": "code",
   "execution_count": null,
   "metadata": {},
   "outputs": [],
   "source": [
    "X_test, t_test = shuffle(X_val, t_val, random_state=0)\n",
    "vgg_features_test = pretrained_model.predict(X_test)"
   ]
  },
  {
   "cell_type": "code",
   "execution_count": null,
   "metadata": {},
   "outputs": [],
   "source": [
    "t_pred = []\n",
    "for i in range(0,len(vgg_features_test)):\n",
    "    t_pred.append(np.argmax(modelCNN.predict(vgg_features_test[i:i+1])))"
   ]
  },
  {
   "cell_type": "code",
   "execution_count": null,
   "metadata": {},
   "outputs": [
    {
     "data": {
      "text/plain": [
       "<tf.Tensor: shape=(4, 4), dtype=int32, numpy=\n",
       "array([[  0,   0,   0,   0],\n",
       "       [132,  29,  39,   0],\n",
       "       [ 11, 186,   3,   0],\n",
       "       [  5,   0, 195,   0]])>"
      ]
     },
     "execution_count": 214,
     "metadata": {},
     "output_type": "execute_result"
    }
   ],
   "source": [
    "tf.math.confusion_matrix(t_test, t_pred)"
   ]
  },
  {
   "cell_type": "markdown",
   "metadata": {},
   "source": [
    "#### Se muestra un diagrama de cajas con los resultados de la validación cruzada:"
   ]
  },
  {
   "cell_type": "code",
   "execution_count": null,
   "metadata": {},
   "outputs": [
    {
     "data": {
      "image/png": "[encoded data removed]",
      "text/plain": [
       "<Figure size 432x288 with 1 Axes>"
      ]
     },
     "metadata": {
      "needs_background": "light"
     },
     "output_type": "display_data"
    }
   ],
   "source": [
    "data = [scoresLR['test_accuracy'], scoresLDA['test_accuracy'], scoresKNN['test_accuracy']]\n",
    "fig7, ax = plt.subplots()\n",
    "ax.set_title('Modelos')\n",
    "ax.boxplot(data,labels=['LR', 'LDA', 'KNN'])"
   ]
  },
  {
   "cell_type": "markdown",
   "metadata": {},
   "source": [
    "### Analisis hiper-parametros Logistic regression  "
   ]
  },
  {
   "cell_type": "code",
   "execution_count": 10,
   "metadata": {},
   "outputs": [
    {
     "name": "stdout",
     "output_type": "stream",
     "text": [
      "Fitting 3 folds for each of 12 candidates, totalling 36 fits\n"
     ]
    }
   ],
   "source": [
    "param_grid = {\n",
    "    \"solvers\": ['newton-cg', 'lbfgs', 'liblinear'],\n",
    "    \"logistic__C\": np.logspace(-4, 4, 4),\n",
    "}\n",
    "search = GridSearchCV(estimator = modelLR, param_grid =param_grid, n_jobs=-1,cv=3,scoring='accuracy',verbose=1)\n",
    "search_results = search.fit(X,t)\n",
    "\n",
    "means = search_results.cv_results_['mean_test_score']\n",
    "params = search_results.cv_results_['params']\n",
    "for mean,param in zip(means,params):\n",
    "    print(\"%f with: %r\" % (mean,param))\n"
   ]
  },
  {
   "cell_type": "code",
   "execution_count": null,
   "metadata": {},
   "outputs": [],
   "source": []
  },
  {
   "cell_type": "markdown",
   "metadata": {},
   "source": [
    "### Analisis hiper-parametros KNN"
   ]
  },
  {
   "cell_type": "markdown",
   "metadata": {},
   "source": [
    "### Analisis hiper-parametros Random Forest"
   ]
  },
  {
   "cell_type": "markdown",
   "metadata": {},
   "source": [
    "#### Contraste de hipótesis:\n",
    "\n",
    "Primero se muestran los resultados obtenidos aplicando el test de [Kruskall-Wallis](https://docs.scipy.org/doc/scipy/reference/generated/scipy.stats.kruskal.html#scipy.stats.kruskal) y el test de [Anova](https://docs.scipy.org/doc/scipy/reference/generated/scipy.stats.f_oneway.html). Si se rechaza la hipótesis, entonces se puede afirmar que los modelos son diferentes y, posteriormente, se aplican dos test de comparación múltiple mediante el uso de la clase [MultiComparison](https://www.statsmodels.org/stable/generated/statsmodels.sandbox.stats.multicomp.MultiComparison.html). Estos métodos comprueban si hay diferencias significativas con un p<0.05, corrigiendo el hecho de que se están haciendo múltiples comparaciones que normalmente aumentarían la probabilidad de que se identifique una diferencia significativa. Un resultado de \"reject = true\" significa que se ha observado una diferencia significativa:\n",
    "- Método de Tukey. Se emplea para ello la función [tukeyhsd](https://www.statsmodels.org/stable/generated/statsmodels.sandbox.stats.multicomp.MultiComparison.tukeyhsd.html#statsmodels.sandbox.stats.multicomp.MultiComparison.tukeyhsd).\n",
    "- Método de Holm-Bonferroni. Se emplea para ello la función [allpairtest](https://www.statsmodels.org/stable/generated/statsmodels.sandbox.stats.multicomp.MultiComparison.allpairtest.html#statsmodels.sandbox.stats.multicomp.MultiComparison.allpairtest)"
   ]
  },
  {
   "cell_type": "code",
   "execution_count": null,
   "metadata": {},
   "outputs": [
    {
     "name": "stdout",
     "output_type": "stream",
     "text": [
      "p-valor KrusW: 0.00042614900422063547\n",
      "p-valor ANOVA: 0.00021999310037581105\n",
      "Rechazamos la hipótesis: los modelos son diferentes\n",
      "\n",
      "Test Multiple Comparison ttest_rel \n",
      "FWER=0.05 method=Holm\n",
      "alphacSidak=0.02, alphacBonf=0.017\n",
      "=================================================\n",
      " group1   group2    stat   pval  pval_corr reject\n",
      "-------------------------------------------------\n",
      "modelKNN modelLDA -8.7529    0.0       0.0   True\n",
      "modelKNN  modelLR -3.7438 0.0014    0.0014   True\n",
      "modelLDA  modelLR  4.2041 0.0005     0.001   True\n",
      "-------------------------------------------------\n",
      "  Multiple Comparison of Means - Tukey HSD, FWER=0.05  \n",
      "=======================================================\n",
      " group1   group2  meandiff p-adj   lower  upper  reject\n",
      "-------------------------------------------------------\n",
      "modelKNN modelLDA   0.1667  0.001  0.0755 0.2579   True\n",
      "modelKNN  modelLR      0.1 0.0285  0.0088 0.1912   True\n",
      "modelLDA  modelLR  -0.0667 0.1927 -0.1579 0.0245  False\n",
      "-------------------------------------------------------\n"
     ]
    }
   ],
   "source": [
    "alpha = 0.05\n",
    "F_statistic, pVal = stats.kruskal(scoresLR['test_accuracy'], scoresLDA['test_accuracy'], scoresKNN['test_accuracy'])\n",
    "F_statistic2, pVal2 = stats.f_oneway(scoresLR['test_accuracy'], scoresLDA['test_accuracy'], scoresKNN['test_accuracy'])\n",
    "print ('p-valor KrusW:', pVal)\n",
    "print ('p-valor ANOVA:', pVal2)\n",
    "if pVal <= alpha:\n",
    "    print('Rechazamos la hipótesis: los modelos son diferentes\\n')\n",
    "    stacked_data = np.vstack((scoresLR['test_accuracy'],scoresLDA['test_accuracy'],scoresKNN['test_accuracy'])).ravel()\n",
    "    stacked_model = np.vstack((np.repeat('modelLR',CV),np.repeat('modelLDA',CV),np.repeat('modelKNN',CV))).ravel()    \n",
    "    MultiComp = MultiComparison(stacked_data, stacked_model)\n",
    "    comp = MultiComp.allpairtest(stats.ttest_rel, method='Holm')\n",
    "    print (comp[0])    \n",
    "    print(MultiComp.tukeyhsd(alpha=0.05))\n",
    "else:\n",
    "    print('Aceptamos la hipótesis: los modelos son iguales')"
   ]
  }
 ],
 "metadata": {
  "kernelspec": {
   "display_name": "Python 3",
   "language": "python",
   "name": "python3"
  },
  "language_info": {
   "codemirror_mode": {
    "name": "ipython",
    "version": 3
   },
   "file_extension": ".py",
   "mimetype": "text/x-python",
   "name": "python",
   "nbconvert_exporter": "python",
   "pygments_lexer": "ipython3",
   "version": "3.8.3"
  }
 },
 "nbformat": 4,
 "nbformat_minor": 2
}
