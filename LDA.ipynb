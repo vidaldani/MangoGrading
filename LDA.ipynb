{
 "cells": [
  {
   "cell_type": "markdown",
   "metadata": {},
   "source": [
    "<img src=https://api-manager.universia.net/coreplatform-document-management/api/document-management/public/6ra7ymjkfi64845 width=\"300\" align=\"left\">\n",
    "<br />\n",
    "\n",
    "# Aprendizaje automático I\n",
    "#### <font color=green>*Máster en Informática Industrial y Robótica*</font>"
   ]
  },
  {
   "cell_type": "markdown",
   "metadata": {},
   "source": [
    "Daniel Vidal Soroa  \n",
    "Juan Diego Peña "
   ]
  },
  {
   "cell_type": "markdown",
   "metadata": {},
   "source": [
    "## Clasificación de mangos en tres clases según su presencia para la exportación, comercio local o procesamiento industrial"
   ]
  },
  {
   "cell_type": "markdown",
   "metadata": {},
   "source": [
    "#### Importación de las librerías:"
   ]
  },
  {
   "cell_type": "code",
   "execution_count": 1,
   "metadata": {},
   "outputs": [],
   "source": [
    "import os\n",
    "import numpy as np\n",
    "import pandas as pd\n",
    "import tensorflow as tf\n",
    "import matplotlib.pyplot as plt\n",
    "import scipy.stats as stats\n",
    "from statsmodels.stats.multicomp import pairwise_tukeyhsd, MultiComparison\n",
    "from sklearn.model_selection import cross_validate\n",
    "from sklearn.linear_model import LogisticRegression,LogisticRegressionCV\n",
    "from sklearn.discriminant_analysis import LinearDiscriminantAnalysis\n",
    "from sklearn.neighbors import KNeighborsClassifier\n",
    "from sklearn.ensemble import RandomForestClassifier\n",
    "from sklearn.tree import DecisionTreeClassifier, plot_tree\n",
    "from sklearn.utils import shuffle\n",
    "from skimage.io import imread\n",
    "from skimage.transform import resize\n",
    "from sklearn.metrics import roc_curve, auc, plot_confusion_matrix, classification_report, multilabel_confusion_matrix\n",
    "from sklearn.model_selection import train_test_split\n",
    "from random import seed\n",
    "from random import randint\n",
    "from tensorflow import keras\n",
    "from keras import layers, models, utils, datasets\n",
    "from keras import utils\n",
    "from keras.preprocessing.image import ImageDataGenerator\n",
    "from sklearn.model_selection import KFold, GridSearchCV"
   ]
  },
  {
   "cell_type": "code",
   "execution_count": 2,
   "metadata": {},
   "outputs": [],
   "source": [
    "%store -r scoring X X_train X_val CV t t_val f n \n"
   ]
  },
  {
   "cell_type": "markdown",
   "metadata": {},
   "source": [
    "#### Validación cruzada con LDA"
   ]
  },
  {
   "cell_type": "code",
   "execution_count": 6,
   "metadata": {},
   "outputs": [],
   "source": [
    "modelLDA = LinearDiscriminantAnalysis()\n",
    "\n",
    "scoresLDA = cross_validate(modelLDA, X, t, cv=CV, scoring=scoring,n_jobs=-1)\n",
    "\n",
    "print('Media del LDA accuracy : ', np.mean(scoresLDA['test_accuracy']))"
   ]
  },
  {
   "cell_type": "code",
   "execution_count": 4,
   "metadata": {},
   "outputs": [
    {
     "name": "stdout",
     "output_type": "stream",
     "text": [
      "         test_recall_macro  test_precision_macro  test_f1_macro  \\\n",
      "CV 1              0.940741              0.941477       0.940838   \n",
      "CV 2              0.937037              0.937085       0.937023   \n",
      "CV 3              0.932407              0.932407       0.932407   \n",
      "CV 4              0.950926              0.951117       0.950884   \n",
      "CV 5              0.940741              0.941034       0.940597   \n",
      "Average           0.940370              0.940624       0.940350   \n",
      "\n",
      "         test_accuracy  test_roc_auc_ovo  \n",
      "CV 1          0.940741          0.972488  \n",
      "CV 2          0.937037          0.972411  \n",
      "CV 3          0.932407          0.976434  \n",
      "CV 4          0.950926          0.977809  \n",
      "CV 5          0.940741          0.975062  \n",
      "Average       0.940370          0.974841  \n"
     ]
    }
   ],
   "source": [
    "df = pd.DataFrame.from_dict(scoresLDA)\n",
    "df.drop(df.iloc[:, 0:2], inplace = True, axis = 1)\n",
    "df.loc[5]=[np.mean(scoresLDA['test_recall_macro']),np.mean(scoresLDA['test_precision_macro']),np.mean(scoresLDA['test_f1_macro']),np.mean(scoresLDA['test_accuracy']),np.mean(scoresLDA['test_roc_auc_ovo'])]\n",
    "df.index = [\"CV 1\",\"CV 2\",\"CV 3\",\"CV 4\",\"CV 5\",\"Average\"]\n",
    "df.to_excel(\"./informe/tables/LDA.xlsx\") \n",
    "print(df)\n"
   ]
  },
  {
   "cell_type": "markdown",
   "metadata": {},
   "source": [
    "### Analisis hiper-parametros LDA  "
   ]
  },
  {
   "cell_type": "code",
   "execution_count": 5,
   "metadata": {},
   "outputs": [
    {
     "name": "stdout",
     "output_type": "stream",
     "text": [
      "Fitting 2 folds for each of 3 candidates, totalling 6 fits\n"
     ]
    }
   ],
   "source": [
    "param_grid = {\n",
    "    \"solvers\": ['svd', 'lsqr'] \n",
    "}\n",
    "search = GridSearchCV(estimator = modelLDA, param_grid =param_grid, n_jobs=-1,cv=2,scoring=scoring,verbose=5,return_train_score=False,refit=False)\n",
    "\n",
    "search_results = search.fit(X,t)\n",
    "\n"
   ]
  },
  {
   "cell_type": "code",
   "execution_count": null,
   "metadata": {},
   "outputs": [],
   "source": [
    "df = pd.DataFrame.from_dict(search_results.cv_results_)\n",
    "#df.to_excel(\"./informe/tables/parameters_knn.xlsx\") \n",
    "labels = df['params']\n",
    "\n",
    "data_recall =[]\n",
    "data_precision = []\n",
    "data_f1 =[]\n",
    "data_accuracy = []\n",
    "data_roc_auc  =[]\n",
    "\n",
    "\n",
    "for c in range(len(labels)): \n",
    "    data_recall.append(df.iloc[c,8:13].to_list())  \n",
    "    data_precision.append(df.iloc[c,16:21].to_list())  \n",
    "    data_f1.append(df.iloc[c,24:29].to_list())  \n",
    "    data_accuracy.append(df.iloc[c,32:37].to_list())  \n",
    "    data_roc_auc.append(df.iloc[c,40:45].to_list())    \n",
    "\n",
    "\n",
    "\n",
    "\n",
    "\n",
    "fig, ax = plt.subplots(5,1)\n",
    "\n",
    "ax[0].boxplot(data_recall,labels=labels)\n",
    "ax[0].set_xticklabels(labels=labels,rotation=30, fontsize=8)\n",
    "ax[0].set(\n",
    "    axisbelow=True,  # Hide the grid behind plot objects\n",
    "    title='Comparación de hiperaparametros',\n",
    "    ylabel='Recall'\n",
    "    )\n",
    "\n",
    "ax[1].boxplot(data_precision,labels=labels)\n",
    "ax[1].set_xticklabels(labels=labels,rotation=30, fontsize=8)\n",
    "ax[1].set(\n",
    "    axisbelow=True,  # Hide the grid behind plot objects\n",
    "    ylabel='Precision'\n",
    ")\n",
    "\n",
    "ax[2].boxplot(data_f1,labels=labels)\n",
    "ax[2].set_xticklabels(labels=labels,rotation=30, fontsize=8)\n",
    "ax[2].set(\n",
    "    axisbelow=True,  # Hide the grid behind plot objects\n",
    "    ylabel='f1'\n",
    ")\n",
    "\n",
    "\n",
    "ax[3].boxplot(data_accuracy,labels=labels)\n",
    "ax[3].set_xticklabels(labels=labels,rotation=30, fontsize=8)\n",
    "ax[3].set(\n",
    "    axisbelow=True,  # Hide the grid behind plot objects\n",
    "    ylabel='accuracy'\n",
    ")\n",
    "\n",
    "\n",
    "ax[4].boxplot(data_roc_auc,labels=labels)\n",
    "ax[4].set_xticklabels(labels=labels,rotation=30, fontsize=8)\n",
    "ax[4].set(\n",
    "    axisbelow=True,  # Hide the grid behind plot objects\n",
    "    ylabel='roc_auc'\n",
    ")\n",
    "fig.subplots_adjust(left=0.08, right=3, bottom=0.05, top=9,\n",
    "                    hspace=0.4, wspace=0.3)\n",
    "\n",
    "plt.show()\n"
   ]
  }
 ],
 "metadata": {
  "kernelspec": {
   "display_name": "Python 3",
   "language": "python",
   "name": "python3"
  },
  "language_info": {
   "codemirror_mode": {
    "name": "ipython",
    "version": 3
   },
   "file_extension": ".py",
   "mimetype": "text/x-python",
   "name": "python",
   "nbconvert_exporter": "python",
   "pygments_lexer": "ipython3",
   "version": "3.8.3"
  }
 },
 "nbformat": 4,
 "nbformat_minor": 2
}
