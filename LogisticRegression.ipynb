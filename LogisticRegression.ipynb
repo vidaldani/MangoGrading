{
 "cells": [
  {
   "cell_type": "markdown",
   "metadata": {},
   "source": [
    "<img src=https://api-manager.universia.net/coreplatform-document-management/api/document-management/public/6ra7ymjkfi64845 width=\"300\" align=\"left\">\n",
    "<br />\n",
    "\n",
    "# Aprendizaje automático I\n",
    "#### <font color=green>*Máster en Informática Industrial y Robótica*</font>"
   ]
  },
  {
   "cell_type": "markdown",
   "metadata": {},
   "source": [
    "Daniel Vidal Soroa  \n",
    "Juan Diego Peña "
   ]
  },
  {
   "cell_type": "markdown",
   "metadata": {},
   "source": [
    "## Clasificación de mangos en tres clases según su presencia para la exportación, comercio local o procesamiento industrial"
   ]
  },
  {
   "cell_type": "markdown",
   "metadata": {},
   "source": [
    "#### Importación de las librerías:"
   ]
  },
  {
   "cell_type": "code",
   "execution_count": 1,
   "metadata": {},
   "outputs": [],
   "source": [
    "import os\n",
    "import numpy as np\n",
    "import pandas as pd\n",
    "import tensorflow as tf\n",
    "import matplotlib.pyplot as plt\n",
    "import scipy.stats as stats\n",
    "from statsmodels.stats.multicomp import pairwise_tukeyhsd, MultiComparison\n",
    "from sklearn.model_selection import cross_validate\n",
    "from sklearn.linear_model import LogisticRegression,LogisticRegressionCV\n",
    "from sklearn.discriminant_analysis import LinearDiscriminantAnalysis\n",
    "from sklearn.neighbors import KNeighborsClassifier\n",
    "from sklearn.ensemble import RandomForestClassifier\n",
    "from sklearn.tree import DecisionTreeClassifier, plot_tree\n",
    "from sklearn.utils import shuffle\n",
    "from skimage.io import imread\n",
    "from skimage.transform import resize\n",
    "from sklearn.metrics import roc_curve, auc, plot_confusion_matrix, classification_report, multilabel_confusion_matrix\n",
    "from sklearn.model_selection import train_test_split\n",
    "from random import seed\n",
    "from random import randint\n",
    "from tensorflow import keras\n",
    "from keras import layers, models, utils, datasets\n",
    "from keras import utils\n",
    "from keras.preprocessing.image import ImageDataGenerator\n",
    "from sklearn.model_selection import KFold, GridSearchCV"
   ]
  },
  {
   "cell_type": "code",
   "execution_count": 2,
   "metadata": {},
   "outputs": [
    {
     "name": "stdout",
     "output_type": "stream",
     "text": [
      "no stored variable or alias X\n"
     ]
    }
   ],
   "source": [
    "%store -r scoring X X_train X_val CV t t_val f n "
   ]
  },
  {
   "cell_type": "markdown",
   "metadata": {},
   "source": [
    "#### Validación cruzada con Logistic Regression"
   ]
  },
  {
   "cell_type": "code",
   "execution_count": 9,
   "metadata": {},
   "outputs": [
    {
     "name": "stdout",
     "output_type": "stream",
     "text": [
      "Media del LR accuracy :  0.9624074074074074\n"
     ]
    }
   ],
   "source": [
    "modelLR = LogisticRegression(penalty='none', solver = 'lbfgs', max_iter=10000, multi_class='multinomial')\n",
    "\n",
    "scoresLR = cross_validate(modelLR, X, t, cv=CV, scoring=scoring,n_jobs=-1,error_score='raise')\n",
    "\n",
    "print('Media del LR accuracy : ', np.mean(scoresLR['test_accuracy']))"
   ]
  },
  {
   "cell_type": "code",
   "execution_count": 17,
   "metadata": {},
   "outputs": [
    {
     "name": "stdout",
     "output_type": "stream",
     "text": [
      "         test_recall_macro  test_precision_macro  test_f1_macro  \\\n",
      "CV 1              0.955556              0.956299       0.955669   \n",
      "CV 2              0.971296              0.971279       0.971257   \n",
      "CV 3              0.962037              0.961981       0.961998   \n",
      "CV 4              0.966667              0.966924       0.966639   \n",
      "CV 5              0.956481              0.956644       0.956537   \n",
      "Average           0.962407              0.962626       0.962420   \n",
      "\n",
      "         test_accuracy  test_roc_auc_ovo  \n",
      "CV 1          0.955556          0.987233  \n",
      "CV 2          0.971296          0.987653  \n",
      "CV 3          0.962037          0.984311  \n",
      "CV 4          0.966667          0.993832  \n",
      "CV 5          0.956481          0.986417  \n",
      "Average       0.962407          0.987889  \n"
     ]
    }
   ],
   "source": [
    "df = pd.DataFrame.from_dict(scoresLR)\n",
    "df.drop(df.iloc[:, 0:2], inplace = True, axis = 1)\n",
    "df.loc[5]=[np.mean(scoresLR['test_recall_macro']),np.mean(scoresLR['test_precision_macro']),np.mean(scoresLR['test_f1_macro']),np.mean(scoresLR['test_accuracy']),np.mean(scoresLR['test_roc_auc_ovo'])]\n",
    "df.index = [\"CV 1\",\"CV 2\",\"CV 3\",\"CV 4\",\"CV 5\",\"Average\"]\n",
    "df.to_excel(\"./informe/tables/LR.xlsx\") \n",
    "print(df)\n"
   ]
  },
  {
   "cell_type": "markdown",
   "metadata": {},
   "source": [
    "### Analisis hiper-parametros Logistic regression  "
   ]
  },
  {
   "cell_type": "code",
   "execution_count": 14,
   "metadata": {},
   "outputs": [
    {
     "name": "stdout",
     "output_type": "stream",
     "text": [
      "Fitting 2 folds for each of 2 candidates, totalling 4 fits\n"
     ]
    }
   ],
   "source": [
    "param_grid = {\n",
    "    \"solvers\": ['newton-cg', 'lbfgs'], \n",
    "    \"logistic__C\": np.logspace(-4, 4, 4),\n",
    "}\n",
    "search = GridSearchCV(estimator = modelLR, param_grid =param_grid, n_jobs=-1,cv=2,scoring=scoring,verbose=5,return_train_score=False)\n",
    "\n",
    "search_results = search.fit(X,t)\n"
   ]
  }
 ],
 "metadata": {
  "kernelspec": {
   "display_name": "Python 3",
   "language": "python",
   "name": "python3"
  },
  "language_info": {
   "codemirror_mode": {
    "name": "ipython",
    "version": 3
   },
   "file_extension": ".py",
   "mimetype": "text/x-python",
   "name": "python",
   "nbconvert_exporter": "python",
   "pygments_lexer": "ipython3",
   "version": "3.8.3"
  }
 },
 "nbformat": 4,
 "nbformat_minor": 2
}
