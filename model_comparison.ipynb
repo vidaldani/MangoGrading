{
 "cells": [
  {
   "cell_type": "markdown",
   "metadata": {},
   "source": [
    "<img src=https://api-manager.universia.net/coreplatform-document-management/api/document-management/public/6ra7ymjkfi64845 width=\"300\" align=\"left\">\n",
    "<br />\n",
    "\n",
    "# Aprendizaje automático I\n",
    "#### <font color=green>*Máster en Informática Industrial y Robótica*</font>"
   ]
  },
  {
   "cell_type": "markdown",
   "metadata": {},
   "source": [
    "Daniel Vidal Soroa  \n",
    "Juan Diego Peña "
   ]
  },
  {
   "cell_type": "markdown",
   "metadata": {},
   "source": [
    "## Clasificación de mangos en tres clases según su presencia para la exportación, comercio local o procesamiento industrial"
   ]
  },
  {
   "cell_type": "markdown",
   "metadata": {},
   "source": [
    "#### Importación de las librerías:"
   ]
  },
  {
   "cell_type": "code",
   "execution_count": 1,
   "metadata": {},
   "outputs": [],
   "source": [
    "import os\n",
    "import numpy as np\n",
    "import pandas as pd\n",
    "import tensorflow as tf\n",
    "import matplotlib.pyplot as plt\n",
    "import scipy.stats as stats\n",
    "from statsmodels.stats.multicomp import pairwise_tukeyhsd, MultiComparison\n",
    "from sklearn.model_selection import cross_validate\n",
    "from sklearn.linear_model import LogisticRegression\n",
    "from sklearn.discriminant_analysis import LinearDiscriminantAnalysis\n",
    "from sklearn.neighbors import KNeighborsClassifier\n",
    "from sklearn.ensemble import RandomForestClassifier\n",
    "from sklearn.tree import DecisionTreeClassifier, plot_tree\n",
    "from sklearn.utils import shuffle\n",
    "from skimage.io import imread\n",
    "from skimage.transform import resize\n",
    "from sklearn.metrics import roc_curve, auc, plot_confusion_matrix, classification_report\n",
    "from sklearn.model_selection import train_test_split\n",
    "from random import seed\n",
    "from random import randint\n",
    "from tensorflow import keras\n",
    "from keras import layers, models, utils, datasets\n",
    "from keras import utils\n",
    "from keras.preprocessing.image import ImageDataGenerator"
   ]
  },
  {
   "cell_type": "markdown",
   "metadata": {},
   "source": [
    "#### Función para mostrar lista de imágenes en escala de grises"
   ]
  },
  {
   "cell_type": "code",
   "execution_count": 2,
   "metadata": {},
   "outputs": [],
   "source": [
    "def show_row_of_gray_images(fig_width, *images):\n",
    "    plt.figure(figsize=(fig_width, fig_width))\n",
    "    images_count = len(images)\n",
    "    index = 1  \n",
    "    for image in images:\n",
    "        plt.subplot(1, images_count, index)\n",
    "        plt.imshow(image, cmap='gray')\n",
    "        plt.axis('off')\n",
    "        index+=1"
   ]
  },
  {
   "cell_type": "code",
   "execution_count": 3,
   "metadata": {},
   "outputs": [],
   "source": [
    "IMG_SIZE = 32\n",
    "\n",
    "data_augmentation = tf.keras.Sequential([\n",
    "  layers.RandomFlip(\"horizontal_and_vertical\")\n",
    "])\n"
   ]
  },
  {
   "cell_type": "markdown",
   "metadata": {},
   "source": [
    "#### Lectura de los datos:"
   ]
  },
  {
   "cell_type": "code",
   "execution_count": 4,
   "metadata": {},
   "outputs": [],
   "source": [
    "# seed random number generator\n",
    "seed(1)\n",
    "\n",
    "# Dimensión de entrada de las imágenes \n",
    "h = IMG_SIZE\n",
    "w = IMG_SIZE\n",
    "\n",
    "\n",
    "# Leer los nombres de las imágenes para importarlas\n",
    "input_class1_path = \"./Dataset/Grading_dataset/Class_I\"\n",
    "class1_names = os.listdir(input_class1_path)\n",
    "input_class2_path = \"./Dataset/Grading_dataset/Class_II\"\n",
    "class2_names = os.listdir(input_class2_path)\n",
    "input_classex_path = \"./Dataset/Grading_dataset/Extra_Class\"\n",
    "class3_names = os.listdir(input_classex_path)\n",
    "\n",
    "# Número de elementos en cada clase\n",
    "n = len(class1_names)\n",
    "\n",
    "# Definir listas para cargar imágenes\n",
    "class1 = np.ones([n, h, w, 3])\n",
    "class2 = np.ones([n, h, w, 3])\n",
    "class3 = np.ones([n, h, w, 3])\n",
    "\n",
    "\n",
    "\n",
    "for i in range(0, n, 1):\n",
    "    # Para cada clase, se lee una imágen, se importa\n",
    "    img = resize(imread(\"./Dataset/Grading_dataset/Class_I/\" + class1_names[i]), (h, w))\n",
    "    class1[i] = img  \n",
    "    img = resize(imread(\"./Dataset/Grading_dataset/Class_II/\" + class2_names[i]), (h, w))\n",
    "    class2[i] = img \n",
    "    img = resize(imread(\"./Dataset/Grading_dataset/Extra_Class/\" + class3_names[i]), (h, w))\n",
    "    class3[i] = img \n",
    "\n"
   ]
  },
  {
   "cell_type": "markdown",
   "metadata": {},
   "source": [
    "#### Se muestran una imágen aleatoria de cada clase para comprobar que se leyeron correctamente"
   ]
  },
  {
   "cell_type": "code",
   "execution_count": 5,
   "metadata": {},
   "outputs": [
    {
     "name": "stdout",
     "output_type": "stream",
     "text": [
      "34\n"
     ]
    },
    {
     "data": {
      "image/png": "[encoded data removed]",
      "text/plain": [
       "<Figure size 1152x1152 with 3 Axes>"
      ]
     },
     "metadata": {
      "needs_background": "light"
     },
     "output_type": "display_data"
    }
   ],
   "source": [
    "rn = randint(0, 200)\n",
    "print (rn)\n",
    "img_1 = class1[rn]\n",
    "img_2 = class2[rn]\n",
    "img_3 = class3[rn]    \n",
    "show_row_of_gray_images(16, img_1, img_2, img_3)"
   ]
  },
  {
   "cell_type": "markdown",
   "metadata": {},
   "source": [
    "### Aumentamos por un factor f el número de datos de cada clase"
   ]
  },
  {
   "cell_type": "code",
   "execution_count": 6,
   "metadata": {},
   "outputs": [],
   "source": [
    "f = 10\n",
    "class1_augmeted = np.zeros([n * f, h, w, 3])\n",
    "class2_augmeted = np.zeros([n * f, h, w, 3])\n",
    "class3_augmeted = np.zeros([n * f, h, w, 3])\n",
    "t1 = np.zeros(n * f)\n",
    "t2 = np.zeros(n * f)\n",
    "t3 = np.zeros(n * f)\n",
    "\n",
    "for i in range(n * f):\n",
    "    rn = randint(0, n-1)\n",
    "    img = class1[rn]\n",
    "    new_img = data_augmentation(img)\n",
    "    class1_augmeted [i] = new_img\n",
    "    t1[i] = 1\n",
    "    \n",
    "    rn = randint(0, n-1)\n",
    "    img = class2[rn]\n",
    "    new_img = data_augmentation(img)\n",
    "    class2_augmeted [i] = new_img\n",
    "    t2[i] = 2\n",
    "    \n",
    "    rn = randint(0, n-1)\n",
    "    img = class3[rn]\n",
    "    new_img = data_augmentation(img)\n",
    "    class3_augmeted [i] = new_img\n",
    "    t3[i] = 0\n"
   ]
  },
  {
   "cell_type": "markdown",
   "metadata": {},
   "source": [
    "#### Se imprimen tres imágenes para comprobar que las transformaciones han salido bien"
   ]
  },
  {
   "cell_type": "code",
   "execution_count": 114,
   "metadata": {},
   "outputs": [
    {
     "name": "stdout",
     "output_type": "stream",
     "text": [
      "478\n",
      "521\n",
      "380\n"
     ]
    },
    {
     "data": {
      "image/png": "[encoded data removed]",
      "text/plain": [
       "<Figure size 1152x1152 with 3 Axes>"
      ]
     },
     "metadata": {
      "needs_background": "light"
     },
     "output_type": "display_data"
    }
   ],
   "source": [
    "# Se imprimen tres imágenes aleatorias de los datos aumentados para comprobar que funciona    \n",
    "rn = randint(0, 2000)\n",
    "img_1 = class1_augmeted[rn]\n",
    "print (rn)\n",
    "rn = randint(0, 2000)\n",
    "print (rn)\n",
    "img_2 = class2_augmeted[rn]\n",
    "rn = randint(0, 2000)\n",
    "print (rn)\n",
    "img_3 = class3_augmeted[rn]  \n",
    "show_row_of_gray_images(16, img_1, img_2, img_3)"
   ]
  },
  {
   "cell_type": "markdown",
   "metadata": {},
   "source": [
    "#### Conformación del set de datos y declaración de las métricas de análsis:"
   ]
  },
  {
   "cell_type": "code",
   "execution_count": 19,
   "metadata": {},
   "outputs": [],
   "source": [
    "CV = 20\n",
    "# Se define el conjunto de datos de entrenamiento\n",
    "X = np.zeros([f*n*3,h*w*3])\n",
    "X[0:2000] = class3_augmeted.reshape(f*n,h*w*3)\n",
    "X[2000:4000] = class1_augmeted.reshape(f*n,h*w*3)\n",
    "X[4000:6000] = class2_augmeted.reshape(f*n,h*w*3)\n",
    "\n",
    "# Se definen las etiquetas de las clases\n",
    "t = np.zeros(f*n*3)\n",
    "t[0:2000] = t3\n",
    "t[2000:4000] = t1\n",
    "t[4000:6000] = t2\n",
    "\n",
    "X_train, X_test, t_train, t_test = train_test_split(X, t, test_size=0.3,shuffle=True)\n",
    "\n",
    "scoring = ['recall_macro', 'precision_micro', 'recall_micro', 'f1_macro','accuracy']"
   ]
  },
  {
   "cell_type": "markdown",
   "metadata": {},
   "source": [
    "#### Validación cruzada con LDA"
   ]
  },
  {
   "cell_type": "code",
   "execution_count": 10,
   "metadata": {},
   "outputs": [
    {
     "name": "stdout",
     "output_type": "stream",
     "text": [
      "Media del LDA :  0.9338095238095236\n"
     ]
    }
   ],
   "source": [
    "modelLDA = LinearDiscriminantAnalysis()\n",
    "scoresLDA = cross_validate(modelLDA, X_train, t_train, cv=CV, scoring=scoring)\n",
    "print('Media del LDA : ', np.mean(scoresLDA['test_accuracy']))"
   ]
  },
  {
   "cell_type": "markdown",
   "metadata": {},
   "source": [
    "#### Validación cruzada con KNN"
   ]
  },
  {
   "cell_type": "code",
   "execution_count": 12,
   "metadata": {},
   "outputs": [
    {
     "name": "stdout",
     "output_type": "stream",
     "text": [
      "Media del KNN :  0.6538095238095237\n"
     ]
    }
   ],
   "source": [
    "modelKNN = KNeighborsClassifier(round(np.sqrt(f*n)))\n",
    "scoresKNN = cross_validate(modelKNN, X_train, t_train, cv=CV, scoring=scoring)\n",
    "print('Media del KNN : ', np.mean(scoresKNN['test_accuracy']))"
   ]
  },
  {
   "cell_type": "markdown",
   "metadata": {},
   "source": [
    "#### Validación cruzada con Random Forest"
   ]
  },
  {
   "cell_type": "code",
   "execution_count": 13,
   "metadata": {},
   "outputs": [
    {
     "name": "stdout",
     "output_type": "stream",
     "text": [
      "Media del KNN :  0.967380952380952\n"
     ]
    }
   ],
   "source": [
    "modelRF = RandomForestClassifier(n_estimators=20, criterion='gini')\n",
    "scoresRF = cross_validate(modelRF, X_train, t_train, cv=CV, scoring=scoring)\n",
    "print('Media del KNN : ', np.mean(scoresRF['test_accuracy']))"
   ]
  },
  {
   "cell_type": "markdown",
   "metadata": {},
   "source": [
    "#### Se importa la red CNN VGG16 para utilizar su arquitectura y conocimento para resolver nuestro problema "
   ]
  },
  {
   "cell_type": "code",
   "execution_count": 14,
   "metadata": {},
   "outputs": [
    {
     "name": "stdout",
     "output_type": "stream",
     "text": [
      "Model: \"vgg16\"\n",
      "_________________________________________________________________\n",
      " Layer (type)                Output Shape              Param #   \n",
      "=================================================================\n",
      " input_1 (InputLayer)        [(None, 32, 32, 3)]       0         \n",
      "                                                                 \n",
      " block1_conv1 (Conv2D)       (None, 32, 32, 64)        1792      \n",
      "                                                                 \n",
      " block1_conv2 (Conv2D)       (None, 32, 32, 64)        36928     \n",
      "                                                                 \n",
      " block1_pool (MaxPooling2D)  (None, 16, 16, 64)        0         \n",
      "                                                                 \n",
      " block2_conv1 (Conv2D)       (None, 16, 16, 128)       73856     \n",
      "                                                                 \n",
      " block2_conv2 (Conv2D)       (None, 16, 16, 128)       147584    \n",
      "                                                                 \n",
      " block2_pool (MaxPooling2D)  (None, 8, 8, 128)         0         \n",
      "                                                                 \n",
      " block3_conv1 (Conv2D)       (None, 8, 8, 256)         295168    \n",
      "                                                                 \n",
      " block3_conv2 (Conv2D)       (None, 8, 8, 256)         590080    \n",
      "                                                                 \n",
      " block3_conv3 (Conv2D)       (None, 8, 8, 256)         590080    \n",
      "                                                                 \n",
      " block3_pool (MaxPooling2D)  (None, 4, 4, 256)         0         \n",
      "                                                                 \n",
      " block4_conv1 (Conv2D)       (None, 4, 4, 512)         1180160   \n",
      "                                                                 \n",
      " block4_conv2 (Conv2D)       (None, 4, 4, 512)         2359808   \n",
      "                                                                 \n",
      " block4_conv3 (Conv2D)       (None, 4, 4, 512)         2359808   \n",
      "                                                                 \n",
      " block4_pool (MaxPooling2D)  (None, 2, 2, 512)         0         \n",
      "                                                                 \n",
      " block5_conv1 (Conv2D)       (None, 2, 2, 512)         2359808   \n",
      "                                                                 \n",
      " block5_conv2 (Conv2D)       (None, 2, 2, 512)         2359808   \n",
      "                                                                 \n",
      " block5_conv3 (Conv2D)       (None, 2, 2, 512)         2359808   \n",
      "                                                                 \n",
      " block5_pool (MaxPooling2D)  (None, 1, 1, 512)         0         \n",
      "                                                                 \n",
      "=================================================================\n",
      "Total params: 14,714,688\n",
      "Trainable params: 14,714,688\n",
      "Non-trainable params: 0\n",
      "_________________________________________________________________\n"
     ]
    }
   ],
   "source": [
    "from keras import applications\n",
    "from keras.models import Sequential\n",
    "from keras.applications import vgg16\n",
    "from keras.layers import Conv2D, MaxPool2D, Flatten, Dense, InputLayer, BatchNormalization, Dropout\n",
    "# include top should be False to remove the softmax layer\n",
    "pretrained_model = vgg16.VGG16(include_top=False, weights='imagenet', input_shape=(32,32,3))\n",
    "pretrained_model.summary()"
   ]
  },
  {
   "cell_type": "markdown",
   "metadata": {},
   "source": [
    "#### Se procesan las imágenes utilizando la estructura y los pesos de la red pre-entrenada"
   ]
  },
  {
   "cell_type": "code",
   "execution_count": 20,
   "metadata": {},
   "outputs": [
    {
     "name": "stdout",
     "output_type": "stream",
     "text": [
      "2940\n"
     ]
    }
   ],
   "source": [
    "# extract train and val features\n",
    "X_train, X_val, t_train, t_val = train_test_split(X_train, t_train, test_size=0.3, shuffle=True)\n",
    "vgg_features_train = pretrained_model.predict(X_train.reshape(len(X_train),IMG_SIZE,IMG_SIZE,3))\n",
    "vgg_features_val = pretrained_model.predict(X_val.reshape(len(X_val),IMG_SIZE,IMG_SIZE,3))"
   ]
  },
  {
   "cell_type": "code",
   "execution_count": 28,
   "metadata": {},
   "outputs": [],
   "source": [
    "# OHE target column)\n",
    "train_target = tf.keras.utils.to_categorical(t_train)\n",
    "val_target = tf.keras.utils.to_categorical(t_val)\n",
    "test_target = tf.keras.utils.to_categorical(t_test)"
   ]
  },
  {
   "cell_type": "markdown",
   "metadata": {},
   "source": [
    "#### Se añaden las capas finales de la red"
   ]
  },
  {
   "cell_type": "code",
   "execution_count": 23,
   "metadata": {},
   "outputs": [
    {
     "name": "stdout",
     "output_type": "stream",
     "text": [
      "Model: \"sequential_1\"\n",
      "_________________________________________________________________\n",
      " Layer (type)                Output Shape              Param #   \n",
      "=================================================================\n",
      " flatten (Flatten)           (None, 512)               0         \n",
      "                                                                 \n",
      " dense (Dense)               (None, 100)               51300     \n",
      "                                                                 \n",
      " dropout (Dropout)           (None, 100)               0         \n",
      "                                                                 \n",
      " batch_normalization (BatchN  (None, 100)              400       \n",
      " ormalization)                                                   \n",
      "                                                                 \n",
      " dense_1 (Dense)             (None, 3)                 303       \n",
      "                                                                 \n",
      "=================================================================\n",
      "Total params: 52,003\n",
      "Trainable params: 51,803\n",
      "Non-trainable params: 200\n",
      "_________________________________________________________________\n"
     ]
    }
   ],
   "source": [
    "modelCNN = Sequential()\n",
    "modelCNN.add(Flatten(input_shape=(1,1,512)))\n",
    "modelCNN.add(Dense(100, activation='relu'))\n",
    "modelCNN.add(Dropout(0.5))\n",
    "modelCNN.add(BatchNormalization())\n",
    "modelCNN.add(Dense(3, activation='softmax'))\n",
    "# compile the model\n",
    "modelCNN.compile(optimizer='adam', metrics=['accuracy'], loss='categorical_crossentropy')\n",
    "modelCNN.summary()"
   ]
  },
  {
   "cell_type": "markdown",
   "metadata": {},
   "source": [
    "#### Finalmente se realiza la clasificación utilizando las capas finales de nuestra red"
   ]
  },
  {
   "cell_type": "code",
   "execution_count": 24,
   "metadata": {},
   "outputs": [
    {
     "name": "stdout",
     "output_type": "stream",
     "text": [
      "Epoch 1/100\n",
      "59/59 [==============================] - 2s 11ms/step - loss: 0.9553 - accuracy: 0.5534 - val_loss: 0.8944 - val_accuracy: 0.6444\n",
      "Epoch 2/100\n",
      "59/59 [==============================] - 0s 5ms/step - loss: 0.7287 - accuracy: 0.6595 - val_loss: 0.8845 - val_accuracy: 0.5365\n",
      "Epoch 3/100\n",
      "59/59 [==============================] - 0s 5ms/step - loss: 0.6468 - accuracy: 0.7160 - val_loss: 0.8183 - val_accuracy: 0.5960\n",
      "Epoch 4/100\n",
      "59/59 [==============================] - 0s 7ms/step - loss: 0.6299 - accuracy: 0.7211 - val_loss: 0.7439 - val_accuracy: 0.7159\n",
      "Epoch 5/100\n",
      "59/59 [==============================] - 0s 6ms/step - loss: 0.5942 - accuracy: 0.7422 - val_loss: 0.6251 - val_accuracy: 0.7476\n",
      "Epoch 6/100\n",
      "59/59 [==============================] - 0s 5ms/step - loss: 0.5743 - accuracy: 0.7476 - val_loss: 0.5485 - val_accuracy: 0.8095\n",
      "Epoch 7/100\n",
      "59/59 [==============================] - 0s 6ms/step - loss: 0.5621 - accuracy: 0.7578 - val_loss: 0.5334 - val_accuracy: 0.7786\n",
      "Epoch 8/100\n",
      "59/59 [==============================] - 0s 5ms/step - loss: 0.5511 - accuracy: 0.7565 - val_loss: 0.5214 - val_accuracy: 0.8119\n",
      "Epoch 9/100\n",
      "59/59 [==============================] - 0s 5ms/step - loss: 0.5537 - accuracy: 0.7619 - val_loss: 0.5013 - val_accuracy: 0.7952\n",
      "Epoch 10/100\n",
      "59/59 [==============================] - 0s 5ms/step - loss: 0.5570 - accuracy: 0.7595 - val_loss: 0.4822 - val_accuracy: 0.7865\n",
      "Epoch 11/100\n",
      "59/59 [==============================] - 0s 5ms/step - loss: 0.5584 - accuracy: 0.7585 - val_loss: 0.4574 - val_accuracy: 0.8151\n",
      "Epoch 12/100\n",
      "59/59 [==============================] - 0s 5ms/step - loss: 0.5365 - accuracy: 0.7701 - val_loss: 0.4459 - val_accuracy: 0.8294\n",
      "Epoch 13/100\n",
      "59/59 [==============================] - 0s 5ms/step - loss: 0.5357 - accuracy: 0.7697 - val_loss: 0.4727 - val_accuracy: 0.8333\n",
      "Epoch 14/100\n",
      "59/59 [==============================] - 0s 5ms/step - loss: 0.5242 - accuracy: 0.7830 - val_loss: 0.4692 - val_accuracy: 0.8151\n",
      "Epoch 15/100\n",
      "59/59 [==============================] - 0s 6ms/step - loss: 0.5503 - accuracy: 0.7595 - val_loss: 0.4453 - val_accuracy: 0.7976\n",
      "Epoch 16/100\n",
      "59/59 [==============================] - 0s 5ms/step - loss: 0.5319 - accuracy: 0.7745 - val_loss: 0.4606 - val_accuracy: 0.7913\n",
      "Epoch 17/100\n",
      "59/59 [==============================] - 0s 5ms/step - loss: 0.5393 - accuracy: 0.7650 - val_loss: 0.4098 - val_accuracy: 0.8429\n",
      "Epoch 18/100\n",
      "59/59 [==============================] - 0s 6ms/step - loss: 0.5139 - accuracy: 0.7833 - val_loss: 0.4688 - val_accuracy: 0.8222\n",
      "Epoch 19/100\n",
      "59/59 [==============================] - 0s 5ms/step - loss: 0.5125 - accuracy: 0.7816 - val_loss: 0.4173 - val_accuracy: 0.8452\n",
      "Epoch 20/100\n",
      "59/59 [==============================] - 0s 5ms/step - loss: 0.5368 - accuracy: 0.7609 - val_loss: 0.4115 - val_accuracy: 0.8254\n",
      "Epoch 21/100\n",
      "59/59 [==============================] - 0s 6ms/step - loss: 0.5128 - accuracy: 0.7789 - val_loss: 0.4327 - val_accuracy: 0.8143\n",
      "Epoch 22/100\n",
      "59/59 [==============================] - 0s 5ms/step - loss: 0.5123 - accuracy: 0.7847 - val_loss: 0.4004 - val_accuracy: 0.8349\n",
      "Epoch 23/100\n",
      "59/59 [==============================] - 0s 6ms/step - loss: 0.4954 - accuracy: 0.7895 - val_loss: 0.3879 - val_accuracy: 0.8675\n",
      "Epoch 24/100\n",
      "59/59 [==============================] - 0s 6ms/step - loss: 0.4912 - accuracy: 0.7895 - val_loss: 0.3753 - val_accuracy: 0.8571\n",
      "Epoch 25/100\n",
      "59/59 [==============================] - 0s 5ms/step - loss: 0.5164 - accuracy: 0.7806 - val_loss: 0.4431 - val_accuracy: 0.8333\n",
      "Epoch 26/100\n",
      "59/59 [==============================] - 0s 5ms/step - loss: 0.5283 - accuracy: 0.7704 - val_loss: 0.4440 - val_accuracy: 0.8246\n",
      "Epoch 27/100\n",
      "59/59 [==============================] - 0s 5ms/step - loss: 0.5251 - accuracy: 0.7697 - val_loss: 0.4013 - val_accuracy: 0.8468\n",
      "Epoch 28/100\n",
      "59/59 [==============================] - 0s 5ms/step - loss: 0.5425 - accuracy: 0.7673 - val_loss: 0.4139 - val_accuracy: 0.8222\n",
      "Epoch 29/100\n",
      "59/59 [==============================] - 0s 5ms/step - loss: 0.5379 - accuracy: 0.7493 - val_loss: 0.4239 - val_accuracy: 0.8254\n",
      "Epoch 30/100\n",
      "59/59 [==============================] - 0s 5ms/step - loss: 0.5339 - accuracy: 0.7612 - val_loss: 0.4049 - val_accuracy: 0.8333\n",
      "Epoch 31/100\n",
      "59/59 [==============================] - 0s 6ms/step - loss: 0.5633 - accuracy: 0.7534 - val_loss: 0.4877 - val_accuracy: 0.8040\n",
      "Epoch 32/100\n",
      "59/59 [==============================] - 0s 5ms/step - loss: 0.5730 - accuracy: 0.7374 - val_loss: 0.4539 - val_accuracy: 0.8032\n",
      "Epoch 33/100\n",
      "59/59 [==============================] - 0s 5ms/step - loss: 0.5541 - accuracy: 0.7527 - val_loss: 0.4282 - val_accuracy: 0.8254\n",
      "Epoch 34/100\n",
      "59/59 [==============================] - 0s 5ms/step - loss: 0.5538 - accuracy: 0.7497 - val_loss: 0.4308 - val_accuracy: 0.8492\n",
      "Epoch 35/100\n",
      "59/59 [==============================] - 0s 6ms/step - loss: 0.5567 - accuracy: 0.7582 - val_loss: 0.4208 - val_accuracy: 0.8444\n",
      "Epoch 36/100\n",
      "59/59 [==============================] - 0s 5ms/step - loss: 0.5530 - accuracy: 0.7524 - val_loss: 0.3658 - val_accuracy: 0.8556\n",
      "Epoch 37/100\n",
      "59/59 [==============================] - 0s 5ms/step - loss: 0.5511 - accuracy: 0.7514 - val_loss: 0.3874 - val_accuracy: 0.8651\n",
      "Epoch 38/100\n",
      "59/59 [==============================] - 0s 5ms/step - loss: 0.5497 - accuracy: 0.7561 - val_loss: 0.3896 - val_accuracy: 0.8667\n",
      "Epoch 39/100\n",
      "59/59 [==============================] - 0s 6ms/step - loss: 0.5204 - accuracy: 0.7803 - val_loss: 0.3693 - val_accuracy: 0.8794\n",
      "Epoch 40/100\n",
      "59/59 [==============================] - 0s 5ms/step - loss: 0.5177 - accuracy: 0.7799 - val_loss: 0.3689 - val_accuracy: 0.8698\n",
      "Epoch 41/100\n",
      "59/59 [==============================] - 0s 5ms/step - loss: 0.5492 - accuracy: 0.7422 - val_loss: 0.4027 - val_accuracy: 0.8341\n",
      "Epoch 42/100\n",
      "59/59 [==============================] - 0s 5ms/step - loss: 0.5614 - accuracy: 0.7510 - val_loss: 0.3763 - val_accuracy: 0.8746\n",
      "Epoch 43/100\n",
      "59/59 [==============================] - 0s 5ms/step - loss: 0.5356 - accuracy: 0.7646 - val_loss: 0.3760 - val_accuracy: 0.8484\n",
      "Epoch 44/100\n",
      "59/59 [==============================] - 0s 5ms/step - loss: 0.5269 - accuracy: 0.7735 - val_loss: 0.3949 - val_accuracy: 0.8627\n",
      "Epoch 45/100\n",
      "59/59 [==============================] - 0s 5ms/step - loss: 0.5055 - accuracy: 0.7748 - val_loss: 0.3793 - val_accuracy: 0.8643\n",
      "Epoch 46/100\n",
      "59/59 [==============================] - 0s 5ms/step - loss: 0.4916 - accuracy: 0.7884 - val_loss: 0.3569 - val_accuracy: 0.8714\n",
      "Epoch 47/100\n",
      "59/59 [==============================] - 0s 5ms/step - loss: 0.5166 - accuracy: 0.7796 - val_loss: 0.3726 - val_accuracy: 0.8563\n",
      "Epoch 48/100\n",
      "59/59 [==============================] - 0s 5ms/step - loss: 0.5213 - accuracy: 0.7639 - val_loss: 0.3490 - val_accuracy: 0.8698\n",
      "Epoch 49/100\n",
      "59/59 [==============================] - 0s 5ms/step - loss: 0.5275 - accuracy: 0.7724 - val_loss: 0.3762 - val_accuracy: 0.8603\n",
      "Epoch 50/100\n",
      "59/59 [==============================] - 0s 5ms/step - loss: 0.5211 - accuracy: 0.7687 - val_loss: 0.3633 - val_accuracy: 0.8675\n",
      "Epoch 51/100\n",
      "59/59 [==============================] - 0s 5ms/step - loss: 0.5101 - accuracy: 0.7718 - val_loss: 0.3544 - val_accuracy: 0.8667\n",
      "Epoch 52/100\n",
      "59/59 [==============================] - 0s 5ms/step - loss: 0.5240 - accuracy: 0.7639 - val_loss: 0.3499 - val_accuracy: 0.8540\n",
      "Epoch 53/100\n",
      "59/59 [==============================] - 0s 5ms/step - loss: 0.5289 - accuracy: 0.7650 - val_loss: 0.3798 - val_accuracy: 0.8690\n",
      "Epoch 54/100\n",
      "59/59 [==============================] - 0s 5ms/step - loss: 0.5467 - accuracy: 0.7565 - val_loss: 0.3704 - val_accuracy: 0.8492\n",
      "Epoch 55/100\n",
      "59/59 [==============================] - 0s 5ms/step - loss: 0.5353 - accuracy: 0.7599 - val_loss: 0.3710 - val_accuracy: 0.8381\n",
      "Epoch 56/100\n",
      "59/59 [==============================] - 0s 5ms/step - loss: 0.5021 - accuracy: 0.7786 - val_loss: 0.4222 - val_accuracy: 0.8619\n",
      "Epoch 57/100\n",
      "59/59 [==============================] - 0s 5ms/step - loss: 0.5394 - accuracy: 0.7548 - val_loss: 0.3713 - val_accuracy: 0.8563\n",
      "Epoch 58/100\n",
      "59/59 [==============================] - 0s 5ms/step - loss: 0.4933 - accuracy: 0.7915 - val_loss: 0.3454 - val_accuracy: 0.8754\n",
      "Epoch 59/100\n",
      "59/59 [==============================] - 0s 6ms/step - loss: 0.5201 - accuracy: 0.7592 - val_loss: 0.3810 - val_accuracy: 0.8476\n",
      "Epoch 60/100\n",
      "59/59 [==============================] - 0s 5ms/step - loss: 0.5358 - accuracy: 0.7588 - val_loss: 0.3471 - val_accuracy: 0.8675\n",
      "Epoch 61/100\n",
      "59/59 [==============================] - 0s 5ms/step - loss: 0.5518 - accuracy: 0.7391 - val_loss: 0.3580 - val_accuracy: 0.8690\n",
      "Epoch 62/100\n",
      "59/59 [==============================] - 0s 5ms/step - loss: 0.5120 - accuracy: 0.7697 - val_loss: 0.3945 - val_accuracy: 0.8524\n",
      "Epoch 63/100\n",
      "59/59 [==============================] - 0s 5ms/step - loss: 0.5112 - accuracy: 0.7714 - val_loss: 0.3641 - val_accuracy: 0.8540\n",
      "Epoch 64/100\n",
      "59/59 [==============================] - 0s 5ms/step - loss: 0.4848 - accuracy: 0.7793 - val_loss: 0.3503 - val_accuracy: 0.8619\n",
      "Epoch 65/100\n",
      "59/59 [==============================] - 0s 5ms/step - loss: 0.5103 - accuracy: 0.7724 - val_loss: 0.3520 - val_accuracy: 0.8786\n",
      "Epoch 66/100\n",
      "59/59 [==============================] - 0s 5ms/step - loss: 0.5117 - accuracy: 0.7670 - val_loss: 0.3374 - val_accuracy: 0.8556\n",
      "Epoch 67/100\n",
      "59/59 [==============================] - 0s 5ms/step - loss: 0.5404 - accuracy: 0.7602 - val_loss: 0.3872 - val_accuracy: 0.8492\n",
      "Epoch 68/100\n",
      "59/59 [==============================] - 0s 5ms/step - loss: 0.5348 - accuracy: 0.7585 - val_loss: 0.3584 - val_accuracy: 0.8833\n",
      "Epoch 69/100\n",
      "59/59 [==============================] - 0s 5ms/step - loss: 0.4885 - accuracy: 0.7786 - val_loss: 0.3489 - val_accuracy: 0.8635\n",
      "Epoch 70/100\n",
      "59/59 [==============================] - 0s 5ms/step - loss: 0.5343 - accuracy: 0.7578 - val_loss: 0.3529 - val_accuracy: 0.8913\n",
      "Epoch 71/100\n",
      "59/59 [==============================] - 0s 5ms/step - loss: 0.5074 - accuracy: 0.7850 - val_loss: 0.3858 - val_accuracy: 0.8746\n",
      "Epoch 72/100\n",
      "59/59 [==============================] - 0s 5ms/step - loss: 0.5076 - accuracy: 0.7765 - val_loss: 0.3801 - val_accuracy: 0.8810\n",
      "Epoch 73/100\n",
      "59/59 [==============================] - 0s 5ms/step - loss: 0.5061 - accuracy: 0.7626 - val_loss: 0.3325 - val_accuracy: 0.8802\n",
      "Epoch 74/100\n",
      "59/59 [==============================] - 0s 5ms/step - loss: 0.4876 - accuracy: 0.7901 - val_loss: 0.3509 - val_accuracy: 0.8913\n",
      "Epoch 75/100\n",
      "59/59 [==============================] - 0s 5ms/step - loss: 0.5052 - accuracy: 0.7656 - val_loss: 0.4056 - val_accuracy: 0.8421\n",
      "Epoch 76/100\n",
      "59/59 [==============================] - 0s 5ms/step - loss: 0.5256 - accuracy: 0.7670 - val_loss: 0.3986 - val_accuracy: 0.8794\n",
      "Epoch 77/100\n",
      "59/59 [==============================] - 0s 5ms/step - loss: 0.5316 - accuracy: 0.7878 - val_loss: 0.3804 - val_accuracy: 0.8905\n",
      "Epoch 78/100\n",
      "59/59 [==============================] - 0s 5ms/step - loss: 0.5143 - accuracy: 0.7939 - val_loss: 0.4357 - val_accuracy: 0.8810\n",
      "Epoch 79/100\n",
      "59/59 [==============================] - 0s 5ms/step - loss: 0.5214 - accuracy: 0.7779 - val_loss: 0.3850 - val_accuracy: 0.8524\n",
      "Epoch 80/100\n",
      "59/59 [==============================] - 0s 5ms/step - loss: 0.5320 - accuracy: 0.7762 - val_loss: 0.4037 - val_accuracy: 0.8683\n",
      "Epoch 81/100\n",
      "59/59 [==============================] - 0s 5ms/step - loss: 0.5407 - accuracy: 0.7755 - val_loss: 0.3651 - val_accuracy: 0.8944\n",
      "Epoch 82/100\n",
      "59/59 [==============================] - 0s 6ms/step - loss: 0.5226 - accuracy: 0.7793 - val_loss: 0.3524 - val_accuracy: 0.8889\n",
      "Epoch 83/100\n",
      "59/59 [==============================] - 0s 5ms/step - loss: 0.5326 - accuracy: 0.7677 - val_loss: 0.4150 - val_accuracy: 0.8492\n",
      "Epoch 84/100\n",
      "59/59 [==============================] - 0s 5ms/step - loss: 0.5178 - accuracy: 0.7932 - val_loss: 0.3665 - val_accuracy: 0.8587\n",
      "Epoch 85/100\n",
      "59/59 [==============================] - 0s 5ms/step - loss: 0.5360 - accuracy: 0.7776 - val_loss: 0.4146 - val_accuracy: 0.8571\n",
      "Epoch 86/100\n",
      "59/59 [==============================] - 0s 5ms/step - loss: 0.5166 - accuracy: 0.7891 - val_loss: 0.3735 - val_accuracy: 0.8841\n",
      "Epoch 87/100\n",
      "59/59 [==============================] - 0s 6ms/step - loss: 0.5163 - accuracy: 0.7793 - val_loss: 0.4235 - val_accuracy: 0.8143\n",
      "Epoch 88/100\n",
      "59/59 [==============================] - 0s 5ms/step - loss: 0.5094 - accuracy: 0.7918 - val_loss: 0.3890 - val_accuracy: 0.8556\n",
      "Epoch 89/100\n",
      "59/59 [==============================] - 0s 5ms/step - loss: 0.5235 - accuracy: 0.7918 - val_loss: 0.3551 - val_accuracy: 0.8698\n",
      "Epoch 90/100\n",
      "59/59 [==============================] - 0s 4ms/step - loss: 0.5036 - accuracy: 0.7980 - val_loss: 0.3678 - val_accuracy: 0.8881\n",
      "Epoch 91/100\n",
      "59/59 [==============================] - 0s 4ms/step - loss: 0.5396 - accuracy: 0.7871 - val_loss: 0.3922 - val_accuracy: 0.8556\n",
      "Epoch 92/100\n",
      "59/59 [==============================] - 0s 5ms/step - loss: 0.5701 - accuracy: 0.7609 - val_loss: 0.3458 - val_accuracy: 0.8714\n",
      "Epoch 93/100\n",
      "59/59 [==============================] - 0s 5ms/step - loss: 0.5594 - accuracy: 0.7636 - val_loss: 0.4030 - val_accuracy: 0.8492\n",
      "Epoch 94/100\n",
      "59/59 [==============================] - 0s 5ms/step - loss: 0.5469 - accuracy: 0.7714 - val_loss: 0.4235 - val_accuracy: 0.7976\n",
      "Epoch 95/100\n",
      "59/59 [==============================] - 0s 5ms/step - loss: 0.5534 - accuracy: 0.7626 - val_loss: 0.3674 - val_accuracy: 0.8627\n",
      "Epoch 96/100\n",
      "59/59 [==============================] - 0s 5ms/step - loss: 0.5481 - accuracy: 0.7731 - val_loss: 0.3626 - val_accuracy: 0.8770\n",
      "Epoch 97/100\n",
      "59/59 [==============================] - 0s 5ms/step - loss: 0.5634 - accuracy: 0.7554 - val_loss: 0.3998 - val_accuracy: 0.8349\n",
      "Epoch 98/100\n",
      "59/59 [==============================] - 0s 5ms/step - loss: 0.5478 - accuracy: 0.7735 - val_loss: 0.3962 - val_accuracy: 0.8492\n",
      "Epoch 99/100\n",
      "59/59 [==============================] - 0s 6ms/step - loss: 0.5256 - accuracy: 0.7796 - val_loss: 0.3575 - val_accuracy: 0.8714\n",
      "Epoch 100/100\n",
      "59/59 [==============================] - 0s 5ms/step - loss: 0.5477 - accuracy: 0.7636 - val_loss: 0.3716 - val_accuracy: 0.8865\n"
     ]
    }
   ],
   "source": [
    "# train model using features generated from VGG16 model\n",
    "history = (modelCNN.fit(vgg_features_train, train_target, epochs=100, batch_size=50, validation_data=(vgg_features_val, val_target)))"
   ]
  },
  {
   "cell_type": "code",
   "execution_count": 25,
   "metadata": {},
   "outputs": [
    {
     "data": {
      "text/plain": [
       "<matplotlib.legend.Legend at 0x23e033451f0>"
      ]
     },
     "execution_count": 25,
     "metadata": {},
     "output_type": "execute_result"
    },
    {
     "data": {
      "image/png": "[encoded data removed]",
      "text/plain": [
       "<Figure size 864x360 with 1 Axes>"
      ]
     },
     "metadata": {
      "needs_background": "light"
     },
     "output_type": "display_data"
    }
   ],
   "source": [
    "plt.figure(figsize=(12,5))\n",
    "plt.plot(history.history['accuracy'], label='Entrenamiento')\n",
    "plt.plot(history.history['val_accuracy'], label = 'Validación')\n",
    "plt.xlabel('Iteración (epoch)')\n",
    "plt.ylabel('Exactitud (accuracy)')\n",
    "plt.ylim([0, 1])\n",
    "plt.grid()\n",
    "plt.title('Modelo '+str(i+1))\n",
    "plt.legend(loc='lower right')"
   ]
  },
  {
   "cell_type": "code",
   "execution_count": 29,
   "metadata": {},
   "outputs": [
    {
     "name": "stdout",
     "output_type": "stream",
     "text": [
      "Accuray (test) 0.8461111187934875\n"
     ]
    }
   ],
   "source": [
    "vgg_features_test = pretrained_model.predict(X_test.reshape(len(X_test),IMG_SIZE,IMG_SIZE,3))\n",
    "test_loss, test_acc = modelCNN.evaluate(vgg_features_test,  test_target, verbose=0)\n",
    "print('Accuray (test)', test_acc)"
   ]
  },
  {
   "cell_type": "code",
   "execution_count": 30,
   "metadata": {},
   "outputs": [
    {
     "data": {
      "text/plain": [
       "Text(0, 0.5, 'Clase real')"
      ]
     },
     "execution_count": 30,
     "metadata": {},
     "output_type": "execute_result"
    },
    {
     "data": {
      "image/png": "[encoded data removed]",
      "text/plain": [
       "<Figure size 600x400 with 2 Axes>"
      ]
     },
     "metadata": {
      "needs_background": "light"
     },
     "output_type": "display_data"
    },
    {
     "data": {
      "image/png": "[encoded data removed]",
      "text/plain": [
       "<Figure size 600x400 with 2 Axes>"
      ]
     },
     "metadata": {
      "needs_background": "light"
     },
     "output_type": "display_data"
    },
    {
     "data": {
      "image/png": "[encoded data removed]",
      "text/plain": [
       "<Figure size 600x400 with 2 Axes>"
      ]
     },
     "metadata": {
      "needs_background": "light"
     },
     "output_type": "display_data"
    }
   ],
   "source": [
    "Clases=['Clase extra','Clase I','Clase II']\n",
    "\n",
    "modelLDA.fit(X_train, t_train)\n",
    "disp = plot_confusion_matrix(modelLDA, X_test, t_test, display_labels = Clases, xticks_rotation = 'vertical') # Muestra gráficamente la matriz de confusión\n",
    "disp.figure_.suptitle(\"Matriz de confusión LDA\");         # Añade un título a la figura de la matriz de confusión\n",
    "disp.figure_.set_dpi(100)                             # Establece el tamaño de la figura\n",
    "plt.xlabel(\"Clase predicha\")\n",
    "plt.ylabel(\"Clase real\")\n",
    "\n",
    "modelKNN.fit(X_train, t_train)\n",
    "disp = plot_confusion_matrix(modelKNN, X_test, t_test, display_labels = Clases, xticks_rotation = 'vertical') # Muestra gráficamente la matriz de confusión\n",
    "disp.figure_.suptitle(\"Matriz de confusión KNN\");         # Añade un título a la figura de la matriz de confusión\n",
    "disp.figure_.set_dpi(100)                             # Establece el tamaño de la figura\n",
    "plt.xlabel(\"Clase predicha\")\n",
    "plt.ylabel(\"Clase real\")\n",
    "\n",
    "modelRF.fit(X_train, t_train)\n",
    "disp = plot_confusion_matrix(modelRF, X_test, t_test, display_labels = Clases, xticks_rotation = 'vertical') # Muestra gráficamente la matriz de confusión\n",
    "disp.figure_.suptitle(\"Matriz de confusión LR\");         # Añade un título a la figura de la matriz de confusión\n",
    "disp.figure_.set_dpi(100)                             # Establece el tamaño de la figura\n",
    "plt.xlabel(\"Clase predicha\")\n",
    "plt.ylabel(\"Clase real\")"
   ]
  },
  {
   "cell_type": "code",
   "execution_count": 32,
   "metadata": {},
   "outputs": [],
   "source": [
    "vgg_features_test = pretrained_model.predict(X_test.reshape(len(X_test),IMG_SIZE,IMG_SIZE,3))"
   ]
  },
  {
   "cell_type": "code",
   "execution_count": 33,
   "metadata": {},
   "outputs": [],
   "source": [
    "t_pred = []\n",
    "for i in range(0,len(vgg_features_test)):\n",
    "    t_pred.append(np.argmax(modelCNN.predict(vgg_features_test[i:i+1])))"
   ]
  },
  {
   "cell_type": "code",
   "execution_count": 34,
   "metadata": {},
   "outputs": [
    {
     "data": {
      "text/plain": [
       "<tf.Tensor: shape=(3, 3), dtype=int32, numpy=\n",
       "array([[531,  50,  13],\n",
       "       [ 89, 476,  74],\n",
       "       [  2,  49, 516]])>"
      ]
     },
     "execution_count": 34,
     "metadata": {},
     "output_type": "execute_result"
    }
   ],
   "source": [
    "tf.math.confusion_matrix(t_test, t_pred)"
   ]
  },
  {
   "cell_type": "markdown",
   "metadata": {},
   "source": [
    "#### Se muestra un diagrama de cajas con los resultados de la validación cruzada:"
   ]
  },
  {
   "cell_type": "code",
   "execution_count": 37,
   "metadata": {},
   "outputs": [
    {
     "data": {
      "image/png": "[encoded data removed]",
      "text/plain": [
       "<Figure size 432x288 with 1 Axes>"
      ]
     },
     "metadata": {
      "needs_background": "light"
     },
     "output_type": "display_data"
    }
   ],
   "source": [
    "data = [scoresLDA['test_accuracy'], scoresKNN['test_accuracy'], scoresRF['test_accuracy']]\n",
    "fig7, ax = plt.subplots()\n",
    "ax.set_title('Modelos')\n",
    "ax.boxplot(data,labels=['LDA', 'KNN', 'RF']);"
   ]
  },
  {
   "cell_type": "markdown",
   "metadata": {},
   "source": [
    "#### Contraste de hipótesis:\n",
    "\n",
    "Primero se muestran los resultados obtenidos aplicando el test de [Kruskall-Wallis](https://docs.scipy.org/doc/scipy/reference/generated/scipy.stats.kruskal.html#scipy.stats.kruskal) y el test de [Anova](https://docs.scipy.org/doc/scipy/reference/generated/scipy.stats.f_oneway.html). Si se rechaza la hipótesis, entonces se puede afirmar que los modelos son diferentes y, posteriormente, se aplican dos test de comparación múltiple mediante el uso de la clase [MultiComparison](https://www.statsmodels.org/stable/generated/statsmodels.sandbox.stats.multicomp.MultiComparison.html). Estos métodos comprueban si hay diferencias significativas con un p<0.05, corrigiendo el hecho de que se están haciendo múltiples comparaciones que normalmente aumentarían la probabilidad de que se identifique una diferencia significativa. Un resultado de \"reject = true\" significa que se ha observado una diferencia significativa:\n",
    "- Método de Tukey. Se emplea para ello la función [tukeyhsd](https://www.statsmodels.org/stable/generated/statsmodels.sandbox.stats.multicomp.MultiComparison.tukeyhsd.html#statsmodels.sandbox.stats.multicomp.MultiComparison.tukeyhsd).\n",
    "- Método de Holm-Bonferroni. Se emplea para ello la función [allpairtest](https://www.statsmodels.org/stable/generated/statsmodels.sandbox.stats.multicomp.MultiComparison.allpairtest.html#statsmodels.sandbox.stats.multicomp.MultiComparison.allpairtest)"
   ]
  },
  {
   "cell_type": "code",
   "execution_count": 38,
   "metadata": {},
   "outputs": [
    {
     "name": "stdout",
     "output_type": "stream",
     "text": [
      "p-valor KrusW: 2.4154804328009557e-11\n",
      "p-valor ANOVA: 9.293724371268571e-51\n",
      "Rechazamos la hipótesis: los modelos son diferentes\n",
      "\n",
      "Test Multiple Comparison ttest_rel \n",
      "FWER=0.05 method=Holm\n",
      "alphacSidak=0.02, alphacBonf=0.017\n",
      "================================================\n",
      " group1   group2    stat   pval pval_corr reject\n",
      "------------------------------------------------\n",
      "modelKNN modelLDA -40.9052  0.0       0.0   True\n",
      "modelKNN  modelRF -54.8074  0.0       0.0   True\n",
      "modelLDA  modelRF  -8.3184  0.0       0.0   True\n",
      "------------------------------------------------\n",
      " Multiple Comparison of Means - Tukey HSD, FWER=0.05 \n",
      "=====================================================\n",
      " group1   group2  meandiff p-adj lower  upper  reject\n",
      "-----------------------------------------------------\n",
      "modelKNN modelLDA     0.28 0.001 0.2653 0.2947   True\n",
      "modelKNN  modelRF   0.3136 0.001 0.2989 0.3282   True\n",
      "modelLDA  modelRF   0.0336 0.001 0.0189 0.0482   True\n",
      "-----------------------------------------------------\n"
     ]
    }
   ],
   "source": [
    "alpha = 0.05\n",
    "F_statistic, pVal = stats.kruskal(scoresLDA['test_accuracy'], scoresKNN['test_accuracy'], scoresRF['test_accuracy'])\n",
    "F_statistic2, pVal2 = stats.f_oneway(scoresLDA['test_accuracy'], scoresKNN['test_accuracy'], scoresRF['test_accuracy'])\n",
    "print ('p-valor KrusW:', pVal)\n",
    "print ('p-valor ANOVA:', pVal2)\n",
    "if pVal <= alpha:\n",
    "    print('Rechazamos la hipótesis: los modelos son diferentes\\n')\n",
    "    stacked_data = np.vstack((scoresLDA['test_accuracy'],scoresKNN['test_accuracy'], scoresRF['test_accuracy'])).ravel()\n",
    "    stacked_model = np.vstack((np.repeat('modelLDA',CV),np.repeat('modelKNN',CV),np.repeat('modelRF',CV),)).ravel()    \n",
    "    MultiComp = MultiComparison(stacked_data, stacked_model)\n",
    "    comp = MultiComp.allpairtest(stats.ttest_rel, method='Holm')\n",
    "    print (comp[0])    \n",
    "    print(MultiComp.tukeyhsd(alpha=0.05))\n",
    "else:\n",
    "    print('Aceptamos la hipótesis: los modelos son iguales')"
   ]
  }
 ],
 "metadata": {
  "kernelspec": {
   "display_name": "Python 3",
   "language": "python",
   "name": "python3"
  },
  "language_info": {
   "codemirror_mode": {
    "name": "ipython",
    "version": 3
   },
   "file_extension": ".py",
   "mimetype": "text/x-python",
   "name": "python",
   "nbconvert_exporter": "python",
   "pygments_lexer": "ipython3",
   "version": "3.9.7"
  }
 },
 "nbformat": 4,
 "nbformat_minor": 2
}
