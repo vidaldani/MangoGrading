{
 "cells": [
  {
   "cell_type": "markdown",
   "metadata": {},
   "source": [
    "<img src=https://api-manager.universia.net/coreplatform-document-management/api/document-management/public/6ra7ymjkfi64845 width=\"300\" align=\"left\">\n",
    "<br />\n",
    "\n",
    "# Aprendizaje automático I\n",
    "#### <font color=green>*Máster en Informática Industrial y Robótica*</font>"
   ]
  },
  {
   "cell_type": "markdown",
   "metadata": {},
   "source": [
    "Daniel Vidal Soroa  \n",
    "Juan Diego Peña "
   ]
  },
  {
   "cell_type": "markdown",
   "metadata": {},
   "source": [
    "## Clasificación de mangos en tres clases según su presencia para la exportación, comercio local o procesamiento industrial"
   ]
  },
  {
   "cell_type": "markdown",
   "metadata": {},
   "source": [
    "#### Importación de las librerías:"
   ]
  },
  {
   "cell_type": "code",
   "execution_count": 19,
   "metadata": {},
   "outputs": [],
   "source": [
    "import os\n",
    "import numpy as np\n",
    "import pandas as pd\n",
    "import tensorflow as tf\n",
    "import matplotlib.pyplot as plt\n",
    "import scipy.stats as stats\n",
    "from statsmodels.stats.multicomp import pairwise_tukeyhsd, MultiComparison\n",
    "from sklearn.model_selection import cross_validate\n",
    "from sklearn.linear_model import LogisticRegression\n",
    "from sklearn.discriminant_analysis import LinearDiscriminantAnalysis\n",
    "from sklearn.neighbors import KNeighborsClassifier\n",
    "from sklearn.ensemble import RandomForestClassifier\n",
    "from sklearn.tree import DecisionTreeClassifier, plot_tree\n",
    "from sklearn.utils import shuffle\n",
    "from skimage.io import imread\n",
    "from skimage.transform import resize\n",
    "from sklearn.metrics import roc_curve, auc, plot_confusion_matrix, classification_report,ConfusionMatrixDisplay,confusion_matrix\n",
    "from sklearn.model_selection import train_test_split\n",
    "from random import seed\n",
    "from random import randint\n",
    "from tensorflow import keras\n",
    "from keras import layers, models, utils, datasets\n",
    "from keras import utils\n",
    "from keras.preprocessing.image import ImageDataGenerator"
   ]
  },
  {
   "cell_type": "markdown",
   "metadata": {},
   "source": [
    "#### Función para mostrar lista de imágenes en escala de grises"
   ]
  },
  {
   "cell_type": "code",
   "execution_count": 2,
   "metadata": {},
   "outputs": [],
   "source": [
    "def show_row_of_gray_images(fig_width, *images):\n",
    "    plt.figure(figsize=(fig_width, fig_width))\n",
    "    images_count = len(images)\n",
    "    index = 1  \n",
    "    for image in images:\n",
    "        plt.subplot(1, images_count, index)\n",
    "        plt.imshow(image, cmap='gray')\n",
    "        plt.axis('off')\n",
    "        index+=1"
   ]
  },
  {
   "cell_type": "code",
   "execution_count": 3,
   "metadata": {},
   "outputs": [],
   "source": [
    "IMG_SIZE = 32\n",
    "\n",
    "data_augmentation = tf.keras.Sequential([\n",
    "  layers.RandomFlip(\"horizontal_and_vertical\")\n",
    "])\n"
   ]
  },
  {
   "cell_type": "markdown",
   "metadata": {},
   "source": [
    "#### Lectura de los datos:"
   ]
  },
  {
   "cell_type": "code",
   "execution_count": 4,
   "metadata": {},
   "outputs": [],
   "source": [
    "# seed random number generator\n",
    "seed(1)\n",
    "\n",
    "# Dimensión de entrada de las imágenes \n",
    "h = IMG_SIZE\n",
    "w = IMG_SIZE\n",
    "\n",
    "\n",
    "# Leer los nombres de las imágenes para importarlas\n",
    "input_class1_path = \"./Dataset/Grading_dataset/Class_I\"\n",
    "class1_names = os.listdir(input_class1_path)\n",
    "input_class2_path = \"./Dataset/Grading_dataset/Class_II\"\n",
    "class2_names = os.listdir(input_class2_path)\n",
    "input_classex_path = \"./Dataset/Grading_dataset/Extra_Class\"\n",
    "class3_names = os.listdir(input_classex_path)\n",
    "\n",
    "# Número de elementos en cada clase\n",
    "n = len(class1_names)\n",
    "\n",
    "# Definir listas para cargar imágenes\n",
    "class1 = np.ones([n, h, w, 3])\n",
    "class2 = np.ones([n, h, w, 3])\n",
    "class3 = np.ones([n, h, w, 3])\n",
    "\n",
    "\n",
    "\n",
    "for i in range(0, n, 1):\n",
    "    # Para cada clase, se lee una imágen, se importa\n",
    "    img = resize(imread(\"./Dataset/Grading_dataset/Class_I/\" + class1_names[i]), (h, w))\n",
    "    class1[i] = img  \n",
    "    img = resize(imread(\"./Dataset/Grading_dataset/Class_II/\" + class2_names[i]), (h, w))\n",
    "    class2[i] = img \n",
    "    img = resize(imread(\"./Dataset/Grading_dataset/Extra_Class/\" + class3_names[i]), (h, w))\n",
    "    class3[i] = img \n",
    "\n"
   ]
  },
  {
   "cell_type": "markdown",
   "metadata": {},
   "source": [
    "#### Se muestran una imágen aleatoria de cada clase para comprobar que se leyeron correctamente"
   ]
  },
  {
   "cell_type": "code",
   "execution_count": 5,
   "metadata": {},
   "outputs": [
    {
     "name": "stdout",
     "output_type": "stream",
     "text": [
      "34\n"
     ]
    },
    {
     "data": {
      "image/png": "[encoded data removed]",
      "text/plain": [
       "<Figure size 1152x1152 with 3 Axes>"
      ]
     },
     "metadata": {
      "needs_background": "light"
     },
     "output_type": "display_data"
    }
   ],
   "source": [
    "rn = randint(0, 200)\n",
    "print (rn)\n",
    "img_1 = class1[rn]\n",
    "img_2 = class2[rn]\n",
    "img_3 = class3[rn]    \n",
    "show_row_of_gray_images(16, img_1, img_2, img_3)"
   ]
  },
  {
   "cell_type": "markdown",
   "metadata": {},
   "source": [
    "### Aumentamos por un factor f el número de datos de cada clase"
   ]
  },
  {
   "cell_type": "code",
   "execution_count": 6,
   "metadata": {},
   "outputs": [],
   "source": [
    "f = 10\n",
    "class1_augmeted = np.zeros([n * f, h, w, 3])\n",
    "class2_augmeted = np.zeros([n * f, h, w, 3])\n",
    "class3_augmeted = np.zeros([n * f, h, w, 3])\n",
    "t1 = np.zeros(n * f)\n",
    "t2 = np.zeros(n * f)\n",
    "t3 = np.zeros(n * f)\n",
    "\n",
    "for i in range(n * f):\n",
    "    rn = randint(0, n-1)\n",
    "    img = class1[rn]\n",
    "    new_img = data_augmentation(img)\n",
    "    class1_augmeted [i] = new_img\n",
    "    t1[i] = 1\n",
    "    \n",
    "    rn = randint(0, n-1)\n",
    "    img = class2[rn]\n",
    "    new_img = data_augmentation(img)\n",
    "    class2_augmeted [i] = new_img\n",
    "    t2[i] = 2\n",
    "    \n",
    "    rn = randint(0, n-1)\n",
    "    img = class3[rn]\n",
    "    new_img = data_augmentation(img)\n",
    "    class3_augmeted [i] = new_img\n",
    "    t3[i] = 0\n"
   ]
  },
  {
   "cell_type": "markdown",
   "metadata": {},
   "source": [
    "#### Se imprimen tres imágenes para comprobar que las transformaciones han salido bien"
   ]
  },
  {
   "cell_type": "code",
   "execution_count": 7,
   "metadata": {},
   "outputs": [
    {
     "name": "stdout",
     "output_type": "stream",
     "text": [
      "324\n",
      "1784\n",
      "328\n"
     ]
    },
    {
     "data": {
      "image/png": "[encoded data removed]",
      "text/plain": [
       "<Figure size 1152x1152 with 3 Axes>"
      ]
     },
     "metadata": {
      "needs_background": "light"
     },
     "output_type": "display_data"
    }
   ],
   "source": [
    "# Se imprimen tres imágenes aleatorias de los datos aumentados para comprobar que funciona    \n",
    "rn = randint(0, 2000)\n",
    "img_1 = class1_augmeted[rn]\n",
    "print (rn)\n",
    "rn = randint(0, 2000)\n",
    "print (rn)\n",
    "img_2 = class2_augmeted[rn]\n",
    "rn = randint(0, 2000)\n",
    "print (rn)\n",
    "img_3 = class3_augmeted[rn]  \n",
    "show_row_of_gray_images(16, img_1, img_2, img_3)"
   ]
  },
  {
   "cell_type": "markdown",
   "metadata": {},
   "source": [
    "#### Conformación del set de datos y declaración de las métricas de análsis:"
   ]
  },
  {
   "cell_type": "code",
   "execution_count": 8,
   "metadata": {},
   "outputs": [],
   "source": [
    "CV = 20\n",
    "# Se define el conjunto de datos de entrenamiento\n",
    "X = np.zeros([f*n*3,h*w*3])\n",
    "X[0:2000] = class3_augmeted.reshape(f*n,h*w*3)\n",
    "X[2000:4000] = class1_augmeted.reshape(f*n,h*w*3)\n",
    "X[4000:6000] = class2_augmeted.reshape(f*n,h*w*3)\n",
    "\n",
    "# Se definen las etiquetas de las clases\n",
    "t = np.zeros(f*n*3)\n",
    "t[0:2000] = t3\n",
    "t[2000:4000] = t1\n",
    "t[4000:6000] = t2\n",
    "\n",
    "X_train, X_test, t_train, t_test = train_test_split(X, t, test_size=0.3,shuffle=True)\n",
    "\n",
    "scoring = ['recall_macro', 'precision_micro', 'recall_micro', 'f1_macro','accuracy']"
   ]
  },
  {
   "cell_type": "markdown",
   "metadata": {},
   "source": [
    "#### Importamos datos de modelos anteriores"
   ]
  },
  {
   "cell_type": "code",
   "execution_count": 35,
   "metadata": {},
   "outputs": [],
   "source": [
    "%store -r scoresLDA scoresKNN scoresRF"
   ]
  },
  {
   "cell_type": "markdown",
   "metadata": {},
   "source": [
    "#### Se importa la red CNN VGG16 para utilizar su arquitectura y conocimento para resolver nuestro problema "
   ]
  },
  {
   "cell_type": "code",
   "execution_count": 9,
   "metadata": {},
   "outputs": [
    {
     "name": "stdout",
     "output_type": "stream",
     "text": [
      "Model: \"vgg16\"\n",
      "_________________________________________________________________\n",
      " Layer (type)                Output Shape              Param #   \n",
      "=================================================================\n",
      " input_1 (InputLayer)        [(None, 32, 32, 3)]       0         \n",
      "                                                                 \n",
      " block1_conv1 (Conv2D)       (None, 32, 32, 64)        1792      \n",
      "                                                                 \n",
      " block1_conv2 (Conv2D)       (None, 32, 32, 64)        36928     \n",
      "                                                                 \n",
      " block1_pool (MaxPooling2D)  (None, 16, 16, 64)        0         \n",
      "                                                                 \n",
      " block2_conv1 (Conv2D)       (None, 16, 16, 128)       73856     \n",
      "                                                                 \n",
      " block2_conv2 (Conv2D)       (None, 16, 16, 128)       147584    \n",
      "                                                                 \n",
      " block2_pool (MaxPooling2D)  (None, 8, 8, 128)         0         \n",
      "                                                                 \n",
      " block3_conv1 (Conv2D)       (None, 8, 8, 256)         295168    \n",
      "                                                                 \n",
      " block3_conv2 (Conv2D)       (None, 8, 8, 256)         590080    \n",
      "                                                                 \n",
      " block3_conv3 (Conv2D)       (None, 8, 8, 256)         590080    \n",
      "                                                                 \n",
      " block3_pool (MaxPooling2D)  (None, 4, 4, 256)         0         \n",
      "                                                                 \n",
      " block4_conv1 (Conv2D)       (None, 4, 4, 512)         1180160   \n",
      "                                                                 \n",
      " block4_conv2 (Conv2D)       (None, 4, 4, 512)         2359808   \n",
      "                                                                 \n",
      " block4_conv3 (Conv2D)       (None, 4, 4, 512)         2359808   \n",
      "                                                                 \n",
      " block4_pool (MaxPooling2D)  (None, 2, 2, 512)         0         \n",
      "                                                                 \n",
      " block5_conv1 (Conv2D)       (None, 2, 2, 512)         2359808   \n",
      "                                                                 \n",
      " block5_conv2 (Conv2D)       (None, 2, 2, 512)         2359808   \n",
      "                                                                 \n",
      " block5_conv3 (Conv2D)       (None, 2, 2, 512)         2359808   \n",
      "                                                                 \n",
      " block5_pool (MaxPooling2D)  (None, 1, 1, 512)         0         \n",
      "                                                                 \n",
      "=================================================================\n",
      "Total params: 14,714,688\n",
      "Trainable params: 14,714,688\n",
      "Non-trainable params: 0\n",
      "_________________________________________________________________\n"
     ]
    }
   ],
   "source": [
    "from keras import applications\n",
    "from keras.models import Sequential\n",
    "from keras.applications import vgg16\n",
    "from keras.layers import Conv2D, MaxPool2D, Flatten, Dense, InputLayer, BatchNormalization, Dropout\n",
    "# include top should be False to remove the softmax layer\n",
    "pretrained_model = vgg16.VGG16(include_top=False, weights='imagenet', input_shape=(32,32,3))\n",
    "pretrained_model.summary()"
   ]
  },
  {
   "cell_type": "markdown",
   "metadata": {},
   "source": [
    "#### Se procesan las imágenes utilizando la estructura y los pesos de la red pre-entrenada"
   ]
  },
  {
   "cell_type": "code",
   "execution_count": 10,
   "metadata": {},
   "outputs": [],
   "source": [
    "# extract train and val features\n",
    "X_train, X_val, t_train, t_val = train_test_split(X_train, t_train, test_size=0.3, shuffle=True)\n",
    "vgg_features_train = pretrained_model.predict(X_train.reshape(len(X_train),IMG_SIZE,IMG_SIZE,3))\n",
    "vgg_features_val = pretrained_model.predict(X_val.reshape(len(X_val),IMG_SIZE,IMG_SIZE,3))"
   ]
  },
  {
   "cell_type": "code",
   "execution_count": 11,
   "metadata": {},
   "outputs": [],
   "source": [
    "# OHE target column)\n",
    "train_target = tf.keras.utils.to_categorical(t_train)\n",
    "val_target = tf.keras.utils.to_categorical(t_val)\n",
    "test_target = tf.keras.utils.to_categorical(t_test)\n",
    "accuracy = []\n",
    "recall = []\n",
    "specificity = []\n",
    "precision = []\n",
    "f1_score = []\n",
    "au_curve = []\n",
    "model = []\n",
    "epoc = []\n",
    "batch = []\n"
   ]
  },
  {
   "cell_type": "markdown",
   "metadata": {},
   "source": [
    "#### Se añaden las capas finales de la red"
   ]
  },
  {
   "cell_type": "code",
   "execution_count": 12,
   "metadata": {},
   "outputs": [
    {
     "name": "stdout",
     "output_type": "stream",
     "text": [
      "Model: \"sequential_1\"\n",
      "_________________________________________________________________\n",
      " Layer (type)                Output Shape              Param #   \n",
      "=================================================================\n",
      " flatten (Flatten)           (None, 512)               0         \n",
      "                                                                 \n",
      " dense (Dense)               (None, 100)               51300     \n",
      "                                                                 \n",
      " dropout (Dropout)           (None, 100)               0         \n",
      "                                                                 \n",
      " batch_normalization (BatchN  (None, 100)              400       \n",
      " ormalization)                                                   \n",
      "                                                                 \n",
      " dense_1 (Dense)             (None, 3)                 303       \n",
      "                                                                 \n",
      "=================================================================\n",
      "Total params: 52,003\n",
      "Trainable params: 51,803\n",
      "Non-trainable params: 200\n",
      "_________________________________________________________________\n"
     ]
    }
   ],
   "source": [
    "modelCNN = Sequential()\n",
    "modelCNN.add(Flatten(input_shape=(1,1,512)))\n",
    "modelCNN.add(Dense(100, activation='relu'))\n",
    "modelCNN.add(Dropout(0.5))\n",
    "modelCNN.add(BatchNormalization())\n",
    "modelCNN.add(Dense(3, activation='softmax'))\n",
    "# compile the model\n",
    "modelCNN.compile(optimizer='adam', metrics=['accuracy',\n",
    "                                            tf.keras.metrics.Recall(),\n",
    "                                            tf.keras.metrics.TrueNegatives(),\n",
    "                                            tf.keras.metrics.FalsePositives(), \n",
    "                                            tf.keras.metrics.Precision(),\n",
    "                                            tf.keras.metrics.AUC()], loss='categorical_crossentropy')\n",
    "modelCNN.summary()"
   ]
  },
  {
   "cell_type": "markdown",
   "metadata": {},
   "source": [
    "#### Finalmente se realiza la clasificación utilizando las capas finales de nuestra red"
   ]
  },
  {
   "cell_type": "code",
   "execution_count": 13,
   "metadata": {},
   "outputs": [
    {
     "name": "stdout",
     "output_type": "stream",
     "text": [
      "Epoch 1/100\n",
      "59/59 [==============================] - 3s 26ms/step - loss: 0.9534 - accuracy: 0.5493 - recall: 0.4639 - true_negatives: 4963.0000 - false_positives: 917.0000 - precision: 0.5980 - auc: 0.7459 - val_loss: 0.9147 - val_accuracy: 0.5294 - val_recall: 0.2635 - val_true_negatives: 2325.0000 - val_false_positives: 195.0000 - val_precision: 0.6300 - val_auc: 0.7771\n",
      "Epoch 2/100\n",
      "59/59 [==============================] - 0s 4ms/step - loss: 0.7385 - accuracy: 0.6636 - recall: 0.5687 - true_negatives: 5212.0000 - false_positives: 668.0000 - precision: 0.7145 - auc: 0.8454 - val_loss: 0.8490 - val_accuracy: 0.7468 - val_recall: 0.2048 - val_true_negatives: 2499.0000 - val_false_positives: 21.0000 - val_precision: 0.9247 - val_auc: 0.9037\n",
      "Epoch 3/100\n",
      "59/59 [==============================] - 0s 4ms/step - loss: 0.6737 - accuracy: 0.7014 - recall: 0.6112 - true_negatives: 5258.0000 - false_positives: 622.0000 - precision: 0.7429 - auc: 0.8744 - val_loss: 0.7967 - val_accuracy: 0.7325 - val_recall: 0.2754 - val_true_negatives: 2461.0000 - val_false_positives: 59.0000 - val_precision: 0.8547 - val_auc: 0.8866\n",
      "Epoch 4/100\n",
      "59/59 [==============================] - 0s 4ms/step - loss: 0.6147 - accuracy: 0.7279 - recall: 0.6531 - true_negatives: 5326.0000 - false_positives: 554.0000 - precision: 0.7761 - auc: 0.8979 - val_loss: 0.6665 - val_accuracy: 0.7579 - val_recall: 0.5548 - val_true_negatives: 2418.0000 - val_false_positives: 102.0000 - val_precision: 0.8727 - val_auc: 0.9178\n",
      "Epoch 5/100\n",
      "59/59 [==============================] - 0s 4ms/step - loss: 0.5899 - accuracy: 0.7442 - recall: 0.6816 - true_negatives: 5337.0000 - false_positives: 543.0000 - precision: 0.7868 - auc: 0.9050 - val_loss: 0.6310 - val_accuracy: 0.7683 - val_recall: 0.6389 - val_true_negatives: 2358.0000 - val_false_positives: 162.0000 - val_precision: 0.8325 - val_auc: 0.9191\n",
      "Epoch 6/100\n",
      "59/59 [==============================] - 0s 4ms/step - loss: 0.5653 - accuracy: 0.7599 - recall: 0.6952 - true_negatives: 5375.0000 - false_positives: 505.0000 - precision: 0.8019 - auc: 0.9152 - val_loss: 0.6317 - val_accuracy: 0.7500 - val_recall: 0.6889 - val_true_negatives: 2280.0000 - val_false_positives: 240.0000 - val_precision: 0.7834 - val_auc: 0.9000\n",
      "Epoch 7/100\n",
      "59/59 [==============================] - 0s 4ms/step - loss: 0.5565 - accuracy: 0.7609 - recall: 0.7122 - true_negatives: 5335.0000 - false_positives: 545.0000 - precision: 0.7935 - auc: 0.9148 - val_loss: 0.5883 - val_accuracy: 0.7381 - val_recall: 0.6905 - val_true_negatives: 2251.0000 - val_false_positives: 269.0000 - val_precision: 0.7638 - val_auc: 0.9087\n",
      "Epoch 8/100\n",
      "59/59 [==============================] - 0s 4ms/step - loss: 0.5657 - accuracy: 0.7514 - recall: 0.6929 - true_negatives: 5333.0000 - false_positives: 547.0000 - precision: 0.7883 - auc: 0.9117 - val_loss: 0.5320 - val_accuracy: 0.7571 - val_recall: 0.6968 - val_true_negatives: 2332.0000 - val_false_positives: 188.0000 - val_precision: 0.8236 - val_auc: 0.9325\n",
      "Epoch 9/100\n",
      "59/59 [==============================] - 0s 3ms/step - loss: 0.5375 - accuracy: 0.7697 - recall: 0.7221 - true_negatives: 5355.0000 - false_positives: 525.0000 - precision: 0.8017 - auc: 0.9215 - val_loss: 0.5559 - val_accuracy: 0.7484 - val_recall: 0.7167 - val_true_negatives: 2253.0000 - val_false_positives: 267.0000 - val_precision: 0.7718 - val_auc: 0.9163\n",
      "Epoch 10/100\n",
      "59/59 [==============================] - 0s 3ms/step - loss: 0.5456 - accuracy: 0.7660 - recall: 0.7082 - true_negatives: 5378.0000 - false_positives: 502.0000 - precision: 0.8057 - auc: 0.9198 - val_loss: 0.4576 - val_accuracy: 0.8167 - val_recall: 0.7810 - val_true_negatives: 2337.0000 - val_false_positives: 183.0000 - val_precision: 0.8432 - val_auc: 0.9483\n",
      "Epoch 11/100\n",
      "59/59 [==============================] - 0s 4ms/step - loss: 0.5332 - accuracy: 0.7714 - recall: 0.7160 - true_negatives: 5375.0000 - false_positives: 505.0000 - precision: 0.8065 - auc: 0.9233 - val_loss: 0.5105 - val_accuracy: 0.7976 - val_recall: 0.7349 - val_true_negatives: 2340.0000 - val_false_positives: 180.0000 - val_precision: 0.8373 - val_auc: 0.9405\n",
      "Epoch 12/100\n",
      "59/59 [==============================] - 0s 4ms/step - loss: 0.5411 - accuracy: 0.7697 - recall: 0.7167 - true_negatives: 5373.0000 - false_positives: 507.0000 - precision: 0.8060 - auc: 0.9209 - val_loss: 0.5200 - val_accuracy: 0.7563 - val_recall: 0.7190 - val_true_negatives: 2267.0000 - val_false_positives: 253.0000 - val_precision: 0.7817 - val_auc: 0.9251\n",
      "Epoch 13/100\n",
      "59/59 [==============================] - 0s 7ms/step - loss: 0.5390 - accuracy: 0.7765 - recall: 0.7214 - true_negatives: 5354.0000 - false_positives: 526.0000 - precision: 0.8013 - auc: 0.9195 - val_loss: 0.4702 - val_accuracy: 0.8222 - val_recall: 0.7659 - val_true_negatives: 2349.0000 - val_false_positives: 171.0000 - val_precision: 0.8495 - val_auc: 0.9473\n",
      "Epoch 14/100\n",
      "59/59 [==============================] - 0s 5ms/step - loss: 0.5458 - accuracy: 0.7677 - recall: 0.7037 - true_negatives: 5395.0000 - false_positives: 485.0000 - precision: 0.8101 - auc: 0.9202 - val_loss: 0.6066 - val_accuracy: 0.7175 - val_recall: 0.6762 - val_true_negatives: 2236.0000 - val_false_positives: 284.0000 - val_precision: 0.7500 - val_auc: 0.8965\n",
      "Epoch 15/100\n",
      "59/59 [==============================] - 0s 3ms/step - loss: 0.5526 - accuracy: 0.7592 - recall: 0.6905 - true_negatives: 5354.0000 - false_positives: 526.0000 - precision: 0.7942 - auc: 0.9169 - val_loss: 0.4596 - val_accuracy: 0.8198 - val_recall: 0.8024 - val_true_negatives: 2328.0000 - val_false_positives: 192.0000 - val_precision: 0.8404 - val_auc: 0.9490\n",
      "Epoch 16/100\n",
      "59/59 [==============================] - 0s 3ms/step - loss: 0.5552 - accuracy: 0.7673 - recall: 0.7017 - true_negatives: 5354.0000 - false_positives: 526.0000 - precision: 0.7968 - auc: 0.9163 - val_loss: 0.4899 - val_accuracy: 0.7937 - val_recall: 0.7706 - val_true_negatives: 2295.0000 - val_false_positives: 225.0000 - val_precision: 0.8119 - val_auc: 0.9354\n",
      "Epoch 17/100\n",
      "59/59 [==============================] - 0s 3ms/step - loss: 0.5452 - accuracy: 0.7629 - recall: 0.7092 - true_negatives: 5359.0000 - false_positives: 521.0000 - precision: 0.8001 - auc: 0.9186 - val_loss: 0.5020 - val_accuracy: 0.8056 - val_recall: 0.7643 - val_true_negatives: 2333.0000 - val_false_positives: 187.0000 - val_precision: 0.8374 - val_auc: 0.9463\n",
      "Epoch 18/100\n",
      "59/59 [==============================] - 0s 4ms/step - loss: 0.5467 - accuracy: 0.7609 - recall: 0.7167 - true_negatives: 5316.0000 - false_positives: 564.0000 - precision: 0.7888 - auc: 0.9166 - val_loss: 0.5018 - val_accuracy: 0.7683 - val_recall: 0.7349 - val_true_negatives: 2279.0000 - val_false_positives: 241.0000 - val_precision: 0.7935 - val_auc: 0.9312\n",
      "Epoch 19/100\n",
      "59/59 [==============================] - 0s 4ms/step - loss: 0.5427 - accuracy: 0.7673 - recall: 0.7014 - true_negatives: 5371.0000 - false_positives: 509.0000 - precision: 0.8020 - auc: 0.9196 - val_loss: 0.5661 - val_accuracy: 0.7373 - val_recall: 0.7167 - val_true_negatives: 2225.0000 - val_false_positives: 295.0000 - val_precision: 0.7538 - val_auc: 0.9133\n",
      "Epoch 20/100\n",
      "59/59 [==============================] - 0s 3ms/step - loss: 0.5442 - accuracy: 0.7599 - recall: 0.7153 - true_negatives: 5310.0000 - false_positives: 570.0000 - precision: 0.7868 - auc: 0.9167 - val_loss: 0.4444 - val_accuracy: 0.8270 - val_recall: 0.7825 - val_true_negatives: 2346.0000 - val_false_positives: 174.0000 - val_precision: 0.8500 - val_auc: 0.9497\n",
      "Epoch 21/100\n",
      "59/59 [==============================] - 0s 3ms/step - loss: 0.5351 - accuracy: 0.7694 - recall: 0.7272 - true_negatives: 5345.0000 - false_positives: 535.0000 - precision: 0.7999 - auc: 0.9208 - val_loss: 0.5495 - val_accuracy: 0.7349 - val_recall: 0.6857 - val_true_negatives: 2282.0000 - val_false_positives: 238.0000 - val_precision: 0.7840 - val_auc: 0.9164\n",
      "Epoch 22/100\n",
      "59/59 [==============================] - 0s 4ms/step - loss: 0.5203 - accuracy: 0.7592 - recall: 0.7133 - true_negatives: 5327.0000 - false_positives: 553.0000 - precision: 0.7913 - auc: 0.9239 - val_loss: 0.4979 - val_accuracy: 0.7706 - val_recall: 0.7262 - val_true_negatives: 2279.0000 - val_false_positives: 241.0000 - val_precision: 0.7915 - val_auc: 0.9295\n",
      "Epoch 23/100\n",
      "59/59 [==============================] - 0s 3ms/step - loss: 0.5325 - accuracy: 0.7629 - recall: 0.7167 - true_negatives: 5341.0000 - false_positives: 539.0000 - precision: 0.7963 - auc: 0.9213 - val_loss: 0.4586 - val_accuracy: 0.8246 - val_recall: 0.7968 - val_true_negatives: 2348.0000 - val_false_positives: 172.0000 - val_precision: 0.8537 - val_auc: 0.9521\n",
      "Epoch 24/100\n",
      "59/59 [==============================] - 0s 3ms/step - loss: 0.5545 - accuracy: 0.7534 - recall: 0.6983 - true_negatives: 5337.0000 - false_positives: 543.0000 - precision: 0.7908 - auc: 0.9142 - val_loss: 0.5192 - val_accuracy: 0.7627 - val_recall: 0.7437 - val_true_negatives: 2245.0000 - val_false_positives: 275.0000 - val_precision: 0.7731 - val_auc: 0.9251\n",
      "Epoch 25/100\n",
      "59/59 [==============================] - 0s 4ms/step - loss: 0.5707 - accuracy: 0.7344 - recall: 0.6844 - true_negatives: 5278.0000 - false_positives: 602.0000 - precision: 0.7697 - auc: 0.9077 - val_loss: 0.5099 - val_accuracy: 0.7802 - val_recall: 0.7587 - val_true_negatives: 2273.0000 - val_false_positives: 247.0000 - val_precision: 0.7947 - val_auc: 0.9308\n",
      "Epoch 26/100\n",
      "59/59 [==============================] - 0s 4ms/step - loss: 0.5561 - accuracy: 0.7432 - recall: 0.6888 - true_negatives: 5302.0000 - false_positives: 578.0000 - precision: 0.7779 - auc: 0.9123 - val_loss: 0.4590 - val_accuracy: 0.8175 - val_recall: 0.8048 - val_true_negatives: 2307.0000 - val_false_positives: 213.0000 - val_precision: 0.8264 - val_auc: 0.9513\n",
      "Epoch 27/100\n",
      "59/59 [==============================] - 0s 3ms/step - loss: 0.5546 - accuracy: 0.7476 - recall: 0.7037 - true_negatives: 5286.0000 - false_positives: 594.0000 - precision: 0.7769 - auc: 0.9130 - val_loss: 0.4529 - val_accuracy: 0.8143 - val_recall: 0.7833 - val_true_negatives: 2340.0000 - val_false_positives: 180.0000 - val_precision: 0.8458 - val_auc: 0.9523\n",
      "Epoch 28/100\n",
      "59/59 [==============================] - 0s 3ms/step - loss: 0.5373 - accuracy: 0.7592 - recall: 0.7248 - true_negatives: 5304.0000 - false_positives: 576.0000 - precision: 0.7872 - auc: 0.9201 - val_loss: 0.4193 - val_accuracy: 0.8333 - val_recall: 0.8119 - val_true_negatives: 2344.0000 - val_false_positives: 176.0000 - val_precision: 0.8532 - val_auc: 0.9570\n",
      "Epoch 29/100\n",
      "59/59 [==============================] - 0s 4ms/step - loss: 0.5438 - accuracy: 0.7561 - recall: 0.7156 - true_negatives: 5310.0000 - false_positives: 570.0000 - precision: 0.7868 - auc: 0.9175 - val_loss: 0.7667 - val_accuracy: 0.6659 - val_recall: 0.6492 - val_true_negatives: 2126.0000 - val_false_positives: 394.0000 - val_precision: 0.6749 - val_auc: 0.8649\n",
      "Epoch 30/100\n",
      "59/59 [==============================] - 0s 3ms/step - loss: 0.5353 - accuracy: 0.7643 - recall: 0.7248 - true_negatives: 5307.0000 - false_positives: 573.0000 - precision: 0.7881 - auc: 0.9199 - val_loss: 0.5256 - val_accuracy: 0.7579 - val_recall: 0.7421 - val_true_negatives: 2249.0000 - val_false_positives: 271.0000 - val_precision: 0.7753 - val_auc: 0.9233\n",
      "Epoch 31/100\n",
      "59/59 [==============================] - 0s 3ms/step - loss: 0.5673 - accuracy: 0.7449 - recall: 0.7014 - true_negatives: 5270.0000 - false_positives: 610.0000 - precision: 0.7717 - auc: 0.9093 - val_loss: 0.4194 - val_accuracy: 0.8349 - val_recall: 0.8167 - val_true_negatives: 2325.0000 - val_false_positives: 195.0000 - val_precision: 0.8407 - val_auc: 0.9550\n",
      "Epoch 32/100\n",
      "59/59 [==============================] - 0s 3ms/step - loss: 0.5343 - accuracy: 0.7500 - recall: 0.7071 - true_negatives: 5287.0000 - false_positives: 593.0000 - precision: 0.7781 - auc: 0.9180 - val_loss: 0.4970 - val_accuracy: 0.8214 - val_recall: 0.7516 - val_true_negatives: 2369.0000 - val_false_positives: 151.0000 - val_precision: 0.8625 - val_auc: 0.9501\n",
      "Epoch 33/100\n",
      "59/59 [==============================] - 0s 3ms/step - loss: 0.5462 - accuracy: 0.7493 - recall: 0.7109 - true_negatives: 5300.0000 - false_positives: 580.0000 - precision: 0.7828 - auc: 0.9160 - val_loss: 0.5131 - val_accuracy: 0.7452 - val_recall: 0.7270 - val_true_negatives: 2234.0000 - val_false_positives: 286.0000 - val_precision: 0.7621 - val_auc: 0.9255\n",
      "Epoch 34/100\n",
      "59/59 [==============================] - 0s 3ms/step - loss: 0.5372 - accuracy: 0.7554 - recall: 0.7116 - true_negatives: 5300.0000 - false_positives: 580.0000 - precision: 0.7829 - auc: 0.9179 - val_loss: 0.4539 - val_accuracy: 0.8341 - val_recall: 0.8167 - val_true_negatives: 2343.0000 - val_false_positives: 177.0000 - val_precision: 0.8532 - val_auc: 0.9557\n",
      "Epoch 35/100\n",
      "59/59 [==============================] - 0s 3ms/step - loss: 0.5625 - accuracy: 0.7435 - recall: 0.6830 - true_negatives: 5330.0000 - false_positives: 550.0000 - precision: 0.7850 - auc: 0.9109 - val_loss: 0.4187 - val_accuracy: 0.8214 - val_recall: 0.8167 - val_true_negatives: 2314.0000 - val_false_positives: 206.0000 - val_precision: 0.8332 - val_auc: 0.9533\n",
      "Epoch 36/100\n",
      "59/59 [==============================] - 0s 3ms/step - loss: 0.5456 - accuracy: 0.7391 - recall: 0.6878 - true_negatives: 5286.0000 - false_positives: 594.0000 - precision: 0.7729 - auc: 0.9127 - val_loss: 0.4095 - val_accuracy: 0.8214 - val_recall: 0.8016 - val_true_negatives: 2330.0000 - val_false_positives: 190.0000 - val_precision: 0.8417 - val_auc: 0.9576\n",
      "Epoch 37/100\n",
      "59/59 [==============================] - 0s 3ms/step - loss: 0.5297 - accuracy: 0.7595 - recall: 0.7241 - true_negatives: 5285.0000 - false_positives: 595.0000 - precision: 0.7816 - auc: 0.9203 - val_loss: 0.5004 - val_accuracy: 0.7952 - val_recall: 0.7722 - val_true_negatives: 2297.0000 - val_false_positives: 223.0000 - val_precision: 0.8135 - val_auc: 0.9413\n",
      "Epoch 38/100\n",
      "59/59 [==============================] - 0s 4ms/step - loss: 0.5446 - accuracy: 0.7469 - recall: 0.7034 - true_negatives: 5285.0000 - false_positives: 595.0000 - precision: 0.7766 - auc: 0.9150 - val_loss: 0.5161 - val_accuracy: 0.7849 - val_recall: 0.7706 - val_true_negatives: 2267.0000 - val_false_positives: 253.0000 - val_precision: 0.7933 - val_auc: 0.9274\n",
      "Epoch 39/100\n",
      "59/59 [==============================] - 0s 3ms/step - loss: 0.5456 - accuracy: 0.7473 - recall: 0.7082 - true_negatives: 5244.0000 - false_positives: 636.0000 - precision: 0.7660 - auc: 0.9140 - val_loss: 0.4061 - val_accuracy: 0.8214 - val_recall: 0.8087 - val_true_negatives: 2306.0000 - val_false_positives: 214.0000 - val_precision: 0.8264 - val_auc: 0.9551\n",
      "Epoch 40/100\n",
      "59/59 [==============================] - 0s 4ms/step - loss: 0.5373 - accuracy: 0.7497 - recall: 0.7020 - true_negatives: 5304.0000 - false_positives: 576.0000 - precision: 0.7818 - auc: 0.9165 - val_loss: 0.5049 - val_accuracy: 0.7833 - val_recall: 0.7675 - val_true_negatives: 2266.0000 - val_false_positives: 254.0000 - val_precision: 0.7920 - val_auc: 0.9301\n",
      "Epoch 41/100\n",
      "59/59 [==============================] - 0s 3ms/step - loss: 0.5287 - accuracy: 0.7578 - recall: 0.7190 - true_negatives: 5290.0000 - false_positives: 590.0000 - precision: 0.7818 - auc: 0.9208 - val_loss: 0.3866 - val_accuracy: 0.8405 - val_recall: 0.8198 - val_true_negatives: 2346.0000 - val_false_positives: 174.0000 - val_precision: 0.8558 - val_auc: 0.9619\n",
      "Epoch 42/100\n",
      "59/59 [==============================] - 0s 3ms/step - loss: 0.5263 - accuracy: 0.7619 - recall: 0.7269 - true_negatives: 5288.0000 - false_positives: 592.0000 - precision: 0.7831 - auc: 0.9209 - val_loss: 0.4246 - val_accuracy: 0.8278 - val_recall: 0.8063 - val_true_negatives: 2332.0000 - val_false_positives: 188.0000 - val_precision: 0.8439 - val_auc: 0.9568\n",
      "Epoch 43/100\n",
      "59/59 [==============================] - 0s 4ms/step - loss: 0.5365 - accuracy: 0.7473 - recall: 0.7126 - true_negatives: 5279.0000 - false_positives: 601.0000 - precision: 0.7771 - auc: 0.9161 - val_loss: 0.4404 - val_accuracy: 0.8294 - val_recall: 0.8127 - val_true_negatives: 2314.0000 - val_false_positives: 206.0000 - val_precision: 0.8325 - val_auc: 0.9534\n",
      "Epoch 44/100\n",
      "59/59 [==============================] - 0s 4ms/step - loss: 0.5306 - accuracy: 0.7558 - recall: 0.7228 - true_negatives: 5271.0000 - false_positives: 609.0000 - precision: 0.7772 - auc: 0.9190 - val_loss: 0.4584 - val_accuracy: 0.8270 - val_recall: 0.7667 - val_true_negatives: 2367.0000 - val_false_positives: 153.0000 - val_precision: 0.8633 - val_auc: 0.9548\n",
      "Epoch 45/100\n",
      "59/59 [==============================] - 0s 4ms/step - loss: 0.5612 - accuracy: 0.7415 - recall: 0.7007 - true_negatives: 5264.0000 - false_positives: 616.0000 - precision: 0.7698 - auc: 0.9092 - val_loss: 0.4404 - val_accuracy: 0.8198 - val_recall: 0.8119 - val_true_negatives: 2302.0000 - val_false_positives: 218.0000 - val_precision: 0.8243 - val_auc: 0.9513\n",
      "Epoch 46/100\n",
      "59/59 [==============================] - 0s 4ms/step - loss: 0.5370 - accuracy: 0.7514 - recall: 0.7061 - true_negatives: 5318.0000 - false_positives: 562.0000 - precision: 0.7870 - auc: 0.9174 - val_loss: 0.4128 - val_accuracy: 0.8214 - val_recall: 0.7992 - val_true_negatives: 2335.0000 - val_false_positives: 185.0000 - val_precision: 0.8448 - val_auc: 0.9520\n",
      "Epoch 47/100\n",
      "59/59 [==============================] - 0s 4ms/step - loss: 0.5198 - accuracy: 0.7612 - recall: 0.7238 - true_negatives: 5292.0000 - false_positives: 588.0000 - precision: 0.7835 - auc: 0.9213 - val_loss: 0.3748 - val_accuracy: 0.8405 - val_recall: 0.8254 - val_true_negatives: 2342.0000 - val_false_positives: 178.0000 - val_precision: 0.8539 - val_auc: 0.9623\n",
      "Epoch 48/100\n",
      "59/59 [==============================] - 0s 3ms/step - loss: 0.5230 - accuracy: 0.7507 - recall: 0.7163 - true_negatives: 5299.0000 - false_positives: 581.0000 - precision: 0.7838 - auc: 0.9205 - val_loss: 0.3863 - val_accuracy: 0.8278 - val_recall: 0.8175 - val_true_negatives: 2319.0000 - val_false_positives: 201.0000 - val_precision: 0.8367 - val_auc: 0.9597\n",
      "Epoch 49/100\n",
      "59/59 [==============================] - 0s 4ms/step - loss: 0.5548 - accuracy: 0.7316 - recall: 0.6772 - true_negatives: 5315.0000 - false_positives: 565.0000 - precision: 0.7790 - auc: 0.9093 - val_loss: 0.4492 - val_accuracy: 0.8310 - val_recall: 0.8159 - val_true_negatives: 2325.0000 - val_false_positives: 195.0000 - val_precision: 0.8406 - val_auc: 0.9549\n",
      "Epoch 50/100\n",
      "59/59 [==============================] - 0s 4ms/step - loss: 0.5454 - accuracy: 0.7344 - recall: 0.6837 - true_negatives: 5293.0000 - false_positives: 587.0000 - precision: 0.7740 - auc: 0.9125 - val_loss: 0.4251 - val_accuracy: 0.8294 - val_recall: 0.8175 - val_true_negatives: 2324.0000 - val_false_positives: 196.0000 - val_precision: 0.8401 - val_auc: 0.9556\n",
      "Epoch 51/100\n",
      "59/59 [==============================] - 0s 4ms/step - loss: 0.5313 - accuracy: 0.7398 - recall: 0.7051 - true_negatives: 5254.0000 - false_positives: 626.0000 - precision: 0.7681 - auc: 0.9163 - val_loss: 0.3833 - val_accuracy: 0.8444 - val_recall: 0.8405 - val_true_negatives: 2330.0000 - val_false_positives: 190.0000 - val_precision: 0.8479 - val_auc: 0.9602\n",
      "Epoch 52/100\n",
      "59/59 [==============================] - 0s 3ms/step - loss: 0.5238 - accuracy: 0.7384 - recall: 0.7037 - true_negatives: 5237.0000 - false_positives: 643.0000 - precision: 0.7629 - auc: 0.9184 - val_loss: 0.3883 - val_accuracy: 0.8333 - val_recall: 0.8071 - val_true_negatives: 2348.0000 - val_false_positives: 172.0000 - val_precision: 0.8553 - val_auc: 0.9638\n",
      "Epoch 53/100\n",
      "59/59 [==============================] - 0s 3ms/step - loss: 0.5131 - accuracy: 0.7510 - recall: 0.7207 - true_negatives: 5281.0000 - false_positives: 599.0000 - precision: 0.7796 - auc: 0.9229 - val_loss: 0.4150 - val_accuracy: 0.8325 - val_recall: 0.8222 - val_true_negatives: 2330.0000 - val_false_positives: 190.0000 - val_precision: 0.8450 - val_auc: 0.9561\n",
      "Epoch 54/100\n",
      "59/59 [==============================] - 0s 3ms/step - loss: 0.5053 - accuracy: 0.7646 - recall: 0.7303 - true_negatives: 5296.0000 - false_positives: 584.0000 - precision: 0.7862 - auc: 0.9251 - val_loss: 0.3961 - val_accuracy: 0.8341 - val_recall: 0.8119 - val_true_negatives: 2334.0000 - val_false_positives: 186.0000 - val_precision: 0.8462 - val_auc: 0.9583\n",
      "Epoch 55/100\n",
      "59/59 [==============================] - 0s 3ms/step - loss: 0.5182 - accuracy: 0.7524 - recall: 0.7241 - true_negatives: 5238.0000 - false_positives: 642.0000 - precision: 0.7683 - auc: 0.9214 - val_loss: 0.3855 - val_accuracy: 0.8286 - val_recall: 0.8175 - val_true_negatives: 2333.0000 - val_false_positives: 187.0000 - val_precision: 0.8463 - val_auc: 0.9606\n",
      "Epoch 56/100\n",
      "59/59 [==============================] - 0s 3ms/step - loss: 0.5050 - accuracy: 0.7653 - recall: 0.7395 - true_negatives: 5287.0000 - false_positives: 593.0000 - precision: 0.7857 - auc: 0.9255 - val_loss: 0.4175 - val_accuracy: 0.8381 - val_recall: 0.8278 - val_true_negatives: 2331.0000 - val_false_positives: 189.0000 - val_precision: 0.8466 - val_auc: 0.9605\n",
      "Epoch 57/100\n",
      "59/59 [==============================] - 0s 3ms/step - loss: 0.5212 - accuracy: 0.7473 - recall: 0.7153 - true_negatives: 5278.0000 - false_positives: 602.0000 - precision: 0.7774 - auc: 0.9197 - val_loss: 0.4003 - val_accuracy: 0.8405 - val_recall: 0.8317 - val_true_negatives: 2329.0000 - val_false_positives: 191.0000 - val_precision: 0.8458 - val_auc: 0.9621\n",
      "Epoch 58/100\n",
      "59/59 [==============================] - 0s 3ms/step - loss: 0.4978 - accuracy: 0.7690 - recall: 0.7422 - true_negatives: 5325.0000 - false_positives: 555.0000 - precision: 0.7972 - auc: 0.9290 - val_loss: 0.3950 - val_accuracy: 0.8421 - val_recall: 0.8341 - val_true_negatives: 2326.0000 - val_false_positives: 194.0000 - val_precision: 0.8442 - val_auc: 0.9602\n",
      "Epoch 59/100\n",
      "59/59 [==============================] - 0s 3ms/step - loss: 0.5113 - accuracy: 0.7609 - recall: 0.7367 - true_negatives: 5271.0000 - false_positives: 609.0000 - precision: 0.7805 - auc: 0.9236 - val_loss: 0.4869 - val_accuracy: 0.7810 - val_recall: 0.7675 - val_true_negatives: 2260.0000 - val_false_positives: 260.0000 - val_precision: 0.7881 - val_auc: 0.9338\n",
      "Epoch 60/100\n",
      "59/59 [==============================] - 0s 3ms/step - loss: 0.5188 - accuracy: 0.7619 - recall: 0.7347 - true_negatives: 5270.0000 - false_positives: 610.0000 - precision: 0.7798 - auc: 0.9222 - val_loss: 0.3794 - val_accuracy: 0.8389 - val_recall: 0.8230 - val_true_negatives: 2332.0000 - val_false_positives: 188.0000 - val_precision: 0.8465 - val_auc: 0.9637\n",
      "Epoch 61/100\n",
      "59/59 [==============================] - 0s 3ms/step - loss: 0.4843 - accuracy: 0.7687 - recall: 0.7391 - true_negatives: 5297.0000 - false_positives: 583.0000 - precision: 0.7885 - auc: 0.9313 - val_loss: 0.3934 - val_accuracy: 0.8246 - val_recall: 0.8175 - val_true_negatives: 2311.0000 - val_false_positives: 209.0000 - val_precision: 0.8313 - val_auc: 0.9582\n",
      "Epoch 62/100\n",
      "59/59 [==============================] - 0s 3ms/step - loss: 0.5193 - accuracy: 0.7578 - recall: 0.7279 - true_negatives: 5268.0000 - false_positives: 612.0000 - precision: 0.7776 - auc: 0.9216 - val_loss: 0.3551 - val_accuracy: 0.8476 - val_recall: 0.8389 - val_true_negatives: 2342.0000 - val_false_positives: 178.0000 - val_precision: 0.8559 - val_auc: 0.9652\n",
      "Epoch 63/100\n",
      "59/59 [==============================] - 0s 3ms/step - loss: 0.5209 - accuracy: 0.7534 - recall: 0.7289 - true_negatives: 5243.0000 - false_positives: 637.0000 - precision: 0.7709 - auc: 0.9204 - val_loss: 0.3869 - val_accuracy: 0.8262 - val_recall: 0.8095 - val_true_negatives: 2320.0000 - val_false_positives: 200.0000 - val_precision: 0.8361 - val_auc: 0.9588\n",
      "Epoch 64/100\n",
      "59/59 [==============================] - 0s 3ms/step - loss: 0.4981 - accuracy: 0.7599 - recall: 0.7340 - true_negatives: 5274.0000 - false_positives: 606.0000 - precision: 0.7808 - auc: 0.9263 - val_loss: 0.3700 - val_accuracy: 0.8500 - val_recall: 0.8413 - val_true_negatives: 2351.0000 - val_false_positives: 169.0000 - val_precision: 0.8625 - val_auc: 0.9684\n",
      "Epoch 65/100\n",
      "59/59 [==============================] - 0s 3ms/step - loss: 0.4970 - accuracy: 0.7643 - recall: 0.7299 - true_negatives: 5310.0000 - false_positives: 570.0000 - precision: 0.7901 - auc: 0.9276 - val_loss: 0.3794 - val_accuracy: 0.8397 - val_recall: 0.8302 - val_true_negatives: 2327.0000 - val_false_positives: 193.0000 - val_precision: 0.8442 - val_auc: 0.9619\n",
      "Epoch 66/100\n",
      "59/59 [==============================] - 0s 3ms/step - loss: 0.5130 - accuracy: 0.7602 - recall: 0.7272 - true_negatives: 5298.0000 - false_positives: 582.0000 - precision: 0.7860 - auc: 0.9237 - val_loss: 0.3673 - val_accuracy: 0.8484 - val_recall: 0.8429 - val_true_negatives: 2343.0000 - val_false_positives: 177.0000 - val_precision: 0.8571 - val_auc: 0.9648\n",
      "Epoch 67/100\n",
      "59/59 [==============================] - 0s 3ms/step - loss: 0.4723 - accuracy: 0.7847 - recall: 0.7633 - true_negatives: 5323.0000 - false_positives: 557.0000 - precision: 0.8011 - auc: 0.9358 - val_loss: 0.3495 - val_accuracy: 0.8540 - val_recall: 0.8500 - val_true_negatives: 2341.0000 - val_false_positives: 179.0000 - val_precision: 0.8568 - val_auc: 0.9679\n",
      "Epoch 68/100\n",
      "59/59 [==============================] - 0s 3ms/step - loss: 0.4999 - accuracy: 0.7633 - recall: 0.7296 - true_negatives: 5285.0000 - false_positives: 595.0000 - precision: 0.7828 - auc: 0.9268 - val_loss: 0.3450 - val_accuracy: 0.8532 - val_recall: 0.8381 - val_true_negatives: 2348.0000 - val_false_positives: 172.0000 - val_precision: 0.8599 - val_auc: 0.9665\n",
      "Epoch 69/100\n",
      "59/59 [==============================] - 0s 3ms/step - loss: 0.5074 - accuracy: 0.7656 - recall: 0.7442 - true_negatives: 5278.0000 - false_positives: 602.0000 - precision: 0.7842 - auc: 0.9263 - val_loss: 0.3513 - val_accuracy: 0.8579 - val_recall: 0.8341 - val_true_negatives: 2368.0000 - val_false_positives: 152.0000 - val_precision: 0.8736 - val_auc: 0.9689\n",
      "Epoch 70/100\n",
      "59/59 [==============================] - 0s 4ms/step - loss: 0.5008 - accuracy: 0.7578 - recall: 0.7313 - true_negatives: 5260.0000 - false_positives: 620.0000 - precision: 0.7762 - auc: 0.9248 - val_loss: 0.3780 - val_accuracy: 0.8421 - val_recall: 0.8302 - val_true_negatives: 2339.0000 - val_false_positives: 181.0000 - val_precision: 0.8525 - val_auc: 0.9630\n",
      "Epoch 71/100\n",
      "59/59 [==============================] - 0s 3ms/step - loss: 0.4972 - accuracy: 0.7684 - recall: 0.7337 - true_negatives: 5311.0000 - false_positives: 569.0000 - precision: 0.7913 - auc: 0.9277 - val_loss: 0.3520 - val_accuracy: 0.8579 - val_recall: 0.8516 - val_true_negatives: 2346.0000 - val_false_positives: 174.0000 - val_precision: 0.8605 - val_auc: 0.9670\n",
      "Epoch 72/100\n",
      "59/59 [==============================] - 0s 4ms/step - loss: 0.4827 - accuracy: 0.7735 - recall: 0.7497 - true_negatives: 5286.0000 - false_positives: 594.0000 - precision: 0.7877 - auc: 0.9321 - val_loss: 0.3719 - val_accuracy: 0.8595 - val_recall: 0.8405 - val_true_negatives: 2360.0000 - val_false_positives: 160.0000 - val_precision: 0.8687 - val_auc: 0.9656\n",
      "Epoch 73/100\n",
      "59/59 [==============================] - 0s 3ms/step - loss: 0.4841 - accuracy: 0.7650 - recall: 0.7361 - true_negatives: 5298.0000 - false_positives: 582.0000 - precision: 0.7881 - auc: 0.9304 - val_loss: 0.3772 - val_accuracy: 0.8357 - val_recall: 0.8341 - val_true_negatives: 2320.0000 - val_false_positives: 200.0000 - val_precision: 0.8401 - val_auc: 0.9620\n",
      "Epoch 74/100\n",
      "59/59 [==============================] - 0s 3ms/step - loss: 0.5157 - accuracy: 0.7585 - recall: 0.7293 - true_negatives: 5268.0000 - false_positives: 612.0000 - precision: 0.7779 - auc: 0.9228 - val_loss: 0.3590 - val_accuracy: 0.8365 - val_recall: 0.8357 - val_true_negatives: 2316.0000 - val_false_positives: 204.0000 - val_precision: 0.8377 - val_auc: 0.9648\n",
      "Epoch 75/100\n",
      "59/59 [==============================] - 0s 3ms/step - loss: 0.4785 - accuracy: 0.7813 - recall: 0.7578 - true_negatives: 5332.0000 - false_positives: 548.0000 - precision: 0.8026 - auc: 0.9342 - val_loss: 0.3589 - val_accuracy: 0.8421 - val_recall: 0.8357 - val_true_negatives: 2334.0000 - val_false_positives: 186.0000 - val_precision: 0.8499 - val_auc: 0.9637\n",
      "Epoch 76/100\n",
      "59/59 [==============================] - 0s 3ms/step - loss: 0.4691 - accuracy: 0.7786 - recall: 0.7548 - true_negatives: 5311.0000 - false_positives: 569.0000 - precision: 0.7959 - auc: 0.9354 - val_loss: 0.3553 - val_accuracy: 0.8508 - val_recall: 0.8389 - val_true_negatives: 2356.0000 - val_false_positives: 164.0000 - val_precision: 0.8657 - val_auc: 0.9674\n",
      "Epoch 77/100\n",
      "59/59 [==============================] - 0s 3ms/step - loss: 0.5068 - accuracy: 0.7656 - recall: 0.7463 - true_negatives: 5276.0000 - false_positives: 604.0000 - precision: 0.7841 - auc: 0.9254 - val_loss: 0.3878 - val_accuracy: 0.8532 - val_recall: 0.8413 - val_true_negatives: 2345.0000 - val_false_positives: 175.0000 - val_precision: 0.8583 - val_auc: 0.9604\n",
      "Epoch 78/100\n",
      "59/59 [==============================] - 0s 3ms/step - loss: 0.4969 - accuracy: 0.7704 - recall: 0.7344 - true_negatives: 5316.0000 - false_positives: 564.0000 - precision: 0.7929 - auc: 0.9272 - val_loss: 0.3543 - val_accuracy: 0.8516 - val_recall: 0.8468 - val_true_negatives: 2348.0000 - val_false_positives: 172.0000 - val_precision: 0.8612 - val_auc: 0.9664\n",
      "Epoch 79/100\n",
      "59/59 [==============================] - 0s 3ms/step - loss: 0.4852 - accuracy: 0.7663 - recall: 0.7476 - true_negatives: 5280.0000 - false_positives: 600.0000 - precision: 0.7856 - auc: 0.9305 - val_loss: 0.4123 - val_accuracy: 0.8159 - val_recall: 0.8127 - val_true_negatives: 2299.0000 - val_false_positives: 221.0000 - val_precision: 0.8225 - val_auc: 0.9540\n",
      "Epoch 80/100\n",
      "59/59 [==============================] - 0s 3ms/step - loss: 0.4988 - accuracy: 0.7561 - recall: 0.7276 - true_negatives: 5271.0000 - false_positives: 609.0000 - precision: 0.7784 - auc: 0.9258 - val_loss: 0.3654 - val_accuracy: 0.8389 - val_recall: 0.8325 - val_true_negatives: 2319.0000 - val_false_positives: 201.0000 - val_precision: 0.8392 - val_auc: 0.9637\n",
      "Epoch 81/100\n",
      "59/59 [==============================] - 0s 3ms/step - loss: 0.5141 - accuracy: 0.7446 - recall: 0.7095 - true_negatives: 5261.0000 - false_positives: 619.0000 - precision: 0.7712 - auc: 0.9199 - val_loss: 0.4261 - val_accuracy: 0.7968 - val_recall: 0.7960 - val_true_negatives: 2267.0000 - val_false_positives: 253.0000 - val_precision: 0.7986 - val_auc: 0.9501\n",
      "Epoch 82/100\n",
      "59/59 [==============================] - 0s 3ms/step - loss: 0.4740 - accuracy: 0.7864 - recall: 0.7663 - true_negatives: 5324.0000 - false_positives: 556.0000 - precision: 0.8021 - auc: 0.9349 - val_loss: 0.4033 - val_accuracy: 0.8556 - val_recall: 0.8278 - val_true_negatives: 2361.0000 - val_false_positives: 159.0000 - val_precision: 0.8677 - val_auc: 0.9651\n",
      "Epoch 83/100\n",
      "59/59 [==============================] - 0s 3ms/step - loss: 0.4689 - accuracy: 0.7816 - recall: 0.7602 - true_negatives: 5315.0000 - false_positives: 565.0000 - precision: 0.7982 - auc: 0.9349 - val_loss: 0.3547 - val_accuracy: 0.8437 - val_recall: 0.8437 - val_true_negatives: 2324.0000 - val_false_positives: 196.0000 - val_precision: 0.8443 - val_auc: 0.9650\n",
      "Epoch 84/100\n",
      "59/59 [==============================] - 0s 3ms/step - loss: 0.4923 - accuracy: 0.7731 - recall: 0.7435 - true_negatives: 5318.0000 - false_positives: 562.0000 - precision: 0.7955 - auc: 0.9298 - val_loss: 0.3462 - val_accuracy: 0.8500 - val_recall: 0.8460 - val_true_negatives: 2344.0000 - val_false_positives: 176.0000 - val_precision: 0.8583 - val_auc: 0.9672\n",
      "Epoch 85/100\n",
      "59/59 [==============================] - 0s 3ms/step - loss: 0.4661 - accuracy: 0.7847 - recall: 0.7619 - true_negatives: 5327.0000 - false_positives: 553.0000 - precision: 0.8020 - auc: 0.9372 - val_loss: 0.3615 - val_accuracy: 0.8540 - val_recall: 0.8452 - val_true_negatives: 2349.0000 - val_false_positives: 171.0000 - val_precision: 0.8617 - val_auc: 0.9658\n",
      "Epoch 86/100\n",
      "59/59 [==============================] - 0s 3ms/step - loss: 0.4785 - accuracy: 0.7799 - recall: 0.7565 - true_negatives: 5322.0000 - false_positives: 558.0000 - precision: 0.7994 - auc: 0.9337 - val_loss: 0.3442 - val_accuracy: 0.8659 - val_recall: 0.8595 - val_true_negatives: 2367.0000 - val_false_positives: 153.0000 - val_precision: 0.8762 - val_auc: 0.9699\n",
      "Epoch 87/100\n",
      "59/59 [==============================] - 0s 3ms/step - loss: 0.4689 - accuracy: 0.7827 - recall: 0.7561 - true_negatives: 5327.0000 - false_positives: 553.0000 - precision: 0.8008 - auc: 0.9364 - val_loss: 0.3491 - val_accuracy: 0.8516 - val_recall: 0.8500 - val_true_negatives: 2335.0000 - val_false_positives: 185.0000 - val_precision: 0.8527 - val_auc: 0.9660\n",
      "Epoch 88/100\n",
      "59/59 [==============================] - 0s 3ms/step - loss: 0.4797 - accuracy: 0.7816 - recall: 0.7616 - true_negatives: 5307.0000 - false_positives: 573.0000 - precision: 0.7962 - auc: 0.9339 - val_loss: 0.3424 - val_accuracy: 0.8587 - val_recall: 0.8516 - val_true_negatives: 2359.0000 - val_false_positives: 161.0000 - val_precision: 0.8695 - val_auc: 0.9699\n",
      "Epoch 89/100\n",
      "59/59 [==============================] - 0s 3ms/step - loss: 0.4932 - accuracy: 0.7810 - recall: 0.7503 - true_negatives: 5318.0000 - false_positives: 562.0000 - precision: 0.7970 - auc: 0.9307 - val_loss: 0.4348 - val_accuracy: 0.8159 - val_recall: 0.7897 - val_true_negatives: 2319.0000 - val_false_positives: 201.0000 - val_precision: 0.8319 - val_auc: 0.9481\n",
      "Epoch 90/100\n",
      "59/59 [==============================] - 0s 3ms/step - loss: 0.5176 - accuracy: 0.7531 - recall: 0.7177 - true_negatives: 5292.0000 - false_positives: 588.0000 - precision: 0.7821 - auc: 0.9210 - val_loss: 0.4009 - val_accuracy: 0.8444 - val_recall: 0.8278 - val_true_negatives: 2349.0000 - val_false_positives: 171.0000 - val_precision: 0.8591 - val_auc: 0.9622\n",
      "Epoch 91/100\n",
      "59/59 [==============================] - 0s 3ms/step - loss: 0.5125 - accuracy: 0.7609 - recall: 0.7286 - true_negatives: 5328.0000 - false_positives: 552.0000 - precision: 0.7951 - auc: 0.9243 - val_loss: 0.3568 - val_accuracy: 0.8476 - val_recall: 0.8413 - val_true_negatives: 2337.0000 - val_false_positives: 183.0000 - val_precision: 0.8528 - val_auc: 0.9672\n",
      "Epoch 92/100\n",
      "59/59 [==============================] - 0s 3ms/step - loss: 0.5403 - accuracy: 0.7391 - recall: 0.6983 - true_negatives: 5276.0000 - false_positives: 604.0000 - precision: 0.7727 - auc: 0.9131 - val_loss: 0.3806 - val_accuracy: 0.8429 - val_recall: 0.8397 - val_true_negatives: 2337.0000 - val_false_positives: 183.0000 - val_precision: 0.8525 - val_auc: 0.9637\n",
      "Epoch 93/100\n",
      "59/59 [==============================] - 0s 3ms/step - loss: 0.5325 - accuracy: 0.7527 - recall: 0.7031 - true_negatives: 5309.0000 - false_positives: 571.0000 - precision: 0.7835 - auc: 0.9171 - val_loss: 0.3530 - val_accuracy: 0.8468 - val_recall: 0.8421 - val_true_negatives: 2341.0000 - val_false_positives: 179.0000 - val_precision: 0.8556 - val_auc: 0.9675\n",
      "Epoch 94/100\n",
      "59/59 [==============================] - 0s 3ms/step - loss: 0.5432 - accuracy: 0.7442 - recall: 0.6969 - true_negatives: 5269.0000 - false_positives: 611.0000 - precision: 0.7703 - auc: 0.9123 - val_loss: 0.3429 - val_accuracy: 0.8579 - val_recall: 0.8516 - val_true_negatives: 2356.0000 - val_false_positives: 164.0000 - val_precision: 0.8674 - val_auc: 0.9680\n",
      "Epoch 95/100\n",
      "59/59 [==============================] - 0s 3ms/step - loss: 0.5232 - accuracy: 0.7531 - recall: 0.7201 - true_negatives: 5271.0000 - false_positives: 609.0000 - precision: 0.7766 - auc: 0.9194 - val_loss: 0.3459 - val_accuracy: 0.8571 - val_recall: 0.8468 - val_true_negatives: 2351.0000 - val_false_positives: 169.0000 - val_precision: 0.8633 - val_auc: 0.9678\n",
      "Epoch 96/100\n",
      "59/59 [==============================] - 0s 3ms/step - loss: 0.5211 - accuracy: 0.7626 - recall: 0.7286 - true_negatives: 5291.0000 - false_positives: 589.0000 - precision: 0.7843 - auc: 0.9206 - val_loss: 0.3694 - val_accuracy: 0.8429 - val_recall: 0.8397 - val_true_negatives: 2339.0000 - val_false_positives: 181.0000 - val_precision: 0.8539 - val_auc: 0.9655\n",
      "Epoch 97/100\n",
      "59/59 [==============================] - 0s 3ms/step - loss: 0.5316 - accuracy: 0.7493 - recall: 0.7177 - true_negatives: 5273.0000 - false_positives: 607.0000 - precision: 0.7766 - auc: 0.9179 - val_loss: 0.3636 - val_accuracy: 0.8524 - val_recall: 0.8437 - val_true_negatives: 2343.0000 - val_false_positives: 177.0000 - val_precision: 0.8573 - val_auc: 0.9673\n",
      "Epoch 98/100\n",
      "59/59 [==============================] - 0s 3ms/step - loss: 0.5171 - accuracy: 0.7588 - recall: 0.7224 - true_negatives: 5306.0000 - false_positives: 574.0000 - precision: 0.7872 - auc: 0.9216 - val_loss: 0.3496 - val_accuracy: 0.8611 - val_recall: 0.8500 - val_true_negatives: 2359.0000 - val_false_positives: 161.0000 - val_precision: 0.8693 - val_auc: 0.9683\n",
      "Epoch 99/100\n",
      "59/59 [==============================] - 0s 3ms/step - loss: 0.5179 - accuracy: 0.7551 - recall: 0.7228 - true_negatives: 5268.0000 - false_positives: 612.0000 - precision: 0.7764 - auc: 0.9212 - val_loss: 0.3920 - val_accuracy: 0.8238 - val_recall: 0.8159 - val_true_negatives: 2315.0000 - val_false_positives: 205.0000 - val_precision: 0.8337 - val_auc: 0.9589\n",
      "Epoch 100/100\n",
      "59/59 [==============================] - 0s 4ms/step - loss: 0.5170 - accuracy: 0.7531 - recall: 0.7136 - true_negatives: 5291.0000 - false_positives: 589.0000 - precision: 0.7808 - auc: 0.9212 - val_loss: 0.3563 - val_accuracy: 0.8492 - val_recall: 0.8444 - val_true_negatives: 2340.0000 - val_false_positives: 180.0000 - val_precision: 0.8553 - val_auc: 0.9672\n"
     ]
    }
   ],
   "source": [
    "# train model using features generated from VGG16 model\n",
    "epochs = 100\n",
    "batch_size = 50\n",
    "history = (modelCNN.fit(vgg_features_train, train_target, epochs=100, batch_size=50, validation_data=(vgg_features_val, val_target)))"
   ]
  },
  {
   "cell_type": "code",
   "execution_count": 14,
   "metadata": {},
   "outputs": [
    {
     "data": {
      "text/plain": [
       "<matplotlib.legend.Legend at 0x2bd00c3b8b0>"
      ]
     },
     "execution_count": 14,
     "metadata": {},
     "output_type": "execute_result"
    },
    {
     "data": {
      "image/png": "[encoded data removed]",
      "text/plain": [
       "<Figure size 864x360 with 1 Axes>"
      ]
     },
     "metadata": {
      "needs_background": "light"
     },
     "output_type": "display_data"
    }
   ],
   "source": [
    "plt.figure(figsize=(12,5))\n",
    "plt.plot(history.history['accuracy'], label='Entrenamiento')\n",
    "plt.plot(history.history['val_accuracy'], label = 'Validación')\n",
    "plt.xlabel('Iteración (epoch)')\n",
    "plt.ylabel('Exactitud (accuracy)')\n",
    "plt.ylim([0, 1])\n",
    "plt.grid()\n",
    "plt.title('Modelo '+str(i+1))\n",
    "plt.legend(loc='lower right')"
   ]
  },
  {
   "cell_type": "code",
   "execution_count": 15,
   "metadata": {},
   "outputs": [
    {
     "name": "stdout",
     "output_type": "stream",
     "text": [
      "Accuray (test) 0.8577777743339539\n",
      "Recall:  0.8533333539962769\n",
      "Specifity:  0.9336111111111111\n",
      "Precision:  0.8653520941734314\n",
      "f1-score:  0.859300700654796\n",
      "AUC:  0.9718661904335022\n"
     ]
    }
   ],
   "source": [
    "vgg_features_test = pretrained_model.predict(X_test.reshape(len(X_test),IMG_SIZE,IMG_SIZE,3))\n",
    "test_loss, test_acc, test_recall, true_neg, false_pos, test_prec, test_auc = modelCNN.evaluate(vgg_features_test,  test_target, verbose=0)\n",
    "spec = true_neg/(true_neg + false_pos)\n",
    "f1_s = 2 * test_recall * test_prec / (test_recall + test_prec)\n",
    "print('Accuray (test)', test_acc)\n",
    "print(\"Recall: \", test_recall)\n",
    "print(\"Specifity: \", spec)\n",
    "print(\"Precision: \", test_prec)\n",
    "print(\"f1-score: \", f1_s)\n",
    "print(\"AUC: \", test_auc)\n"
   ]
  },
  {
   "cell_type": "code",
   "execution_count": 16,
   "metadata": {},
   "outputs": [
    {
     "name": "stdout",
     "output_type": "stream",
     "text": [
      "   model  epochs  batch_size  accuracy  recall  specificity  precision  \\\n",
      "0  vgg16     100          50      0.86    0.85         0.93       0.87   \n",
      "\n",
      "   f1_score   auc  \n",
      "0      0.86  0.97  \n"
     ]
    }
   ],
   "source": [
    "model.append(pretrained_model.name)\n",
    "epoc.append(epochs)\n",
    "batch.append(batch_size)\n",
    "accuracy.append(round(test_acc,2))\n",
    "recall.append(round(test_recall,2))\n",
    "specificity.append(round(spec,2))\n",
    "precision.append(round(test_prec,2))\n",
    "f1_score.append(round(f1_s,2))\n",
    "au_curve.append(round(test_auc,2))\n",
    "\n",
    "test_data = {'model':model,\n",
    "        'epochs': epoc,\n",
    "        'batch_size': batch,\n",
    "        'accuracy': accuracy,\n",
    "        'recall': recall,\n",
    "        'specificity': specificity,\n",
    "        'precision': precision,\n",
    "        'f1_score': f1_score,\n",
    "        'auc': au_curve,\n",
    "        }\n",
    "\n",
    "df = pd.DataFrame(test_data)\n",
    "df.to_excel(\"./informe/tables/CNN.xlsx\") \n",
    "print(df)"
   ]
  },
  {
   "cell_type": "code",
   "execution_count": 17,
   "metadata": {},
   "outputs": [],
   "source": [
    "vgg_features_test = pretrained_model.predict(X_test.reshape(len(X_test),IMG_SIZE,IMG_SIZE,3))"
   ]
  },
  {
   "cell_type": "code",
   "execution_count": 18,
   "metadata": {},
   "outputs": [],
   "source": [
    "Clases=['Clase extra','Clase I','Clase II']\n",
    "t_pred = []\n",
    "for i in range(0,len(vgg_features_test)):\n",
    "    t_pred.append(np.argmax(modelCNN.predict(vgg_features_test[i:i+1])))"
   ]
  },
  {
   "cell_type": "code",
   "execution_count": 33,
   "metadata": {},
   "outputs": [
    {
     "data": {
      "text/plain": [
       "<sklearn.metrics._plot.confusion_matrix.ConfusionMatrixDisplay at 0x2bd1b802ca0>"
      ]
     },
     "execution_count": 33,
     "metadata": {},
     "output_type": "execute_result"
    },
    {
     "data": {
      "image/png": "[encoded data removed]",
      "text/plain": [
       "<Figure size 432x288 with 2 Axes>"
      ]
     },
     "metadata": {
      "needs_background": "light"
     },
     "output_type": "display_data"
    }
   ],
   "source": [
    "#tf.math.confusion_matrix(t_test, t_pred)\n",
    "\n",
    "cm = confusion_matrix(t_test, t_pred)\n",
    "disp = ConfusionMatrixDisplay(confusion_matrix=cm,display_labels=Clases)\n",
    "disp.plot()\n"
   ]
  },
  {
   "cell_type": "markdown",
   "metadata": {},
   "source": [
    "#### Se muestra un diagrama de cajas con los resultados  finales de los modelos. "
   ]
  },
  {
   "cell_type": "code",
   "execution_count": 40,
   "metadata": {},
   "outputs": [
    {
     "data": {
      "image/png": "[encoded data removed]",
      "text/plain": [
       "<Figure size 432x288 with 1 Axes>"
      ]
     },
     "metadata": {
      "needs_background": "light"
     },
     "output_type": "display_data"
    }
   ],
   "source": [
    "\n",
    "data = [scoresLDA['test_accuracy'], scoresKNN['test_accuracy'], scoresRF['test_accuracy'],history.history['val_accuracy'][-5:] ]\n",
    "fig7, ax = plt.subplots()\n",
    "ax.set_title('Modelos')\n",
    "ax.set_ylabel('Accuracy')\n",
    "ax.boxplot(data,labels=['LDA', 'KNN', 'RF','CNN']);"
   ]
  },
  {
   "cell_type": "markdown",
   "metadata": {},
   "source": [
    "#### Contraste de hipótesis:\n",
    "\n",
    "Primero se muestran los resultados obtenidos aplicando el test de [Kruskall-Wallis](https://docs.scipy.org/doc/scipy/reference/generated/scipy.stats.kruskal.html#scipy.stats.kruskal) y el test de [Anova](https://docs.scipy.org/doc/scipy/reference/generated/scipy.stats.f_oneway.html). Si se rechaza la hipótesis, entonces se puede afirmar que los modelos son diferentes y, posteriormente, se aplican dos test de comparación múltiple mediante el uso de la clase [MultiComparison](https://www.statsmodels.org/stable/generated/statsmodels.sandbox.stats.multicomp.MultiComparison.html). Estos métodos comprueban si hay diferencias significativas con un p<0.05, corrigiendo el hecho de que se están haciendo múltiples comparaciones que normalmente aumentarían la probabilidad de que se identifique una diferencia significativa. Un resultado de \"reject = true\" significa que se ha observado una diferencia significativa:\n",
    "- Método de Tukey. Se emplea para ello la función [tukeyhsd](https://www.statsmodels.org/stable/generated/statsmodels.sandbox.stats.multicomp.MultiComparison.tukeyhsd.html#statsmodels.sandbox.stats.multicomp.MultiComparison.tukeyhsd).\n",
    "- Método de Holm-Bonferroni. Se emplea para ello la función [allpairtest](https://www.statsmodels.org/stable/generated/statsmodels.sandbox.stats.multicomp.MultiComparison.allpairtest.html#statsmodels.sandbox.stats.multicomp.MultiComparison.allpairtest)"
   ]
  },
  {
   "cell_type": "code",
   "execution_count": 42,
   "metadata": {},
   "outputs": [
    {
     "name": "stdout",
     "output_type": "stream",
     "text": [
      "p-valor KrusW: 0.0004647475402630703\n",
      "Rechazamos la hipótesis: los modelos son diferentes\n",
      "\n"
     ]
    }
   ],
   "source": [
    "alpha = 0.05\n",
    "F_statistic, pVal = stats.kruskal(scoresLDA['test_accuracy'], scoresKNN['test_accuracy'], scoresRF['test_accuracy'],history.history['val_accuracy'][-5:])\n",
    "print ('p-valor KrusW:', pVal)\n",
    "if pVal <= alpha:\n",
    "    print('Rechazamos la hipótesis: los modelos son diferentes\\n')\n",
    "\n",
    "else:\n",
    "    print('Aceptamos la hipótesis: los modelos son iguales')"
   ]
  }
 ],
 "metadata": {
  "kernelspec": {
   "display_name": "Python 3",
   "language": "python",
   "name": "python3"
  },
  "language_info": {
   "codemirror_mode": {
    "name": "ipython",
    "version": 3
   },
   "file_extension": ".py",
   "mimetype": "text/x-python",
   "name": "python",
   "nbconvert_exporter": "python",
   "pygments_lexer": "ipython3",
   "version": "3.8.3"
  }
 },
 "nbformat": 4,
 "nbformat_minor": 2
}
