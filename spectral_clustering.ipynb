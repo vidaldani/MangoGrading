{
 "cells": [
  {
   "cell_type": "markdown",
   "metadata": {},
   "source": [
    "<img src=https://api-manager.universia.net/coreplatform-document-management/api/document-management/public/6ra7ymjkfi64845 width=\"300\" align=\"left\">\n",
    "<br />\n",
    "\n",
    "# Aprendizaje automático I\n",
    "#### <font color=green>*Máster en Informática Industrial y Robótica*</font>"
   ]
  },
  {
   "cell_type": "markdown",
   "metadata": {},
   "source": [
    "Daniel Vidal Soroa  \n",
    "Juan Diego Peña "
   ]
  },
  {
   "cell_type": "markdown",
   "metadata": {},
   "source": [
    "## Clasificación de mangos en tres clases según su presencia para la exportación, comercio local o procesamiento industrial"
   ]
  },
  {
   "cell_type": "markdown",
   "metadata": {},
   "source": [
    "#### Importación de las librerías:"
   ]
  },
  {
   "cell_type": "code",
   "execution_count": 25,
   "metadata": {},
   "outputs": [],
   "source": [
    "import os\n",
    "import numpy as np\n",
    "import pandas as pd\n",
    "import tensorflow as tf\n",
    "import matplotlib.pyplot as plt\n",
    "import scipy.stats as stats\n",
    "from statsmodels.stats.multicomp import pairwise_tukeyhsd, MultiComparison\n",
    "from sklearn.model_selection import cross_validate\n",
    "from sklearn.linear_model import LogisticRegression,LogisticRegressionCV\n",
    "from sklearn.discriminant_analysis import LinearDiscriminantAnalysis\n",
    "from sklearn.neighbors import KNeighborsClassifier\n",
    "from sklearn.ensemble import RandomForestClassifier\n",
    "from sklearn.tree import DecisionTreeClassifier, plot_tree\n",
    "from sklearn.utils import shuffle\n",
    "from skimage.io import imread\n",
    "from skimage.transform import resize\n",
    "from sklearn.metrics import roc_curve, auc, plot_confusion_matrix, classification_report, multilabel_confusion_matrix,ConfusionMatrixDisplay,confusion_matrix\n",
    "from sklearn.model_selection import train_test_split\n",
    "from random import seed\n",
    "from random import randint\n",
    "from tensorflow import keras\n",
    "from keras import layers, models, utils, datasets\n",
    "from keras import utils\n",
    "from keras.preprocessing.image import ImageDataGenerator\n",
    "from sklearn.model_selection import KFold, GridSearchCV\n",
    "from sklearn.feature_extraction import image\n",
    "from sklearn.cluster import spectral_clustering\n",
    "from sklearn.cluster import SpectralClustering\n",
    "from sklearn.utils import shuffle"
   ]
  },
  {
   "cell_type": "markdown",
   "metadata": {},
   "source": [
    "#### Lectura de los datos:"
   ]
  },
  {
   "cell_type": "code",
   "execution_count": 28,
   "metadata": {},
   "outputs": [],
   "source": [
    "IMG_SIZE = 32\n",
    "\n",
    "data_augmentation = tf.keras.Sequential([\n",
    "  layers.RandomFlip(\"horizontal_and_vertical\")\n",
    "])\n",
    "\n",
    "# seed random number generator\n",
    "seed(1)\n",
    "\n",
    "# Dimensión de entrada de las imágenes \n",
    "h = IMG_SIZE\n",
    "w = IMG_SIZE\n",
    "\n",
    "\n",
    "# Leer los nombres de las imágenes para importarlas\n",
    "input_class1_path = \"./Dataset/Grading_dataset/Class_I\"\n",
    "class1_names = os.listdir(input_class1_path)\n",
    "input_class2_path = \"./Dataset/Grading_dataset/Class_II\"\n",
    "class2_names = os.listdir(input_class2_path)\n",
    "input_classex_path = \"./Dataset/Grading_dataset/Extra_Class\"\n",
    "class3_names = os.listdir(input_classex_path)\n",
    "\n",
    "# Número de elementos en cada clase\n",
    "n = len(class1_names)\n",
    "\n",
    "\n",
    "# Definir listas para cargar imágenes\n",
    "class1 = np.ones([n, h, w, 3])\n",
    "class2 = np.ones([n, h, w, 3])\n",
    "class3 = np.ones([n, h, w, 3])\n",
    "t1=np.zeros(n)\n",
    "t2=np.ones(n)\n",
    "t3=np.ones(n) +1\n",
    "\n",
    "\n",
    "\n",
    "\n",
    "for i in range(0, n, 1):\n",
    "    # Para cada clase, se lee una imágen, se importa\n",
    "    img = resize(imread(\"./Dataset/Grading_dataset/Class_I/\" + class1_names[i]), (h, w))\n",
    "    class1[i] = img\n",
    "     \n",
    "    img = resize(imread(\"./Dataset/Grading_dataset/Class_II/\" + class2_names[i]), (h, w))\n",
    "    class2[i] = img\n",
    "    \n",
    "    img = resize(imread(\"./Dataset/Grading_dataset/Extra_Class/\" + class3_names[i]), (h, w))\n",
    "    class3[i] = img\n",
    "     \n",
    "class1,class2,class3 = shuffle(class1,class2,class3)\n",
    "X = np.zeros([n*3,h*w*3])\n",
    "t = np.zeros(n*3)\n",
    "X[0:200] = class3[0:200].reshape((n,h*w*3))\n",
    "X[200:400] = class1[0:200].reshape(n,h*w*3)\n",
    "X[400:600] = class2[0:200].reshape(n,h*w*3)\n",
    "t[0:200] = t1\n",
    "t[200:400] = t2 \n",
    "t[400:600] = t3\n",
    "X_train, X_test, y_train, y_test = train_test_split(X, t, test_size=0.33, random_state=42) \n",
    "\n",
    "\n"
   ]
  },
  {
   "cell_type": "code",
   "execution_count": 29,
   "metadata": {},
   "outputs": [
    {
     "data": {
      "text/plain": [
       "<sklearn.metrics._plot.confusion_matrix.ConfusionMatrixDisplay at 0x1fb8a5339a0>"
      ]
     },
     "execution_count": 29,
     "metadata": {},
     "output_type": "execute_result"
    },
    {
     "data": {
      "image/png": "[encoded data removed]",
      "text/plain": [
       "<Figure size 432x288 with 2 Axes>"
      ]
     },
     "metadata": {
      "needs_background": "light"
     },
     "output_type": "display_data"
    }
   ],
   "source": [
    "clustering = SpectralClustering(n_clusters=3,eigen_solver=\"arpack\",affinity=\"nearest_neighbors\")\n",
    "clustering.fit(X_train)\n",
    "y_pred =clustering.fit_predict(X_test)\n",
    "Clases=['Clase extra','Clase I','Clase II']\n",
    "cm = confusion_matrix(y_test, y_pred)\n",
    "disp = ConfusionMatrixDisplay(confusion_matrix=cm,display_labels=Clases)\n",
    "disp.plot()\n"
   ]
  },
  {
   "cell_type": "markdown",
   "metadata": {},
   "source": [
    "#### Se muestra la matriz de confusión para conocer el desempeño del algoritmo"
   ]
  },
  {
   "cell_type": "code",
   "execution_count": 42,
   "metadata": {},
   "outputs": [],
   "source": [
    "test_data = {'base model':model_name,\n",
    "        'algorithm': 'KMeans',\n",
    "        'accuracy': accuracy,\n",
    "        'eval time': eval_time\n",
    "        }\n",
    "\n",
    "now = datetime.now() # current date and time       \n",
    "time_ = {now.strftime(\"%d/%m/%Y %H:%M:%S\")}\n",
    "df = pd.DataFrame(test_data, index = time_)\n",
    "excel_name = \"./informe/tables/Clustering.xlsx\"\n",
    "append_data_to_excel(excel_name, df)"
   ]
  },
  {
   "cell_type": "markdown",
   "metadata": {},
   "source": [
    "#### Se crea una carpeta para guardar cada clase"
   ]
  },
  {
   "cell_type": "code",
   "execution_count": 18,
   "metadata": {},
   "outputs": [],
   "source": [
    "# Made folder to seperate images\n",
    "clusterI_path = \"./Dataset/Grading_dataset/cluster I\"\n",
    "clusterII_path = \"./Dataset/Grading_dataset/cluster II\"\n",
    "clusterIII_path = \"./Dataset/Grading_dataset/cluster III\"\n",
    "# Images will be seperated according to cluster they belong\n",
    "for i in range(len(image_cluster)):\n",
    "    if image_cluster['clusterid'][i]==0:\n",
    "        shutil.copy(os.path.join(input_cluster_path, image_cluster['image'][i]), clusterI_path)\n",
    "    elif image_cluster['clusterid'][i]==1:\n",
    "        shutil.copy(os.path.join(input_cluster_path, image_cluster['image'][i]), clusterII_path)\n",
    "    else:\n",
    "        shutil.copy(os.path.join(input_cluster_path, image_cluster['image'][i]), clusterIII_path)"
   ]
  }
 ],
 "metadata": {
  "kernelspec": {
   "display_name": "Python 3",
   "language": "python",
   "name": "python3"
  },
  "language_info": {
   "codemirror_mode": {
    "name": "ipython",
    "version": 3
   },
   "file_extension": ".py",
   "mimetype": "text/x-python",
   "name": "python",
   "nbconvert_exporter": "python",
   "pygments_lexer": "ipython3",
   "version": "3.8.3"
  }
 },
 "nbformat": 4,
 "nbformat_minor": 2
}
